{
 "cells": [
  {
   "cell_type": "code",
   "execution_count": 4,
   "metadata": {},
   "outputs": [],
   "source": [
    "from impfuncs import *\n",
    "import matplotlib.pyplot as plt\n",
    "\n",
    "from plotly.subplots import make_subplots\n",
    "import plotly.graph_objects as go\n",
    "from datetime import date\n",
    "dfs=populate_dfs()  \n"
   ]
  },
  {
   "cell_type": "code",
   "execution_count": 7,
   "metadata": {},
   "outputs": [
    {
     "name": "stderr",
     "output_type": "stream",
     "text": [
      "/private/var/mobile/Containers/Shared/AppGroup/8D8E6A4E-6B31-4B79-BEF3-5994929C193E/File Provider Storage/Repositories/covid_India/impfuncs.py:94: UserWarning:\n",
      "\n",
      "Boolean Series key will be reindexed to match DataFrame index.\n",
      "\n",
      "/private/var/mobile/Containers/Shared/AppGroup/8D8E6A4E-6B31-4B79-BEF3-5994929C193E/File Provider Storage/Repositories/covid_India/impfuncs.py:95: UserWarning:\n",
      "\n",
      "Boolean Series key will be reindexed to match DataFrame index.\n",
      "\n",
      "/private/var/mobile/Containers/Shared/AppGroup/8D8E6A4E-6B31-4B79-BEF3-5994929C193E/File Provider Storage/Repositories/covid_India/impfuncs.py:96: UserWarning:\n",
      "\n",
      "Boolean Series key will be reindexed to match DataFrame index.\n",
      "\n"
     ]
    },
    {
     "data": {
      "application/vnd.plotly.v1+json": {
       "config": {
        "plotlyServerURL": "https://plot.ly"
       },
       "data": [
        {
         "hovertext": [
          "(0. On 14-Mar there were 0",
          "(0. On 14-Mar there were 0",
          "(0. On 14-Mar there were 0",
          "(1. On 17-Mar there were 1",
          "(1. On 17-Mar there were 1",
          "(1. On 17-Mar there were 1",
          "(2. On 17-Mar there were 1",
          "(4. On 20-Mar there were 2",
          "(7. On 21-Mar there were 4",
          "(7. On 21-Mar there were 4",
          "(9. On 22-Mar there were 7",
          "(9. On 22-Mar there were 7",
          "(10. On 22-Mar there were 7",
          "(15. On 24-Mar there were 9",
          "(18. On 24-Mar there were 9",
          "(21. On 27-Mar there were 15",
          "(22. On 27-Mar there were 15",
          "(37. On 29-Mar there were 21",
          "(37. On 29-Mar there were 21",
          "(53. On 31-Mar there were 37",
          "(53. On 31-Mar there were 37",
          "(53. On 31-Mar there were 37",
          "(80. On 02-Apr there were 53",
          "(80. On 02-Apr there were 53",
          "(91. On 02-Apr there were 53",
          "(99. On 02-Apr there were 53",
          "(103. On 02-Apr there were 53",
          "(116. On 05-Apr there were 80",
          "(126. On 05-Apr there were 80",
          "(134. On 05-Apr there were 80",
          "(152. On 05-Apr there were 80",
          "(190. On 08-Apr there were 99",
          "(213. On 10-Apr there were 116",
          "(231. On 10-Apr there were 116",
          "(255. On 12-Apr there were 134",
          "(287. On 13-Apr there were 152",
          "(310. On 14-Apr there were 190",
          "(339. On 14-Apr there were 190",
          "(392. On 15-Apr there were 213",
          "(423. On 15-Apr there were 213",
          "(456. On 16-Apr there were 231",
          "(514. On 18-Apr there were 287",
          "(571. On 18-Apr there were 287",
          "(611. On 19-Apr there were 310",
          "(649. On 20-Apr there were 339",
          "(697. On 21-Apr there were 392",
          "(725. On 21-Apr there were 392",
          "(758. On 21-Apr there were 392",
          "(795. On 22-Apr there were 423",
          "(922. On 24-Apr there were 514",
          "(1198. On 26-Apr there were 611",
          "(1259. On 27-Apr there were 649",
          "(1344. On 28-Apr there were 697",
          "(1456. On 30-Apr there were 758",
          "(1548. On 01-May there were 795",
          "(1678. On 02-May there were 922",
          "(1786. On 02-May there were 922",
          "(1939. On 03-May there were 1198",
          "(2063. On 03-May there were 1198",
          "(2173. On 03-May there were 1198",
          "(2290. On 03-May there were 1198",
          "(2377. On 03-May there were 1198",
          "(2461. On 04-May there were 1259",
          "(2576. On 05-May there were 1344",
          "(2677. On 05-May there were 1344",
          "(2824. On 06-May there were 1456",
          "(2961. On 07-May there were 1548",
          "(3103. On 08-May there were 1678",
          "(3197. On 08-May there were 1678",
          "(3332. On 08-May there were 1678",
          "(3459. On 09-May there were 1786",
          "(3667. On 10-May there were 1939",
          "(3816. On 10-May there were 1939",
          "(4009. On 11-May there were 2063",
          "(4192. On 12-May there were 2173",
          "(4536. On 13-May there were 2290",
          "(4813. On 15-May there were 2461",
          "(5130. On 16-May there were 2576",
          "(5501. On 18-May there were 2824"
         ],
         "marker": {
          "color": "blue",
          "line": {
           "width": 2
          }
         },
         "mode": "lines+markers",
         "name": "Cases",
         "type": "scatter",
         "x": [
          "14-Mar",
          "15-Mar",
          "16-Mar",
          "17-Mar",
          "18-Mar",
          "19-Mar",
          "20-Mar",
          "21-Mar",
          "22-Mar",
          "23-Mar",
          "24-Mar",
          "25-Mar",
          "26-Mar",
          "27-Mar",
          "28-Mar",
          "29-Mar",
          "30-Mar",
          "31-Mar",
          "01-Apr",
          "02-Apr",
          "03-Apr",
          "04-Apr",
          "05-Apr",
          "06-Apr",
          "07-Apr",
          "08-Apr",
          "09-Apr",
          "10-Apr",
          "11-Apr",
          "12-Apr",
          "13-Apr",
          "14-Apr",
          "15-Apr",
          "16-Apr",
          "17-Apr",
          "18-Apr",
          "19-Apr",
          "20-Apr",
          "21-Apr",
          "22-Apr",
          "23-Apr",
          "24-Apr",
          "25-Apr",
          "26-Apr",
          "27-Apr",
          "28-Apr",
          "29-Apr",
          "30-Apr",
          "01-May",
          "02-May",
          "03-May",
          "04-May",
          "05-May",
          "06-May",
          "07-May",
          "08-May",
          "09-May",
          "10-May",
          "11-May",
          "12-May",
          "13-May",
          "14-May",
          "15-May",
          "16-May",
          "17-May",
          "18-May",
          "19-May",
          "20-May",
          "21-May",
          "22-May",
          "23-May",
          "24-May",
          "25-May",
          "26-May",
          "27-May",
          "28-May",
          "29-May",
          "30-May",
          "31-May"
         ],
         "y": [
          0,
          1,
          2,
          0,
          1,
          2,
          3,
          1,
          1,
          2,
          2,
          3,
          4,
          3,
          4,
          2,
          3,
          2,
          3,
          2,
          3,
          4,
          3,
          4,
          5,
          6,
          7,
          5,
          6,
          7,
          8,
          6,
          5,
          6,
          5,
          5,
          5,
          6,
          6,
          7,
          7,
          6,
          7,
          7,
          7,
          7,
          8,
          9,
          9,
          8,
          7,
          7,
          7,
          6,
          6,
          6,
          7,
          7,
          8,
          9,
          10,
          11,
          11,
          11,
          12,
          12,
          12,
          12,
          13,
          14,
          14,
          14,
          15,
          15,
          15,
          15,
          14,
          14,
          13
         ]
        },
        {
         "hovertext": [
          "(0. On 14-Mar there were 0",
          "(0. On 14-Mar there were 0",
          "(0. On 14-Mar there were 0",
          "(0. On 14-Mar there were 0",
          "(0. On 14-Mar there were 0",
          "(0. On 14-Mar there were 0",
          "(0. On 14-Mar there were 0",
          "(0. On 14-Mar there were 0",
          "(0. On 14-Mar there were 0",
          "(0. On 14-Mar there were 0",
          "(0. On 14-Mar there were 0",
          "(0. On 14-Mar there were 0",
          "(0. On 14-Mar there were 0",
          "(0. On 14-Mar there were 0",
          "(0. On 14-Mar there were 0",
          "(0. On 14-Mar there were 0",
          "(0. On 14-Mar there were 0",
          "(3. On 31-Mar there were 3",
          "(3. On 31-Mar there were 3",
          "(3. On 31-Mar there were 3",
          "(3. On 31-Mar there were 3",
          "(3. On 31-Mar there were 3",
          "(10. On 05-Apr there were 10",
          "(10. On 05-Apr there were 10",
          "(13. On 05-Apr there were 10",
          "(13. On 05-Apr there were 10",
          "(16. On 05-Apr there were 10",
          "(16. On 05-Apr there were 10",
          "(16. On 05-Apr there were 10",
          "(19. On 05-Apr there were 10",
          "(29. On 09-Apr there were 16",
          "(36. On 12-Apr there were 19",
          "(37. On 12-Apr there were 19",
          "(42. On 13-Apr there were 29",
          "(51. On 13-Apr there were 29",
          "(55. On 13-Apr there were 29",
          "(62. On 14-Apr there were 36",
          "(66. On 14-Apr there were 36",
          "(73. On 15-Apr there were 37",
          "(73. On 15-Apr there were 37",
          "(79. On 16-Apr there were 42",
          "(103. On 18-Apr there were 55",
          "(103. On 18-Apr there were 55",
          "(105. On 18-Apr there were 55",
          "(105. On 18-Apr there were 55",
          "(109. On 18-Apr there were 55",
          "(119. On 19-Apr there were 62",
          "(124. On 19-Apr there were 62",
          "(139. On 21-Apr there were 73",
          "(151. On 23-Apr there were 79",
          "(132. On 20-Apr there were 66",
          "(218. On 28-Apr there were 109",
          "(264. On 01-May there were 139",
          "(265. On 01-May there were 139",
          "(296. On 02-May there were 151",
          "(323. On 04-May there were 218",
          "(372. On 04-May there were 218",
          "(417. On 04-May there were 218",
          "(499. On 05-May there were 264",
          "(612. On 08-May there were 323",
          "(702. On 09-May there were 372",
          "(768. On 10-May there were 417",
          "(829. On 10-May there were 417",
          "(892. On 11-May there were 499",
          "(959. On 11-May there were 499",
          "(1006. On 12-May there were 612",
          "(1074. On 12-May there were 612",
          "(1136. On 12-May there were 612",
          "(1193. On 12-May there were 612",
          "(1221. On 12-May there were 612",
          "(1281. On 13-May there were 702",
          "(1339. On 13-May there were 702",
          "(1414. On 14-May there were 768",
          "(1486. On 14-May there were 768",
          "(1578. On 15-May there were 829",
          "(1668. On 16-May there were 892",
          "(1775. On 16-May there were 892",
          "(1970. On 18-May there were 1006",
          "(2157. On 20-May there were 1136"
         ],
         "marker": {
          "color": "green",
          "line": {
           "width": 2
          }
         },
         "mode": "lines+markers",
         "name": "Recovered",
         "type": "scatter",
         "x": [
          "14-Mar",
          "15-Mar",
          "16-Mar",
          "17-Mar",
          "18-Mar",
          "19-Mar",
          "20-Mar",
          "21-Mar",
          "22-Mar",
          "23-Mar",
          "24-Mar",
          "25-Mar",
          "26-Mar",
          "27-Mar",
          "28-Mar",
          "29-Mar",
          "30-Mar",
          "31-Mar",
          "01-Apr",
          "02-Apr",
          "03-Apr",
          "04-Apr",
          "05-Apr",
          "06-Apr",
          "07-Apr",
          "08-Apr",
          "09-Apr",
          "10-Apr",
          "11-Apr",
          "12-Apr",
          "13-Apr",
          "14-Apr",
          "15-Apr",
          "16-Apr",
          "17-Apr",
          "18-Apr",
          "19-Apr",
          "20-Apr",
          "21-Apr",
          "22-Apr",
          "23-Apr",
          "24-Apr",
          "25-Apr",
          "26-Apr",
          "27-Apr",
          "28-Apr",
          "29-Apr",
          "30-Apr",
          "01-May",
          "02-May",
          "03-May",
          "04-May",
          "05-May",
          "06-May",
          "07-May",
          "08-May",
          "09-May",
          "10-May",
          "11-May",
          "12-May",
          "13-May",
          "14-May",
          "15-May",
          "16-May",
          "17-May",
          "18-May",
          "19-May",
          "20-May",
          "21-May",
          "22-May",
          "23-May",
          "24-May",
          "25-May",
          "26-May",
          "27-May",
          "28-May",
          "29-May",
          "30-May",
          "31-May"
         ],
         "y": [
          0,
          1,
          2,
          3,
          4,
          5,
          6,
          7,
          8,
          9,
          10,
          11,
          12,
          13,
          14,
          15,
          16,
          0,
          1,
          2,
          3,
          4,
          0,
          1,
          2,
          3,
          4,
          5,
          6,
          7,
          4,
          2,
          3,
          3,
          4,
          5,
          5,
          6,
          6,
          7,
          7,
          6,
          7,
          8,
          9,
          10,
          10,
          11,
          10,
          9,
          13,
          6,
          4,
          5,
          5,
          4,
          5,
          6,
          6,
          4,
          4,
          4,
          5,
          5,
          6,
          6,
          7,
          8,
          9,
          10,
          10,
          11,
          11,
          12,
          12,
          12,
          13,
          12,
          11
         ]
        },
        {
         "hovertext": [
          "(0. On 14-Mar there were 0",
          "(0. On 14-Mar there were 0",
          "(0. On 14-Mar there were 0",
          "(0. On 14-Mar there were 0",
          "(0. On 14-Mar there were 0",
          "(0. On 14-Mar there were 0",
          "(0. On 14-Mar there were 0",
          "(0. On 14-Mar there were 0",
          "(0. On 14-Mar there were 0",
          "(1. On 23-Mar there were 1",
          "(1. On 23-Mar there were 1",
          "(1. On 23-Mar there were 1",
          "(1. On 23-Mar there were 1",
          "(1. On 23-Mar there were 1",
          "(1. On 23-Mar there were 1",
          "(1. On 23-Mar there were 1",
          "(2. On 23-Mar there were 1",
          "(3. On 30-Mar there were 2",
          "(3. On 30-Mar there were 2",
          "(3. On 30-Mar there were 2",
          "(3. On 30-Mar there were 2",
          "(3. On 30-Mar there were 2",
          "(3. On 30-Mar there were 2",
          "(3. On 30-Mar there were 2",
          "(3. On 30-Mar there were 2",
          "(5. On 31-Mar there were 3",
          "(5. On 31-Mar there were 3",
          "(5. On 31-Mar there were 3",
          "(5. On 31-Mar there were 3",
          "(7. On 08-Apr there were 5",
          "(7. On 08-Apr there were 5",
          "(7. On 08-Apr there were 5",
          "(7. On 08-Apr there were 5",
          "(10. On 08-Apr there were 5",
          "(10. On 08-Apr there were 5",
          "(12. On 12-Apr there were 7",
          "(12. On 12-Apr there were 7",
          "(12. On 12-Apr there were 7",
          "(15. On 16-Apr there were 10",
          "(15. On 16-Apr there were 10",
          "(15. On 16-Apr there were 10",
          "(18. On 16-Apr there were 10",
          "(18. On 16-Apr there were 10",
          "(20. On 16-Apr there were 10",
          "(20. On 16-Apr there were 10",
          "(22. On 18-Apr there were 12",
          "(22. On 18-Apr there were 12",
          "(33. On 24-Apr there were 18",
          "(41. On 28-Apr there were 22",
          "(48. On 30-Apr there were 33",
          "(122. On 03-May there were 122",
          "(133. On 03-May there were 122",
          "(140. On 03-May there were 122",
          "(144. On 03-May there were 122",
          "(151. On 03-May there were 122",
          "(160. On 03-May there were 122",
          "(171. On 03-May there were 122",
          "(185. On 03-May there were 122",
          "(190. On 03-May there were 122",
          "(198. On 03-May there were 122",
          "(207. On 03-May there were 122",
          "(215. On 03-May there were 122",
          "(225. On 03-May there were 122",
          "(232. On 03-May there were 122",
          "(238. On 03-May there were 122",
          "(244. On 03-May there were 122",
          "(250. On 04-May there were 133",
          "(253. On 04-May there were 133",
          "(259. On 04-May there were 133",
          "(265. On 04-May there were 133",
          "(269. On 05-May there were 140",
          "(272. On 05-May there were 140",
          "(278. On 05-May there were 140",
          "(283. On 06-May there were 144",
          "(289. On 07-May there were 151",
          "(295. On 07-May there were 151",
          "(302. On 07-May there were 151",
          "(309. On 08-May there were 160",
          "(317. On 08-May there were 160"
         ],
         "marker": {
          "color": "red",
          "line": {
           "width": 2
          }
         },
         "mode": "lines+markers",
         "name": "Dead",
         "type": "scatter",
         "x": [
          "14-Mar",
          "15-Mar",
          "16-Mar",
          "17-Mar",
          "18-Mar",
          "19-Mar",
          "20-Mar",
          "21-Mar",
          "22-Mar",
          "23-Mar",
          "24-Mar",
          "25-Mar",
          "26-Mar",
          "27-Mar",
          "28-Mar",
          "29-Mar",
          "30-Mar",
          "31-Mar",
          "01-Apr",
          "02-Apr",
          "03-Apr",
          "04-Apr",
          "05-Apr",
          "06-Apr",
          "07-Apr",
          "08-Apr",
          "09-Apr",
          "10-Apr",
          "11-Apr",
          "12-Apr",
          "13-Apr",
          "14-Apr",
          "15-Apr",
          "16-Apr",
          "17-Apr",
          "18-Apr",
          "19-Apr",
          "20-Apr",
          "21-Apr",
          "22-Apr",
          "23-Apr",
          "24-Apr",
          "25-Apr",
          "26-Apr",
          "27-Apr",
          "28-Apr",
          "29-Apr",
          "30-Apr",
          "01-May",
          "02-May",
          "03-May",
          "04-May",
          "05-May",
          "06-May",
          "07-May",
          "08-May",
          "09-May",
          "10-May",
          "11-May",
          "12-May",
          "13-May",
          "14-May",
          "15-May",
          "16-May",
          "17-May",
          "18-May",
          "19-May",
          "20-May",
          "21-May",
          "22-May",
          "23-May",
          "24-May",
          "25-May",
          "26-May",
          "27-May",
          "28-May",
          "29-May",
          "30-May",
          "31-May"
         ],
         "y": [
          0,
          1,
          2,
          3,
          4,
          5,
          6,
          7,
          8,
          0,
          1,
          2,
          3,
          4,
          5,
          6,
          7,
          1,
          2,
          3,
          4,
          5,
          6,
          7,
          8,
          8,
          9,
          10,
          11,
          4,
          5,
          6,
          7,
          8,
          9,
          6,
          7,
          8,
          5,
          6,
          7,
          8,
          9,
          10,
          11,
          10,
          11,
          6,
          3,
          2,
          0,
          1,
          2,
          3,
          4,
          5,
          6,
          7,
          8,
          9,
          10,
          11,
          12,
          13,
          14,
          15,
          15,
          16,
          17,
          18,
          18,
          19,
          20,
          20,
          20,
          21,
          22,
          22,
          23
         ]
        },
        {
         "hovertext": [
          "(0. On 14-Mar there were 0",
          "(0. On 14-Mar there were 0",
          "(0. On 14-Mar there were 0",
          "(1. On 17-Mar there were 1",
          "(1. On 17-Mar there were 1",
          "(1. On 17-Mar there were 1",
          "(2. On 17-Mar there were 1",
          "(4. On 20-Mar there were 2",
          "(7. On 21-Mar there were 4",
          "(6. On 21-Mar there were 4",
          "(8. On 21-Mar there were 4",
          "(8. On 21-Mar there were 4",
          "(9. On 22-Mar there were 7",
          "(14. On 22-Mar there were 7",
          "(17. On 26-Mar there were 9",
          "(20. On 27-Mar there were 14",
          "(20. On 27-Mar there were 14",
          "(31. On 28-Mar there were 17",
          "(31. On 28-Mar there were 17",
          "(47. On 31-Mar there were 31",
          "(47. On 31-Mar there were 31",
          "(47. On 31-Mar there were 31",
          "(67. On 02-Apr there were 47",
          "(67. On 02-Apr there were 47",
          "(75. On 02-Apr there were 47",
          "(81. On 02-Apr there were 47",
          "(82. On 02-Apr there were 47",
          "(95. On 05-Apr there were 67",
          "(105. On 05-Apr there were 67",
          "(108. On 05-Apr there were 67",
          "(116. On 05-Apr there were 67",
          "(147. On 07-Apr there were 75",
          "(169. On 10-Apr there were 95",
          "(179. On 10-Apr there were 95",
          "(194. On 11-Apr there were 105",
          "(220. On 13-Apr there were 116",
          "(236. On 14-Apr there were 147",
          "(261. On 14-Apr there were 147",
          "(304. On 15-Apr there were 169",
          "(335. On 15-Apr there were 169",
          "(362. On 17-Apr there were 194",
          "(393. On 18-Apr there were 220",
          "(450. On 19-Apr there were 236",
          "(486. On 20-Apr there were 261",
          "(524. On 21-Apr there were 304",
          "(566. On 21-Apr there were 304",
          "(584. On 21-Apr there were 304",
          "(601. On 21-Apr there were 304",
          "(615. On 22-Apr there were 335",
          "(723. On 23-Apr there were 362",
          "(944. On 26-Apr there were 486",
          "(908. On 26-Apr there were 486",
          "(940. On 26-Apr there were 486",
          "(1047. On 27-Apr there were 524",
          "(1101. On 28-Apr there were 566",
          "(1195. On 30-Apr there were 601",
          "(1243. On 02-May there were 723",
          "(1337. On 02-May there were 723",
          "(1374. On 02-May there were 723",
          "(1363. On 02-May there were 723",
          "(1381. On 02-May there were 723",
          "(1394. On 02-May there were 723",
          "(1407. On 02-May there were 723",
          "(1452. On 03-May there were 944",
          "(1480. On 03-May there were 944",
          "(1574. On 03-May there were 944",
          "(1637. On 03-May there were 944",
          "(1714. On 03-May there were 944",
          "(1745. On 03-May there were 944",
          "(1846. On 03-May there were 944",
          "(1909. On 06-May there were 1047",
          "(2056. On 06-May there were 1047",
          "(2124. On 07-May there were 1101",
          "(2240. On 08-May there were 1195",
          "(2325. On 08-May there were 1195",
          "(2573. On 10-May there were 1337",
          "(2736. On 11-May there were 1374",
          "(2851. On 16-May there were 1452",
          "(3027. On 18-May there were 1574"
         ],
         "marker": {
          "color": "black",
          "line": {
           "width": 2
          }
         },
         "mode": "lines+markers",
         "name": "Active",
         "type": "scatter",
         "x": [
          "14-Mar",
          "15-Mar",
          "16-Mar",
          "17-Mar",
          "18-Mar",
          "19-Mar",
          "20-Mar",
          "21-Mar",
          "22-Mar",
          "23-Mar",
          "24-Mar",
          "25-Mar",
          "26-Mar",
          "27-Mar",
          "28-Mar",
          "29-Mar",
          "30-Mar",
          "31-Mar",
          "01-Apr",
          "02-Apr",
          "03-Apr",
          "04-Apr",
          "05-Apr",
          "06-Apr",
          "07-Apr",
          "08-Apr",
          "09-Apr",
          "10-Apr",
          "11-Apr",
          "12-Apr",
          "13-Apr",
          "14-Apr",
          "15-Apr",
          "16-Apr",
          "17-Apr",
          "18-Apr",
          "19-Apr",
          "20-Apr",
          "21-Apr",
          "22-Apr",
          "23-Apr",
          "24-Apr",
          "25-Apr",
          "26-Apr",
          "27-Apr",
          "28-Apr",
          "29-Apr",
          "30-Apr",
          "01-May",
          "02-May",
          "03-May",
          "04-May",
          "05-May",
          "06-May",
          "07-May",
          "08-May",
          "09-May",
          "10-May",
          "11-May",
          "12-May",
          "13-May",
          "14-May",
          "15-May",
          "16-May",
          "17-May",
          "18-May",
          "19-May",
          "20-May",
          "21-May",
          "22-May",
          "23-May",
          "24-May",
          "25-May",
          "26-May",
          "27-May",
          "28-May",
          "29-May",
          "30-May",
          "31-May"
         ],
         "y": [
          0,
          1,
          2,
          0,
          1,
          2,
          3,
          1,
          1,
          2,
          3,
          4,
          4,
          5,
          2,
          2,
          3,
          3,
          4,
          2,
          3,
          4,
          3,
          4,
          5,
          6,
          7,
          5,
          6,
          7,
          8,
          7,
          5,
          6,
          6,
          5,
          5,
          6,
          6,
          7,
          6,
          6,
          6,
          6,
          6,
          7,
          8,
          9,
          9,
          9,
          7,
          8,
          9,
          9,
          9,
          8,
          7,
          8,
          9,
          10,
          11,
          12,
          13,
          13,
          14,
          15,
          16,
          17,
          18,
          19,
          17,
          18,
          18,
          18,
          19,
          18,
          18,
          14,
          13
         ]
        }
       ],
       "layout": {
        "font": {
         "color": "#7f7f7f",
         "family": "Courier New, monospace",
         "size": 18
        },
        "height": 600,
        "template": {
         "data": {
          "bar": [
           {
            "error_x": {
             "color": "#2a3f5f"
            },
            "error_y": {
             "color": "#2a3f5f"
            },
            "marker": {
             "line": {
              "color": "#E5ECF6",
              "width": 0.5
             }
            },
            "type": "bar"
           }
          ],
          "barpolar": [
           {
            "marker": {
             "line": {
              "color": "#E5ECF6",
              "width": 0.5
             }
            },
            "type": "barpolar"
           }
          ],
          "carpet": [
           {
            "aaxis": {
             "endlinecolor": "#2a3f5f",
             "gridcolor": "white",
             "linecolor": "white",
             "minorgridcolor": "white",
             "startlinecolor": "#2a3f5f"
            },
            "baxis": {
             "endlinecolor": "#2a3f5f",
             "gridcolor": "white",
             "linecolor": "white",
             "minorgridcolor": "white",
             "startlinecolor": "#2a3f5f"
            },
            "type": "carpet"
           }
          ],
          "choropleth": [
           {
            "colorbar": {
             "outlinewidth": 0,
             "ticks": ""
            },
            "type": "choropleth"
           }
          ],
          "contour": [
           {
            "colorbar": {
             "outlinewidth": 0,
             "ticks": ""
            },
            "colorscale": [
             [
              0,
              "#0d0887"
             ],
             [
              0.1111111111111111,
              "#46039f"
             ],
             [
              0.2222222222222222,
              "#7201a8"
             ],
             [
              0.3333333333333333,
              "#9c179e"
             ],
             [
              0.4444444444444444,
              "#bd3786"
             ],
             [
              0.5555555555555556,
              "#d8576b"
             ],
             [
              0.6666666666666666,
              "#ed7953"
             ],
             [
              0.7777777777777778,
              "#fb9f3a"
             ],
             [
              0.8888888888888888,
              "#fdca26"
             ],
             [
              1,
              "#f0f921"
             ]
            ],
            "type": "contour"
           }
          ],
          "contourcarpet": [
           {
            "colorbar": {
             "outlinewidth": 0,
             "ticks": ""
            },
            "type": "contourcarpet"
           }
          ],
          "heatmap": [
           {
            "colorbar": {
             "outlinewidth": 0,
             "ticks": ""
            },
            "colorscale": [
             [
              0,
              "#0d0887"
             ],
             [
              0.1111111111111111,
              "#46039f"
             ],
             [
              0.2222222222222222,
              "#7201a8"
             ],
             [
              0.3333333333333333,
              "#9c179e"
             ],
             [
              0.4444444444444444,
              "#bd3786"
             ],
             [
              0.5555555555555556,
              "#d8576b"
             ],
             [
              0.6666666666666666,
              "#ed7953"
             ],
             [
              0.7777777777777778,
              "#fb9f3a"
             ],
             [
              0.8888888888888888,
              "#fdca26"
             ],
             [
              1,
              "#f0f921"
             ]
            ],
            "type": "heatmap"
           }
          ],
          "heatmapgl": [
           {
            "colorbar": {
             "outlinewidth": 0,
             "ticks": ""
            },
            "colorscale": [
             [
              0,
              "#0d0887"
             ],
             [
              0.1111111111111111,
              "#46039f"
             ],
             [
              0.2222222222222222,
              "#7201a8"
             ],
             [
              0.3333333333333333,
              "#9c179e"
             ],
             [
              0.4444444444444444,
              "#bd3786"
             ],
             [
              0.5555555555555556,
              "#d8576b"
             ],
             [
              0.6666666666666666,
              "#ed7953"
             ],
             [
              0.7777777777777778,
              "#fb9f3a"
             ],
             [
              0.8888888888888888,
              "#fdca26"
             ],
             [
              1,
              "#f0f921"
             ]
            ],
            "type": "heatmapgl"
           }
          ],
          "histogram": [
           {
            "marker": {
             "colorbar": {
              "outlinewidth": 0,
              "ticks": ""
             }
            },
            "type": "histogram"
           }
          ],
          "histogram2d": [
           {
            "colorbar": {
             "outlinewidth": 0,
             "ticks": ""
            },
            "colorscale": [
             [
              0,
              "#0d0887"
             ],
             [
              0.1111111111111111,
              "#46039f"
             ],
             [
              0.2222222222222222,
              "#7201a8"
             ],
             [
              0.3333333333333333,
              "#9c179e"
             ],
             [
              0.4444444444444444,
              "#bd3786"
             ],
             [
              0.5555555555555556,
              "#d8576b"
             ],
             [
              0.6666666666666666,
              "#ed7953"
             ],
             [
              0.7777777777777778,
              "#fb9f3a"
             ],
             [
              0.8888888888888888,
              "#fdca26"
             ],
             [
              1,
              "#f0f921"
             ]
            ],
            "type": "histogram2d"
           }
          ],
          "histogram2dcontour": [
           {
            "colorbar": {
             "outlinewidth": 0,
             "ticks": ""
            },
            "colorscale": [
             [
              0,
              "#0d0887"
             ],
             [
              0.1111111111111111,
              "#46039f"
             ],
             [
              0.2222222222222222,
              "#7201a8"
             ],
             [
              0.3333333333333333,
              "#9c179e"
             ],
             [
              0.4444444444444444,
              "#bd3786"
             ],
             [
              0.5555555555555556,
              "#d8576b"
             ],
             [
              0.6666666666666666,
              "#ed7953"
             ],
             [
              0.7777777777777778,
              "#fb9f3a"
             ],
             [
              0.8888888888888888,
              "#fdca26"
             ],
             [
              1,
              "#f0f921"
             ]
            ],
            "type": "histogram2dcontour"
           }
          ],
          "mesh3d": [
           {
            "colorbar": {
             "outlinewidth": 0,
             "ticks": ""
            },
            "type": "mesh3d"
           }
          ],
          "parcoords": [
           {
            "line": {
             "colorbar": {
              "outlinewidth": 0,
              "ticks": ""
             }
            },
            "type": "parcoords"
           }
          ],
          "pie": [
           {
            "automargin": true,
            "type": "pie"
           }
          ],
          "scatter": [
           {
            "marker": {
             "colorbar": {
              "outlinewidth": 0,
              "ticks": ""
             }
            },
            "type": "scatter"
           }
          ],
          "scatter3d": [
           {
            "line": {
             "colorbar": {
              "outlinewidth": 0,
              "ticks": ""
             }
            },
            "marker": {
             "colorbar": {
              "outlinewidth": 0,
              "ticks": ""
             }
            },
            "type": "scatter3d"
           }
          ],
          "scattercarpet": [
           {
            "marker": {
             "colorbar": {
              "outlinewidth": 0,
              "ticks": ""
             }
            },
            "type": "scattercarpet"
           }
          ],
          "scattergeo": [
           {
            "marker": {
             "colorbar": {
              "outlinewidth": 0,
              "ticks": ""
             }
            },
            "type": "scattergeo"
           }
          ],
          "scattergl": [
           {
            "marker": {
             "colorbar": {
              "outlinewidth": 0,
              "ticks": ""
             }
            },
            "type": "scattergl"
           }
          ],
          "scattermapbox": [
           {
            "marker": {
             "colorbar": {
              "outlinewidth": 0,
              "ticks": ""
             }
            },
            "type": "scattermapbox"
           }
          ],
          "scatterpolar": [
           {
            "marker": {
             "colorbar": {
              "outlinewidth": 0,
              "ticks": ""
             }
            },
            "type": "scatterpolar"
           }
          ],
          "scatterpolargl": [
           {
            "marker": {
             "colorbar": {
              "outlinewidth": 0,
              "ticks": ""
             }
            },
            "type": "scatterpolargl"
           }
          ],
          "scatterternary": [
           {
            "marker": {
             "colorbar": {
              "outlinewidth": 0,
              "ticks": ""
             }
            },
            "type": "scatterternary"
           }
          ],
          "surface": [
           {
            "colorbar": {
             "outlinewidth": 0,
             "ticks": ""
            },
            "colorscale": [
             [
              0,
              "#0d0887"
             ],
             [
              0.1111111111111111,
              "#46039f"
             ],
             [
              0.2222222222222222,
              "#7201a8"
             ],
             [
              0.3333333333333333,
              "#9c179e"
             ],
             [
              0.4444444444444444,
              "#bd3786"
             ],
             [
              0.5555555555555556,
              "#d8576b"
             ],
             [
              0.6666666666666666,
              "#ed7953"
             ],
             [
              0.7777777777777778,
              "#fb9f3a"
             ],
             [
              0.8888888888888888,
              "#fdca26"
             ],
             [
              1,
              "#f0f921"
             ]
            ],
            "type": "surface"
           }
          ],
          "table": [
           {
            "cells": {
             "fill": {
              "color": "#EBF0F8"
             },
             "line": {
              "color": "white"
             }
            },
            "header": {
             "fill": {
              "color": "#C8D4E3"
             },
             "line": {
              "color": "white"
             }
            },
            "type": "table"
           }
          ]
         },
         "layout": {
          "annotationdefaults": {
           "arrowcolor": "#2a3f5f",
           "arrowhead": 0,
           "arrowwidth": 1
          },
          "coloraxis": {
           "colorbar": {
            "outlinewidth": 0,
            "ticks": ""
           }
          },
          "colorscale": {
           "diverging": [
            [
             0,
             "#8e0152"
            ],
            [
             0.1,
             "#c51b7d"
            ],
            [
             0.2,
             "#de77ae"
            ],
            [
             0.3,
             "#f1b6da"
            ],
            [
             0.4,
             "#fde0ef"
            ],
            [
             0.5,
             "#f7f7f7"
            ],
            [
             0.6,
             "#e6f5d0"
            ],
            [
             0.7,
             "#b8e186"
            ],
            [
             0.8,
             "#7fbc41"
            ],
            [
             0.9,
             "#4d9221"
            ],
            [
             1,
             "#276419"
            ]
           ],
           "sequential": [
            [
             0,
             "#0d0887"
            ],
            [
             0.1111111111111111,
             "#46039f"
            ],
            [
             0.2222222222222222,
             "#7201a8"
            ],
            [
             0.3333333333333333,
             "#9c179e"
            ],
            [
             0.4444444444444444,
             "#bd3786"
            ],
            [
             0.5555555555555556,
             "#d8576b"
            ],
            [
             0.6666666666666666,
             "#ed7953"
            ],
            [
             0.7777777777777778,
             "#fb9f3a"
            ],
            [
             0.8888888888888888,
             "#fdca26"
            ],
            [
             1,
             "#f0f921"
            ]
           ],
           "sequentialminus": [
            [
             0,
             "#0d0887"
            ],
            [
             0.1111111111111111,
             "#46039f"
            ],
            [
             0.2222222222222222,
             "#7201a8"
            ],
            [
             0.3333333333333333,
             "#9c179e"
            ],
            [
             0.4444444444444444,
             "#bd3786"
            ],
            [
             0.5555555555555556,
             "#d8576b"
            ],
            [
             0.6666666666666666,
             "#ed7953"
            ],
            [
             0.7777777777777778,
             "#fb9f3a"
            ],
            [
             0.8888888888888888,
             "#fdca26"
            ],
            [
             1,
             "#f0f921"
            ]
           ]
          },
          "colorway": [
           "#636efa",
           "#EF553B",
           "#00cc96",
           "#ab63fa",
           "#FFA15A",
           "#19d3f3",
           "#FF6692",
           "#B6E880",
           "#FF97FF",
           "#FECB52"
          ],
          "font": {
           "color": "#2a3f5f"
          },
          "geo": {
           "bgcolor": "white",
           "lakecolor": "white",
           "landcolor": "#E5ECF6",
           "showlakes": true,
           "showland": true,
           "subunitcolor": "white"
          },
          "hoverlabel": {
           "align": "left"
          },
          "hovermode": "closest",
          "mapbox": {
           "style": "light"
          },
          "paper_bgcolor": "white",
          "plot_bgcolor": "#E5ECF6",
          "polar": {
           "angularaxis": {
            "gridcolor": "white",
            "linecolor": "white",
            "ticks": ""
           },
           "bgcolor": "#E5ECF6",
           "radialaxis": {
            "gridcolor": "white",
            "linecolor": "white",
            "ticks": ""
           }
          },
          "scene": {
           "xaxis": {
            "backgroundcolor": "#E5ECF6",
            "gridcolor": "white",
            "gridwidth": 2,
            "linecolor": "white",
            "showbackground": true,
            "ticks": "",
            "zerolinecolor": "white"
           },
           "yaxis": {
            "backgroundcolor": "#E5ECF6",
            "gridcolor": "white",
            "gridwidth": 2,
            "linecolor": "white",
            "showbackground": true,
            "ticks": "",
            "zerolinecolor": "white"
           },
           "zaxis": {
            "backgroundcolor": "#E5ECF6",
            "gridcolor": "white",
            "gridwidth": 2,
            "linecolor": "white",
            "showbackground": true,
            "ticks": "",
            "zerolinecolor": "white"
           }
          },
          "shapedefaults": {
           "line": {
            "color": "#2a3f5f"
           }
          },
          "ternary": {
           "aaxis": {
            "gridcolor": "white",
            "linecolor": "white",
            "ticks": ""
           },
           "baxis": {
            "gridcolor": "white",
            "linecolor": "white",
            "ticks": ""
           },
           "bgcolor": "#E5ECF6",
           "caxis": {
            "gridcolor": "white",
            "linecolor": "white",
            "ticks": ""
           }
          },
          "title": {
           "x": 0.05
          },
          "xaxis": {
           "automargin": true,
           "gridcolor": "white",
           "linecolor": "white",
           "ticks": "",
           "title": {
            "standoff": 15
           },
           "zerolinecolor": "white",
           "zerolinewidth": 2
          },
          "yaxis": {
           "automargin": true,
           "gridcolor": "white",
           "linecolor": "white",
           "ticks": "",
           "title": {
            "standoff": 15
           },
           "zerolinecolor": "white",
           "zerolinewidth": 2
          }
         }
        },
        "title": {
         "text": "Doubling days for West Bengal"
        },
        "width": 800,
        "xaxis": {
         "title": {
          "text": "Days"
         }
        },
        "yaxis": {
         "title": {
          "text": "Day"
         }
        }
       }
      },
      "text/html": [
       "<div>\n",
       "        \n",
       "        \n",
       "            <div id=\"83c54343-17d4-4325-bdbc-acd4ade2fa68\" class=\"plotly-graph-div\" style=\"height:600px; width:800px;\"></div>\n",
       "            <script type=\"text/javascript\">\n",
       "                require([\"plotly\"], function(Plotly) {\n",
       "                    window.PLOTLYENV=window.PLOTLYENV || {};\n",
       "                    \n",
       "                if (document.getElementById(\"83c54343-17d4-4325-bdbc-acd4ade2fa68\")) {\n",
       "                    Plotly.newPlot(\n",
       "                        '83c54343-17d4-4325-bdbc-acd4ade2fa68',\n",
       "                        [{\"hovertext\": [\"(0. On 14-Mar there were 0\", \"(0. On 14-Mar there were 0\", \"(0. On 14-Mar there were 0\", \"(1. On 17-Mar there were 1\", \"(1. On 17-Mar there were 1\", \"(1. On 17-Mar there were 1\", \"(2. On 17-Mar there were 1\", \"(4. On 20-Mar there were 2\", \"(7. On 21-Mar there were 4\", \"(7. On 21-Mar there were 4\", \"(9. On 22-Mar there were 7\", \"(9. On 22-Mar there were 7\", \"(10. On 22-Mar there were 7\", \"(15. On 24-Mar there were 9\", \"(18. On 24-Mar there were 9\", \"(21. On 27-Mar there were 15\", \"(22. On 27-Mar there were 15\", \"(37. On 29-Mar there were 21\", \"(37. On 29-Mar there were 21\", \"(53. On 31-Mar there were 37\", \"(53. On 31-Mar there were 37\", \"(53. On 31-Mar there were 37\", \"(80. On 02-Apr there were 53\", \"(80. On 02-Apr there were 53\", \"(91. On 02-Apr there were 53\", \"(99. On 02-Apr there were 53\", \"(103. On 02-Apr there were 53\", \"(116. On 05-Apr there were 80\", \"(126. On 05-Apr there were 80\", \"(134. On 05-Apr there were 80\", \"(152. On 05-Apr there were 80\", \"(190. On 08-Apr there were 99\", \"(213. On 10-Apr there were 116\", \"(231. On 10-Apr there were 116\", \"(255. On 12-Apr there were 134\", \"(287. On 13-Apr there were 152\", \"(310. On 14-Apr there were 190\", \"(339. On 14-Apr there were 190\", \"(392. On 15-Apr there were 213\", \"(423. On 15-Apr there were 213\", \"(456. On 16-Apr there were 231\", \"(514. On 18-Apr there were 287\", \"(571. On 18-Apr there were 287\", \"(611. On 19-Apr there were 310\", \"(649. On 20-Apr there were 339\", \"(697. On 21-Apr there were 392\", \"(725. On 21-Apr there were 392\", \"(758. On 21-Apr there were 392\", \"(795. On 22-Apr there were 423\", \"(922. On 24-Apr there were 514\", \"(1198. On 26-Apr there were 611\", \"(1259. On 27-Apr there were 649\", \"(1344. On 28-Apr there were 697\", \"(1456. On 30-Apr there were 758\", \"(1548. On 01-May there were 795\", \"(1678. On 02-May there were 922\", \"(1786. On 02-May there were 922\", \"(1939. On 03-May there were 1198\", \"(2063. On 03-May there were 1198\", \"(2173. On 03-May there were 1198\", \"(2290. On 03-May there were 1198\", \"(2377. On 03-May there were 1198\", \"(2461. On 04-May there were 1259\", \"(2576. On 05-May there were 1344\", \"(2677. On 05-May there were 1344\", \"(2824. On 06-May there were 1456\", \"(2961. On 07-May there were 1548\", \"(3103. On 08-May there were 1678\", \"(3197. On 08-May there were 1678\", \"(3332. On 08-May there were 1678\", \"(3459. On 09-May there were 1786\", \"(3667. On 10-May there were 1939\", \"(3816. On 10-May there were 1939\", \"(4009. On 11-May there were 2063\", \"(4192. On 12-May there were 2173\", \"(4536. On 13-May there were 2290\", \"(4813. On 15-May there were 2461\", \"(5130. On 16-May there were 2576\", \"(5501. On 18-May there were 2824\"], \"marker\": {\"color\": \"blue\", \"line\": {\"width\": 2}}, \"mode\": \"lines+markers\", \"name\": \"Cases\", \"type\": \"scatter\", \"x\": [\"14-Mar\", \"15-Mar\", \"16-Mar\", \"17-Mar\", \"18-Mar\", \"19-Mar\", \"20-Mar\", \"21-Mar\", \"22-Mar\", \"23-Mar\", \"24-Mar\", \"25-Mar\", \"26-Mar\", \"27-Mar\", \"28-Mar\", \"29-Mar\", \"30-Mar\", \"31-Mar\", \"01-Apr\", \"02-Apr\", \"03-Apr\", \"04-Apr\", \"05-Apr\", \"06-Apr\", \"07-Apr\", \"08-Apr\", \"09-Apr\", \"10-Apr\", \"11-Apr\", \"12-Apr\", \"13-Apr\", \"14-Apr\", \"15-Apr\", \"16-Apr\", \"17-Apr\", \"18-Apr\", \"19-Apr\", \"20-Apr\", \"21-Apr\", \"22-Apr\", \"23-Apr\", \"24-Apr\", \"25-Apr\", \"26-Apr\", \"27-Apr\", \"28-Apr\", \"29-Apr\", \"30-Apr\", \"01-May\", \"02-May\", \"03-May\", \"04-May\", \"05-May\", \"06-May\", \"07-May\", \"08-May\", \"09-May\", \"10-May\", \"11-May\", \"12-May\", \"13-May\", \"14-May\", \"15-May\", \"16-May\", \"17-May\", \"18-May\", \"19-May\", \"20-May\", \"21-May\", \"22-May\", \"23-May\", \"24-May\", \"25-May\", \"26-May\", \"27-May\", \"28-May\", \"29-May\", \"30-May\", \"31-May\"], \"y\": [0, 1, 2, 0, 1, 2, 3, 1, 1, 2, 2, 3, 4, 3, 4, 2, 3, 2, 3, 2, 3, 4, 3, 4, 5, 6, 7, 5, 6, 7, 8, 6, 5, 6, 5, 5, 5, 6, 6, 7, 7, 6, 7, 7, 7, 7, 8, 9, 9, 8, 7, 7, 7, 6, 6, 6, 7, 7, 8, 9, 10, 11, 11, 11, 12, 12, 12, 12, 13, 14, 14, 14, 15, 15, 15, 15, 14, 14, 13]}, {\"hovertext\": [\"(0. On 14-Mar there were 0\", \"(0. On 14-Mar there were 0\", \"(0. On 14-Mar there were 0\", \"(0. On 14-Mar there were 0\", \"(0. On 14-Mar there were 0\", \"(0. On 14-Mar there were 0\", \"(0. On 14-Mar there were 0\", \"(0. On 14-Mar there were 0\", \"(0. On 14-Mar there were 0\", \"(0. On 14-Mar there were 0\", \"(0. On 14-Mar there were 0\", \"(0. On 14-Mar there were 0\", \"(0. On 14-Mar there were 0\", \"(0. On 14-Mar there were 0\", \"(0. On 14-Mar there were 0\", \"(0. On 14-Mar there were 0\", \"(0. On 14-Mar there were 0\", \"(3. On 31-Mar there were 3\", \"(3. On 31-Mar there were 3\", \"(3. On 31-Mar there were 3\", \"(3. On 31-Mar there were 3\", \"(3. On 31-Mar there were 3\", \"(10. On 05-Apr there were 10\", \"(10. On 05-Apr there were 10\", \"(13. On 05-Apr there were 10\", \"(13. On 05-Apr there were 10\", \"(16. On 05-Apr there were 10\", \"(16. On 05-Apr there were 10\", \"(16. On 05-Apr there were 10\", \"(19. On 05-Apr there were 10\", \"(29. On 09-Apr there were 16\", \"(36. On 12-Apr there were 19\", \"(37. On 12-Apr there were 19\", \"(42. On 13-Apr there were 29\", \"(51. On 13-Apr there were 29\", \"(55. On 13-Apr there were 29\", \"(62. On 14-Apr there were 36\", \"(66. On 14-Apr there were 36\", \"(73. On 15-Apr there were 37\", \"(73. On 15-Apr there were 37\", \"(79. On 16-Apr there were 42\", \"(103. On 18-Apr there were 55\", \"(103. On 18-Apr there were 55\", \"(105. On 18-Apr there were 55\", \"(105. On 18-Apr there were 55\", \"(109. On 18-Apr there were 55\", \"(119. On 19-Apr there were 62\", \"(124. On 19-Apr there were 62\", \"(139. On 21-Apr there were 73\", \"(151. On 23-Apr there were 79\", \"(132. On 20-Apr there were 66\", \"(218. On 28-Apr there were 109\", \"(264. On 01-May there were 139\", \"(265. On 01-May there were 139\", \"(296. On 02-May there were 151\", \"(323. On 04-May there were 218\", \"(372. On 04-May there were 218\", \"(417. On 04-May there were 218\", \"(499. On 05-May there were 264\", \"(612. On 08-May there were 323\", \"(702. On 09-May there were 372\", \"(768. On 10-May there were 417\", \"(829. On 10-May there were 417\", \"(892. On 11-May there were 499\", \"(959. On 11-May there were 499\", \"(1006. On 12-May there were 612\", \"(1074. On 12-May there were 612\", \"(1136. On 12-May there were 612\", \"(1193. On 12-May there were 612\", \"(1221. On 12-May there were 612\", \"(1281. On 13-May there were 702\", \"(1339. On 13-May there were 702\", \"(1414. On 14-May there were 768\", \"(1486. On 14-May there were 768\", \"(1578. On 15-May there were 829\", \"(1668. On 16-May there were 892\", \"(1775. On 16-May there were 892\", \"(1970. On 18-May there were 1006\", \"(2157. On 20-May there were 1136\"], \"marker\": {\"color\": \"green\", \"line\": {\"width\": 2}}, \"mode\": \"lines+markers\", \"name\": \"Recovered\", \"type\": \"scatter\", \"x\": [\"14-Mar\", \"15-Mar\", \"16-Mar\", \"17-Mar\", \"18-Mar\", \"19-Mar\", \"20-Mar\", \"21-Mar\", \"22-Mar\", \"23-Mar\", \"24-Mar\", \"25-Mar\", \"26-Mar\", \"27-Mar\", \"28-Mar\", \"29-Mar\", \"30-Mar\", \"31-Mar\", \"01-Apr\", \"02-Apr\", \"03-Apr\", \"04-Apr\", \"05-Apr\", \"06-Apr\", \"07-Apr\", \"08-Apr\", \"09-Apr\", \"10-Apr\", \"11-Apr\", \"12-Apr\", \"13-Apr\", \"14-Apr\", \"15-Apr\", \"16-Apr\", \"17-Apr\", \"18-Apr\", \"19-Apr\", \"20-Apr\", \"21-Apr\", \"22-Apr\", \"23-Apr\", \"24-Apr\", \"25-Apr\", \"26-Apr\", \"27-Apr\", \"28-Apr\", \"29-Apr\", \"30-Apr\", \"01-May\", \"02-May\", \"03-May\", \"04-May\", \"05-May\", \"06-May\", \"07-May\", \"08-May\", \"09-May\", \"10-May\", \"11-May\", \"12-May\", \"13-May\", \"14-May\", \"15-May\", \"16-May\", \"17-May\", \"18-May\", \"19-May\", \"20-May\", \"21-May\", \"22-May\", \"23-May\", \"24-May\", \"25-May\", \"26-May\", \"27-May\", \"28-May\", \"29-May\", \"30-May\", \"31-May\"], \"y\": [0, 1, 2, 3, 4, 5, 6, 7, 8, 9, 10, 11, 12, 13, 14, 15, 16, 0, 1, 2, 3, 4, 0, 1, 2, 3, 4, 5, 6, 7, 4, 2, 3, 3, 4, 5, 5, 6, 6, 7, 7, 6, 7, 8, 9, 10, 10, 11, 10, 9, 13, 6, 4, 5, 5, 4, 5, 6, 6, 4, 4, 4, 5, 5, 6, 6, 7, 8, 9, 10, 10, 11, 11, 12, 12, 12, 13, 12, 11]}, {\"hovertext\": [\"(0. On 14-Mar there were 0\", \"(0. On 14-Mar there were 0\", \"(0. On 14-Mar there were 0\", \"(0. On 14-Mar there were 0\", \"(0. On 14-Mar there were 0\", \"(0. On 14-Mar there were 0\", \"(0. On 14-Mar there were 0\", \"(0. On 14-Mar there were 0\", \"(0. On 14-Mar there were 0\", \"(1. On 23-Mar there were 1\", \"(1. On 23-Mar there were 1\", \"(1. On 23-Mar there were 1\", \"(1. On 23-Mar there were 1\", \"(1. On 23-Mar there were 1\", \"(1. On 23-Mar there were 1\", \"(1. On 23-Mar there were 1\", \"(2. On 23-Mar there were 1\", \"(3. On 30-Mar there were 2\", \"(3. On 30-Mar there were 2\", \"(3. On 30-Mar there were 2\", \"(3. On 30-Mar there were 2\", \"(3. On 30-Mar there were 2\", \"(3. On 30-Mar there were 2\", \"(3. On 30-Mar there were 2\", \"(3. On 30-Mar there were 2\", \"(5. On 31-Mar there were 3\", \"(5. On 31-Mar there were 3\", \"(5. On 31-Mar there were 3\", \"(5. On 31-Mar there were 3\", \"(7. On 08-Apr there were 5\", \"(7. On 08-Apr there were 5\", \"(7. On 08-Apr there were 5\", \"(7. On 08-Apr there were 5\", \"(10. On 08-Apr there were 5\", \"(10. On 08-Apr there were 5\", \"(12. On 12-Apr there were 7\", \"(12. On 12-Apr there were 7\", \"(12. On 12-Apr there were 7\", \"(15. On 16-Apr there were 10\", \"(15. On 16-Apr there were 10\", \"(15. On 16-Apr there were 10\", \"(18. On 16-Apr there were 10\", \"(18. On 16-Apr there were 10\", \"(20. On 16-Apr there were 10\", \"(20. On 16-Apr there were 10\", \"(22. On 18-Apr there were 12\", \"(22. On 18-Apr there were 12\", \"(33. On 24-Apr there were 18\", \"(41. On 28-Apr there were 22\", \"(48. On 30-Apr there were 33\", \"(122. On 03-May there were 122\", \"(133. On 03-May there were 122\", \"(140. On 03-May there were 122\", \"(144. On 03-May there were 122\", \"(151. On 03-May there were 122\", \"(160. On 03-May there were 122\", \"(171. On 03-May there were 122\", \"(185. On 03-May there were 122\", \"(190. On 03-May there were 122\", \"(198. On 03-May there were 122\", \"(207. On 03-May there were 122\", \"(215. On 03-May there were 122\", \"(225. On 03-May there were 122\", \"(232. On 03-May there were 122\", \"(238. On 03-May there were 122\", \"(244. On 03-May there were 122\", \"(250. On 04-May there were 133\", \"(253. On 04-May there were 133\", \"(259. On 04-May there were 133\", \"(265. On 04-May there were 133\", \"(269. On 05-May there were 140\", \"(272. On 05-May there were 140\", \"(278. On 05-May there were 140\", \"(283. On 06-May there were 144\", \"(289. On 07-May there were 151\", \"(295. On 07-May there were 151\", \"(302. On 07-May there were 151\", \"(309. On 08-May there were 160\", \"(317. On 08-May there were 160\"], \"marker\": {\"color\": \"red\", \"line\": {\"width\": 2}}, \"mode\": \"lines+markers\", \"name\": \"Dead\", \"type\": \"scatter\", \"x\": [\"14-Mar\", \"15-Mar\", \"16-Mar\", \"17-Mar\", \"18-Mar\", \"19-Mar\", \"20-Mar\", \"21-Mar\", \"22-Mar\", \"23-Mar\", \"24-Mar\", \"25-Mar\", \"26-Mar\", \"27-Mar\", \"28-Mar\", \"29-Mar\", \"30-Mar\", \"31-Mar\", \"01-Apr\", \"02-Apr\", \"03-Apr\", \"04-Apr\", \"05-Apr\", \"06-Apr\", \"07-Apr\", \"08-Apr\", \"09-Apr\", \"10-Apr\", \"11-Apr\", \"12-Apr\", \"13-Apr\", \"14-Apr\", \"15-Apr\", \"16-Apr\", \"17-Apr\", \"18-Apr\", \"19-Apr\", \"20-Apr\", \"21-Apr\", \"22-Apr\", \"23-Apr\", \"24-Apr\", \"25-Apr\", \"26-Apr\", \"27-Apr\", \"28-Apr\", \"29-Apr\", \"30-Apr\", \"01-May\", \"02-May\", \"03-May\", \"04-May\", \"05-May\", \"06-May\", \"07-May\", \"08-May\", \"09-May\", \"10-May\", \"11-May\", \"12-May\", \"13-May\", \"14-May\", \"15-May\", \"16-May\", \"17-May\", \"18-May\", \"19-May\", \"20-May\", \"21-May\", \"22-May\", \"23-May\", \"24-May\", \"25-May\", \"26-May\", \"27-May\", \"28-May\", \"29-May\", \"30-May\", \"31-May\"], \"y\": [0, 1, 2, 3, 4, 5, 6, 7, 8, 0, 1, 2, 3, 4, 5, 6, 7, 1, 2, 3, 4, 5, 6, 7, 8, 8, 9, 10, 11, 4, 5, 6, 7, 8, 9, 6, 7, 8, 5, 6, 7, 8, 9, 10, 11, 10, 11, 6, 3, 2, 0, 1, 2, 3, 4, 5, 6, 7, 8, 9, 10, 11, 12, 13, 14, 15, 15, 16, 17, 18, 18, 19, 20, 20, 20, 21, 22, 22, 23]}, {\"hovertext\": [\"(0. On 14-Mar there were 0\", \"(0. On 14-Mar there were 0\", \"(0. On 14-Mar there were 0\", \"(1. On 17-Mar there were 1\", \"(1. On 17-Mar there were 1\", \"(1. On 17-Mar there were 1\", \"(2. On 17-Mar there were 1\", \"(4. On 20-Mar there were 2\", \"(7. On 21-Mar there were 4\", \"(6. On 21-Mar there were 4\", \"(8. On 21-Mar there were 4\", \"(8. On 21-Mar there were 4\", \"(9. On 22-Mar there were 7\", \"(14. On 22-Mar there were 7\", \"(17. On 26-Mar there were 9\", \"(20. On 27-Mar there were 14\", \"(20. On 27-Mar there were 14\", \"(31. On 28-Mar there were 17\", \"(31. On 28-Mar there were 17\", \"(47. On 31-Mar there were 31\", \"(47. On 31-Mar there were 31\", \"(47. On 31-Mar there were 31\", \"(67. On 02-Apr there were 47\", \"(67. On 02-Apr there were 47\", \"(75. On 02-Apr there were 47\", \"(81. On 02-Apr there were 47\", \"(82. On 02-Apr there were 47\", \"(95. On 05-Apr there were 67\", \"(105. On 05-Apr there were 67\", \"(108. On 05-Apr there were 67\", \"(116. On 05-Apr there were 67\", \"(147. On 07-Apr there were 75\", \"(169. On 10-Apr there were 95\", \"(179. On 10-Apr there were 95\", \"(194. On 11-Apr there were 105\", \"(220. On 13-Apr there were 116\", \"(236. On 14-Apr there were 147\", \"(261. On 14-Apr there were 147\", \"(304. On 15-Apr there were 169\", \"(335. On 15-Apr there were 169\", \"(362. On 17-Apr there were 194\", \"(393. On 18-Apr there were 220\", \"(450. On 19-Apr there were 236\", \"(486. On 20-Apr there were 261\", \"(524. On 21-Apr there were 304\", \"(566. On 21-Apr there were 304\", \"(584. On 21-Apr there were 304\", \"(601. On 21-Apr there were 304\", \"(615. On 22-Apr there were 335\", \"(723. On 23-Apr there were 362\", \"(944. On 26-Apr there were 486\", \"(908. On 26-Apr there were 486\", \"(940. On 26-Apr there were 486\", \"(1047. On 27-Apr there were 524\", \"(1101. On 28-Apr there were 566\", \"(1195. On 30-Apr there were 601\", \"(1243. On 02-May there were 723\", \"(1337. On 02-May there were 723\", \"(1374. On 02-May there were 723\", \"(1363. On 02-May there were 723\", \"(1381. On 02-May there were 723\", \"(1394. On 02-May there were 723\", \"(1407. On 02-May there were 723\", \"(1452. On 03-May there were 944\", \"(1480. On 03-May there were 944\", \"(1574. On 03-May there were 944\", \"(1637. On 03-May there were 944\", \"(1714. On 03-May there were 944\", \"(1745. On 03-May there were 944\", \"(1846. On 03-May there were 944\", \"(1909. On 06-May there were 1047\", \"(2056. On 06-May there were 1047\", \"(2124. On 07-May there were 1101\", \"(2240. On 08-May there were 1195\", \"(2325. On 08-May there were 1195\", \"(2573. On 10-May there were 1337\", \"(2736. On 11-May there were 1374\", \"(2851. On 16-May there were 1452\", \"(3027. On 18-May there were 1574\"], \"marker\": {\"color\": \"black\", \"line\": {\"width\": 2}}, \"mode\": \"lines+markers\", \"name\": \"Active\", \"type\": \"scatter\", \"x\": [\"14-Mar\", \"15-Mar\", \"16-Mar\", \"17-Mar\", \"18-Mar\", \"19-Mar\", \"20-Mar\", \"21-Mar\", \"22-Mar\", \"23-Mar\", \"24-Mar\", \"25-Mar\", \"26-Mar\", \"27-Mar\", \"28-Mar\", \"29-Mar\", \"30-Mar\", \"31-Mar\", \"01-Apr\", \"02-Apr\", \"03-Apr\", \"04-Apr\", \"05-Apr\", \"06-Apr\", \"07-Apr\", \"08-Apr\", \"09-Apr\", \"10-Apr\", \"11-Apr\", \"12-Apr\", \"13-Apr\", \"14-Apr\", \"15-Apr\", \"16-Apr\", \"17-Apr\", \"18-Apr\", \"19-Apr\", \"20-Apr\", \"21-Apr\", \"22-Apr\", \"23-Apr\", \"24-Apr\", \"25-Apr\", \"26-Apr\", \"27-Apr\", \"28-Apr\", \"29-Apr\", \"30-Apr\", \"01-May\", \"02-May\", \"03-May\", \"04-May\", \"05-May\", \"06-May\", \"07-May\", \"08-May\", \"09-May\", \"10-May\", \"11-May\", \"12-May\", \"13-May\", \"14-May\", \"15-May\", \"16-May\", \"17-May\", \"18-May\", \"19-May\", \"20-May\", \"21-May\", \"22-May\", \"23-May\", \"24-May\", \"25-May\", \"26-May\", \"27-May\", \"28-May\", \"29-May\", \"30-May\", \"31-May\"], \"y\": [0, 1, 2, 0, 1, 2, 3, 1, 1, 2, 3, 4, 4, 5, 2, 2, 3, 3, 4, 2, 3, 4, 3, 4, 5, 6, 7, 5, 6, 7, 8, 7, 5, 6, 6, 5, 5, 6, 6, 7, 6, 6, 6, 6, 6, 7, 8, 9, 9, 9, 7, 8, 9, 9, 9, 8, 7, 8, 9, 10, 11, 12, 13, 13, 14, 15, 16, 17, 18, 19, 17, 18, 18, 18, 19, 18, 18, 14, 13]}],\n",
       "                        {\"font\": {\"color\": \"#7f7f7f\", \"family\": \"Courier New, monospace\", \"size\": 18}, \"height\": 600, \"template\": {\"data\": {\"bar\": [{\"error_x\": {\"color\": \"#2a3f5f\"}, \"error_y\": {\"color\": \"#2a3f5f\"}, \"marker\": {\"line\": {\"color\": \"#E5ECF6\", \"width\": 0.5}}, \"type\": \"bar\"}], \"barpolar\": [{\"marker\": {\"line\": {\"color\": \"#E5ECF6\", \"width\": 0.5}}, \"type\": \"barpolar\"}], \"carpet\": [{\"aaxis\": {\"endlinecolor\": \"#2a3f5f\", \"gridcolor\": \"white\", \"linecolor\": \"white\", \"minorgridcolor\": \"white\", \"startlinecolor\": \"#2a3f5f\"}, \"baxis\": {\"endlinecolor\": \"#2a3f5f\", \"gridcolor\": \"white\", \"linecolor\": \"white\", \"minorgridcolor\": \"white\", \"startlinecolor\": \"#2a3f5f\"}, \"type\": \"carpet\"}], \"choropleth\": [{\"colorbar\": {\"outlinewidth\": 0, \"ticks\": \"\"}, \"type\": \"choropleth\"}], \"contour\": [{\"colorbar\": {\"outlinewidth\": 0, \"ticks\": \"\"}, \"colorscale\": [[0.0, \"#0d0887\"], [0.1111111111111111, \"#46039f\"], [0.2222222222222222, \"#7201a8\"], [0.3333333333333333, \"#9c179e\"], [0.4444444444444444, \"#bd3786\"], [0.5555555555555556, \"#d8576b\"], [0.6666666666666666, \"#ed7953\"], [0.7777777777777778, \"#fb9f3a\"], [0.8888888888888888, \"#fdca26\"], [1.0, \"#f0f921\"]], \"type\": \"contour\"}], \"contourcarpet\": [{\"colorbar\": {\"outlinewidth\": 0, \"ticks\": \"\"}, \"type\": \"contourcarpet\"}], \"heatmap\": [{\"colorbar\": {\"outlinewidth\": 0, \"ticks\": \"\"}, \"colorscale\": [[0.0, \"#0d0887\"], [0.1111111111111111, \"#46039f\"], [0.2222222222222222, \"#7201a8\"], [0.3333333333333333, \"#9c179e\"], [0.4444444444444444, \"#bd3786\"], [0.5555555555555556, \"#d8576b\"], [0.6666666666666666, \"#ed7953\"], [0.7777777777777778, \"#fb9f3a\"], [0.8888888888888888, \"#fdca26\"], [1.0, \"#f0f921\"]], \"type\": \"heatmap\"}], \"heatmapgl\": [{\"colorbar\": {\"outlinewidth\": 0, \"ticks\": \"\"}, \"colorscale\": [[0.0, \"#0d0887\"], [0.1111111111111111, \"#46039f\"], [0.2222222222222222, \"#7201a8\"], [0.3333333333333333, \"#9c179e\"], [0.4444444444444444, \"#bd3786\"], [0.5555555555555556, \"#d8576b\"], [0.6666666666666666, \"#ed7953\"], [0.7777777777777778, \"#fb9f3a\"], [0.8888888888888888, \"#fdca26\"], [1.0, \"#f0f921\"]], \"type\": \"heatmapgl\"}], \"histogram\": [{\"marker\": {\"colorbar\": {\"outlinewidth\": 0, \"ticks\": \"\"}}, \"type\": \"histogram\"}], \"histogram2d\": [{\"colorbar\": {\"outlinewidth\": 0, \"ticks\": \"\"}, \"colorscale\": [[0.0, \"#0d0887\"], [0.1111111111111111, \"#46039f\"], [0.2222222222222222, \"#7201a8\"], [0.3333333333333333, \"#9c179e\"], [0.4444444444444444, \"#bd3786\"], [0.5555555555555556, \"#d8576b\"], [0.6666666666666666, \"#ed7953\"], [0.7777777777777778, \"#fb9f3a\"], [0.8888888888888888, \"#fdca26\"], [1.0, \"#f0f921\"]], \"type\": \"histogram2d\"}], \"histogram2dcontour\": [{\"colorbar\": {\"outlinewidth\": 0, \"ticks\": \"\"}, \"colorscale\": [[0.0, \"#0d0887\"], [0.1111111111111111, \"#46039f\"], [0.2222222222222222, \"#7201a8\"], [0.3333333333333333, \"#9c179e\"], [0.4444444444444444, \"#bd3786\"], [0.5555555555555556, \"#d8576b\"], [0.6666666666666666, \"#ed7953\"], [0.7777777777777778, \"#fb9f3a\"], [0.8888888888888888, \"#fdca26\"], [1.0, \"#f0f921\"]], \"type\": \"histogram2dcontour\"}], \"mesh3d\": [{\"colorbar\": {\"outlinewidth\": 0, \"ticks\": \"\"}, \"type\": \"mesh3d\"}], \"parcoords\": [{\"line\": {\"colorbar\": {\"outlinewidth\": 0, \"ticks\": \"\"}}, \"type\": \"parcoords\"}], \"pie\": [{\"automargin\": true, \"type\": \"pie\"}], \"scatter\": [{\"marker\": {\"colorbar\": {\"outlinewidth\": 0, \"ticks\": \"\"}}, \"type\": \"scatter\"}], \"scatter3d\": [{\"line\": {\"colorbar\": {\"outlinewidth\": 0, \"ticks\": \"\"}}, \"marker\": {\"colorbar\": {\"outlinewidth\": 0, \"ticks\": \"\"}}, \"type\": \"scatter3d\"}], \"scattercarpet\": [{\"marker\": {\"colorbar\": {\"outlinewidth\": 0, \"ticks\": \"\"}}, \"type\": \"scattercarpet\"}], \"scattergeo\": [{\"marker\": {\"colorbar\": {\"outlinewidth\": 0, \"ticks\": \"\"}}, \"type\": \"scattergeo\"}], \"scattergl\": [{\"marker\": {\"colorbar\": {\"outlinewidth\": 0, \"ticks\": \"\"}}, \"type\": \"scattergl\"}], \"scattermapbox\": [{\"marker\": {\"colorbar\": {\"outlinewidth\": 0, \"ticks\": \"\"}}, \"type\": \"scattermapbox\"}], \"scatterpolar\": [{\"marker\": {\"colorbar\": {\"outlinewidth\": 0, \"ticks\": \"\"}}, \"type\": \"scatterpolar\"}], \"scatterpolargl\": [{\"marker\": {\"colorbar\": {\"outlinewidth\": 0, \"ticks\": \"\"}}, \"type\": \"scatterpolargl\"}], \"scatterternary\": [{\"marker\": {\"colorbar\": {\"outlinewidth\": 0, \"ticks\": \"\"}}, \"type\": \"scatterternary\"}], \"surface\": [{\"colorbar\": {\"outlinewidth\": 0, \"ticks\": \"\"}, \"colorscale\": [[0.0, \"#0d0887\"], [0.1111111111111111, \"#46039f\"], [0.2222222222222222, \"#7201a8\"], [0.3333333333333333, \"#9c179e\"], [0.4444444444444444, \"#bd3786\"], [0.5555555555555556, \"#d8576b\"], [0.6666666666666666, \"#ed7953\"], [0.7777777777777778, \"#fb9f3a\"], [0.8888888888888888, \"#fdca26\"], [1.0, \"#f0f921\"]], \"type\": \"surface\"}], \"table\": [{\"cells\": {\"fill\": {\"color\": \"#EBF0F8\"}, \"line\": {\"color\": \"white\"}}, \"header\": {\"fill\": {\"color\": \"#C8D4E3\"}, \"line\": {\"color\": \"white\"}}, \"type\": \"table\"}]}, \"layout\": {\"annotationdefaults\": {\"arrowcolor\": \"#2a3f5f\", \"arrowhead\": 0, \"arrowwidth\": 1}, \"coloraxis\": {\"colorbar\": {\"outlinewidth\": 0, \"ticks\": \"\"}}, \"colorscale\": {\"diverging\": [[0, \"#8e0152\"], [0.1, \"#c51b7d\"], [0.2, \"#de77ae\"], [0.3, \"#f1b6da\"], [0.4, \"#fde0ef\"], [0.5, \"#f7f7f7\"], [0.6, \"#e6f5d0\"], [0.7, \"#b8e186\"], [0.8, \"#7fbc41\"], [0.9, \"#4d9221\"], [1, \"#276419\"]], \"sequential\": [[0.0, \"#0d0887\"], [0.1111111111111111, \"#46039f\"], [0.2222222222222222, \"#7201a8\"], [0.3333333333333333, \"#9c179e\"], [0.4444444444444444, \"#bd3786\"], [0.5555555555555556, \"#d8576b\"], [0.6666666666666666, \"#ed7953\"], [0.7777777777777778, \"#fb9f3a\"], [0.8888888888888888, \"#fdca26\"], [1.0, \"#f0f921\"]], \"sequentialminus\": [[0.0, \"#0d0887\"], [0.1111111111111111, \"#46039f\"], [0.2222222222222222, \"#7201a8\"], [0.3333333333333333, \"#9c179e\"], [0.4444444444444444, \"#bd3786\"], [0.5555555555555556, \"#d8576b\"], [0.6666666666666666, \"#ed7953\"], [0.7777777777777778, \"#fb9f3a\"], [0.8888888888888888, \"#fdca26\"], [1.0, \"#f0f921\"]]}, \"colorway\": [\"#636efa\", \"#EF553B\", \"#00cc96\", \"#ab63fa\", \"#FFA15A\", \"#19d3f3\", \"#FF6692\", \"#B6E880\", \"#FF97FF\", \"#FECB52\"], \"font\": {\"color\": \"#2a3f5f\"}, \"geo\": {\"bgcolor\": \"white\", \"lakecolor\": \"white\", \"landcolor\": \"#E5ECF6\", \"showlakes\": true, \"showland\": true, \"subunitcolor\": \"white\"}, \"hoverlabel\": {\"align\": \"left\"}, \"hovermode\": \"closest\", \"mapbox\": {\"style\": \"light\"}, \"paper_bgcolor\": \"white\", \"plot_bgcolor\": \"#E5ECF6\", \"polar\": {\"angularaxis\": {\"gridcolor\": \"white\", \"linecolor\": \"white\", \"ticks\": \"\"}, \"bgcolor\": \"#E5ECF6\", \"radialaxis\": {\"gridcolor\": \"white\", \"linecolor\": \"white\", \"ticks\": \"\"}}, \"scene\": {\"xaxis\": {\"backgroundcolor\": \"#E5ECF6\", \"gridcolor\": \"white\", \"gridwidth\": 2, \"linecolor\": \"white\", \"showbackground\": true, \"ticks\": \"\", \"zerolinecolor\": \"white\"}, \"yaxis\": {\"backgroundcolor\": \"#E5ECF6\", \"gridcolor\": \"white\", \"gridwidth\": 2, \"linecolor\": \"white\", \"showbackground\": true, \"ticks\": \"\", \"zerolinecolor\": \"white\"}, \"zaxis\": {\"backgroundcolor\": \"#E5ECF6\", \"gridcolor\": \"white\", \"gridwidth\": 2, \"linecolor\": \"white\", \"showbackground\": true, \"ticks\": \"\", \"zerolinecolor\": \"white\"}}, \"shapedefaults\": {\"line\": {\"color\": \"#2a3f5f\"}}, \"ternary\": {\"aaxis\": {\"gridcolor\": \"white\", \"linecolor\": \"white\", \"ticks\": \"\"}, \"baxis\": {\"gridcolor\": \"white\", \"linecolor\": \"white\", \"ticks\": \"\"}, \"bgcolor\": \"#E5ECF6\", \"caxis\": {\"gridcolor\": \"white\", \"linecolor\": \"white\", \"ticks\": \"\"}}, \"title\": {\"x\": 0.05}, \"xaxis\": {\"automargin\": true, \"gridcolor\": \"white\", \"linecolor\": \"white\", \"ticks\": \"\", \"title\": {\"standoff\": 15}, \"zerolinecolor\": \"white\", \"zerolinewidth\": 2}, \"yaxis\": {\"automargin\": true, \"gridcolor\": \"white\", \"linecolor\": \"white\", \"ticks\": \"\", \"title\": {\"standoff\": 15}, \"zerolinecolor\": \"white\", \"zerolinewidth\": 2}}}, \"title\": {\"text\": \"Doubling days for West Bengal\"}, \"width\": 800, \"xaxis\": {\"title\": {\"text\": \"Days\"}}, \"yaxis\": {\"title\": {\"text\": \"Day\"}}},\n",
       "                        {\"responsive\": true}\n",
       "                    ).then(function(){\n",
       "                            \n",
       "var gd = document.getElementById('83c54343-17d4-4325-bdbc-acd4ade2fa68');\n",
       "var x = new MutationObserver(function (mutations, observer) {{\n",
       "        var display = window.getComputedStyle(gd).display;\n",
       "        if (!display || display === 'none') {{\n",
       "            console.log([gd, 'removed!']);\n",
       "            Plotly.purge(gd);\n",
       "            observer.disconnect();\n",
       "        }}\n",
       "}});\n",
       "\n",
       "// Listen for the removal of the full notebook cells\n",
       "var notebookContainer = gd.closest('#notebook-container');\n",
       "if (notebookContainer) {{\n",
       "    x.observe(notebookContainer, {childList: true});\n",
       "}}\n",
       "\n",
       "// Listen for the clearing of the current output cell\n",
       "var outputEl = gd.closest('.output');\n",
       "if (outputEl) {{\n",
       "    x.observe(outputEl, {childList: true});\n",
       "}}\n",
       "\n",
       "                        })\n",
       "                };\n",
       "                });\n",
       "            </script>\n",
       "        </div>"
      ]
     },
     "metadata": {},
     "output_type": "display_data"
    }
   ],
   "source": [
    "state=\"West Bengal\"\n",
    "start_day=25\n",
    "end_day=79\n",
    "\n",
    "\n",
    "\n",
    "color=next(colorcycler)\n",
    "arr=load_Data(dfs,state=state,day_max=end_day)\n",
    "cases=column(arr,2)\n",
    "recovery=column(arr,3)\n",
    "dead=column(arr,4)\n",
    "active=column(arr,5)\n",
    "\n",
    "\n",
    "dates=column(arr,1)\n",
    "\n",
    "arrNew=[]\n",
    "arrHover=[]\n",
    "for i in range(len(arr)):\n",
    "    c_val=cases[i]\n",
    "    r_val=recovery[i]\n",
    "    d_val=dead[i]\n",
    "    a_val=active[i]\n",
    "    c_h=np.where(cases>=c_val/2)[0][0]\n",
    "    r_h=np.where(recovery>=r_val/2)[0][0]\n",
    "    d_h=np.where(dead>=d_val/2)[0][0]\n",
    "    a_h=np.where(active>=a_val/2)[0][0]\n",
    "    \n",
    "    arrNew.append([dates[i],i-c_h,i-r_h,i-d_h,i-a_h])\n",
    "    c_hover=\"(\"+str(cases[i])+\". On \"+str(dates[c_h])+\" there were \"+ str(cases[c_h])\n",
    "    r_hover=\"(\"+str(recovery[i])+\". On \"+str(dates[r_h])+\" there were \"+ str(recovery[r_h])\n",
    "    d_hover=\"(\"+str(dead[i])+\". On \"+str(dates[d_h])+\" there were \"+ str(dead[d_h])\n",
    "    a_hover=\"(\"+str(active[i])+\". On \"+str(dates[a_h])+\" there were \"+ str(active[a_h])\n",
    "    arrHover.append([c_hover,r_hover,d_hover,a_hover])\n",
    "    \n",
    "    \n",
    "x=column(arrNew,0)\n",
    "    \n",
    "fig = go.Figure()\n",
    "\n",
    "\n",
    "p_cases=go.Scatter(x=x,y=column(arrNew,1),name=\"Cases\",marker={'color': \"blue\",'line':dict(width=2)},mode=\"lines+markers\",hovertext=column(arrHover,0))\n",
    "p_recovery=go.Scatter(x=x,y=column(arrNew,2),name=\"Recovered\",marker={'color': \"green\",'line':dict(width=2)},mode=\"lines+markers\",hovertext=column(arrHover,1))\n",
    "p_dead=go.Scatter(x=x,y=column(arrNew,3),name=\"Dead\",marker={'color': \"red\",'line':dict(width=2)},mode=\"lines+markers\",hovertext=column(arrHover,2))\n",
    "p_active=go.Scatter(x=x,y=column(arrNew,4),name=\"Active\",marker={'color': \"black\",'line':dict(width=2)},mode=\"lines+markers\",hovertext=column(arrHover,3))\n",
    "\n",
    "#p_cases=go.Bar(x=x,y=column(arrNew,1),name=\"Cases\",marker={'color': \"blue\"})\n",
    "#p_recovery=go.Bar(x=x,y=column(arrNew,2),name=\"Recovered\",marker={'color': \"green\"})\n",
    "#p_dead=go.Bar(x=x,y=column(arrNew,3),name=\"Dead\",marker={'color': \"red\"})\n",
    "#p_active=go.Bar(x=x,y=column(arrNew,4),name=\"Active\",marker={'color': \"black\"})\n",
    "\n",
    "\n",
    "fig.add_trace(p_cases)\n",
    "fig.add_trace(p_recovery)\n",
    "fig.add_trace(p_dead)\n",
    "fig.add_trace(p_active)\n",
    "fig.update_layout(height=600, width=800,title=\"Doubling days for \"+state,xaxis_title=\"Days\",\n",
    "    yaxis_title=\"Day\",\n",
    "    font=dict(\n",
    "        family=\"Courier New, monospace\",\n",
    "        size=18,\n",
    "        color=\"#7f7f7f\"))\n",
    "#fig.write_html('index.html', auto_open=True)\n",
    "fig.show()"
   ]
  }
 ],
 "metadata": {
  "kernelspec": {
   "display_name": "Python 3",
   "language": "python",
   "name": "python3"
  },
  "language_info": {
   "codemirror_mode": {
    "name": "ipython",
    "version": 3
   },
   "file_extension": ".py",
   "mimetype": "text/x-python",
   "name": "python",
   "nbconvert_exporter": "python",
   "pygments_lexer": "ipython3",
   "version": "3.6.6+"
  }
 },
 "nbformat": 4,
 "nbformat_minor": 4
}
