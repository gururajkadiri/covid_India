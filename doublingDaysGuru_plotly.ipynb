{
 "cells": [
  {
   "cell_type": "code",
   "execution_count": 2,
   "metadata": {},
   "outputs": [],
   "source": [
    "from impfuncs import *\n",
    "import matplotlib.pyplot as plt\n",
    "\n",
    "from plotly.subplots import make_subplots\n",
    "import plotly.graph_objects as go\n",
    "from datetime import date\n",
    "dfs=populate_dfs()  \n"
   ]
  },
  {
   "cell_type": "code",
   "execution_count": 6,
   "metadata": {},
   "outputs": [
    {
     "name": "stderr",
     "output_type": "stream",
     "text": [
      "/private/var/mobile/Containers/Shared/AppGroup/8D8E6A4E-6B31-4B79-BEF3-5994929C193E/File Provider Storage/Repositories/covid_India/impfuncs.py:94: UserWarning:\n",
      "\n",
      "Boolean Series key will be reindexed to match DataFrame index.\n",
      "\n",
      "/private/var/mobile/Containers/Shared/AppGroup/8D8E6A4E-6B31-4B79-BEF3-5994929C193E/File Provider Storage/Repositories/covid_India/impfuncs.py:95: UserWarning:\n",
      "\n",
      "Boolean Series key will be reindexed to match DataFrame index.\n",
      "\n",
      "/private/var/mobile/Containers/Shared/AppGroup/8D8E6A4E-6B31-4B79-BEF3-5994929C193E/File Provider Storage/Repositories/covid_India/impfuncs.py:96: UserWarning:\n",
      "\n",
      "Boolean Series key will be reindexed to match DataFrame index.\n",
      "\n"
     ]
    },
    {
     "data": {
      "application/vnd.plotly.v1+json": {
       "config": {
        "plotlyServerURL": "https://plot.ly"
       },
       "data": [
        {
         "hovertext": [
          "(7. On 14-Mar there were 7",
          "(7. On 14-Mar there were 7",
          "(7. On 14-Mar there were 7",
          "(8. On 14-Mar there were 7",
          "(10. On 14-Mar there were 7",
          "(14. On 14-Mar there were 7",
          "(20. On 18-Mar there were 10",
          "(27. On 19-Mar there were 14",
          "(27. On 19-Mar there were 14",
          "(30. On 20-Mar there were 20",
          "(30. On 20-Mar there were 20",
          "(35. On 20-Mar there were 20",
          "(36. On 20-Mar there were 20",
          "(40. On 20-Mar there were 20",
          "(49. On 21-Mar there were 27",
          "(72. On 26-Mar there were 36",
          "(97. On 28-Mar there were 49",
          "(120. On 29-Mar there were 72",
          "(152. On 30-Mar there were 97",
          "(293. On 01-Apr there were 152",
          "(386. On 02-Apr there were 293",
          "(445. On 02-Apr there were 293",
          "(503. On 02-Apr there were 293",
          "(525. On 02-Apr there were 293",
          "(576. On 02-Apr there were 293",
          "(669. On 03-Apr there were 386",
          "(720. On 03-Apr there were 386",
          "(903. On 05-Apr there were 503",
          "(1069. On 07-Apr there were 576",
          "(1154. On 08-Apr there were 669",
          "(1510. On 10-Apr there were 903",
          "(1561. On 10-Apr there were 903",
          "(1578. On 10-Apr there were 903",
          "(1640. On 10-Apr there were 903",
          "(1707. On 10-Apr there were 903",
          "(1893. On 11-Apr there were 1069",
          "(2003. On 11-Apr there were 1069",
          "(2081. On 11-Apr there were 1069",
          "(2156. On 12-Apr there were 1154",
          "(2248. On 12-Apr there were 1154",
          "(2376. On 13-Apr there were 1510",
          "(2514. On 13-Apr there were 1510",
          "(2625. On 13-Apr there were 1510",
          "(2918. On 13-Apr there were 1510",
          "(3108. On 14-Apr there were 1561",
          "(3314. On 17-Apr there were 1707",
          "(3439. On 18-Apr there were 1893",
          "(3515. On 18-Apr there were 1893",
          "(3738. On 18-Apr there were 1893",
          "(4122. On 20-Apr there were 2081",
          "(4549. On 23-Apr there were 2376",
          "(4898. On 24-Apr there were 2514",
          "(5104. On 25-Apr there were 2625",
          "(5532. On 26-Apr there were 2918",
          "(5980. On 27-Apr there were 3108",
          "(6318. On 28-Apr there were 3314",
          "(6542. On 28-Apr there were 3314",
          "(6923. On 30-Apr there were 3515",
          "(7233. On 01-May there were 3738",
          "(7639. On 02-May there were 4122",
          "(7998. On 02-May there were 4122",
          "(8470. On 03-May there were 4549",
          "(8895. On 03-May there were 4549",
          "(9333. On 04-May there were 4898",
          "(9755. On 04-May there were 4898",
          "(10054. On 05-May there were 5104",
          "(10554. On 06-May there were 5532",
          "(11088. On 07-May there were 5980",
          "(11659. On 07-May there were 5980",
          "(12319. On 08-May there were 6318",
          "(12910. On 09-May there were 6542",
          "(13418. On 10-May there were 6923",
          "(14053. On 11-May there were 7233",
          "(14465. On 11-May there were 7233",
          "(15257. On 12-May there were 7639",
          "(16281. On 14-May there were 8470",
          "(17386. On 15-May there were 8895",
          "(18549. On 16-May there were 9333",
          "(19844. On 18-May there were 10054",
          "(20834. On 19-May there were 10554",
          "(22132. On 20-May there were 11088",
          "(23645. On 22-May there were 12319",
          "(25004. On 23-May there were 12910",
          "(26334. On 24-May there were 13418",
          "(27654. On 25-May there were 14053",
          "(28936. On 27-May there were 15257",
          "(29943. On 27-May there were 15257",
          "(31309. On 28-May there were 16281",
          "(32810. On 29-May there were 17386",
          "(34687. On 29-May there were 17386",
          "(36824. On 30-May there were 18549",
          "(38958. On 31-May there were 19844",
          "(41182. On 01-Jun there were 20834",
          "(42829. On 02-Jun there were 22132",
          "(44688. On 03-Jun there were 23645",
          "(47102. On 03-Jun there were 23645",
          "(49979. On 04-Jun there were 25004",
          "(53116. On 06-Jun there were 27654",
          "(56746. On 07-Jun there were 28936"
         ],
         "marker": {
          "color": "blue",
          "line": {
           "width": 2
          }
         },
         "mode": "lines+markers",
         "name": "Cases",
         "type": "scatter",
         "x": [
          "14-Mar",
          "15-Mar",
          "16-Mar",
          "17-Mar",
          "18-Mar",
          "19-Mar",
          "20-Mar",
          "21-Mar",
          "22-Mar",
          "23-Mar",
          "24-Mar",
          "25-Mar",
          "26-Mar",
          "27-Mar",
          "28-Mar",
          "29-Mar",
          "30-Mar",
          "31-Mar",
          "01-Apr",
          "02-Apr",
          "03-Apr",
          "04-Apr",
          "05-Apr",
          "06-Apr",
          "07-Apr",
          "08-Apr",
          "09-Apr",
          "10-Apr",
          "11-Apr",
          "12-Apr",
          "13-Apr",
          "14-Apr",
          "15-Apr",
          "16-Apr",
          "17-Apr",
          "18-Apr",
          "19-Apr",
          "20-Apr",
          "21-Apr",
          "22-Apr",
          "23-Apr",
          "24-Apr",
          "25-Apr",
          "26-Apr",
          "27-Apr",
          "28-Apr",
          "29-Apr",
          "30-Apr",
          "01-May",
          "02-May",
          "03-May",
          "04-May",
          "05-May",
          "06-May",
          "07-May",
          "08-May",
          "09-May",
          "10-May",
          "11-May",
          "12-May",
          "13-May",
          "14-May",
          "15-May",
          "16-May",
          "17-May",
          "18-May",
          "19-May",
          "20-May",
          "21-May",
          "22-May",
          "23-May",
          "24-May",
          "25-May",
          "26-May",
          "27-May",
          "28-May",
          "29-May",
          "30-May",
          "31-May",
          "01-Jun",
          "02-Jun",
          "03-Jun",
          "04-Jun",
          "05-Jun",
          "06-Jun",
          "07-Jun",
          "08-Jun",
          "09-Jun",
          "10-Jun",
          "11-Jun",
          "12-Jun",
          "13-Jun",
          "14-Jun",
          "15-Jun",
          "16-Jun",
          "17-Jun",
          "18-Jun",
          "19-Jun",
          "20-Jun"
         ],
         "y": [
          0,
          1,
          2,
          3,
          4,
          5,
          2,
          2,
          3,
          3,
          4,
          5,
          6,
          7,
          7,
          3,
          2,
          2,
          2,
          1,
          1,
          2,
          3,
          4,
          5,
          5,
          6,
          5,
          4,
          4,
          3,
          4,
          5,
          6,
          7,
          7,
          8,
          9,
          9,
          10,
          10,
          11,
          12,
          13,
          13,
          11,
          11,
          12,
          13,
          12,
          10,
          10,
          10,
          10,
          10,
          10,
          11,
          10,
          10,
          10,
          11,
          11,
          12,
          12,
          13,
          13,
          13,
          13,
          14,
          14,
          14,
          14,
          14,
          15,
          15,
          14,
          14,
          14,
          13,
          13,
          13,
          12,
          12,
          12,
          12,
          11,
          12,
          12,
          12,
          13,
          13,
          13,
          13,
          13,
          13,
          14,
          14,
          13,
          13
         ]
        },
        {
         "hovertext": [
          "(1. On 14-Mar there were 1",
          "(2. On 14-Mar there were 1",
          "(2. On 14-Mar there were 1",
          "(2. On 14-Mar there were 1",
          "(2. On 14-Mar there were 1",
          "(3. On 15-Mar there were 2",
          "(5. On 19-Mar there were 3",
          "(5. On 19-Mar there were 3",
          "(5. On 19-Mar there were 3",
          "(5. On 19-Mar there were 3",
          "(6. On 19-Mar there were 3",
          "(6. On 19-Mar there were 3",
          "(6. On 19-Mar there were 3",
          "(6. On 19-Mar there were 3",
          "(6. On 19-Mar there were 3",
          "(6. On 19-Mar there were 3",
          "(6. On 19-Mar there were 3",
          "(6. On 19-Mar there were 3",
          "(6. On 19-Mar there were 3",
          "(8. On 20-Mar there were 5",
          "(8. On 20-Mar there were 5",
          "(16. On 02-Apr there were 8",
          "(16. On 02-Apr there were 8",
          "(16. On 02-Apr there were 8",
          "(20. On 04-Apr there were 16",
          "(21. On 04-Apr there were 16",
          "(25. On 04-Apr there were 16",
          "(27. On 04-Apr there were 16",
          "(27. On 04-Apr there were 16",
          "(28. On 04-Apr there were 16",
          "(31. On 04-Apr there were 16",
          "(31. On 04-Apr there were 16",
          "(41. On 08-Apr there were 21",
          "(52. On 10-Apr there were 27",
          "(72. On 15-Apr there were 41",
          "(207. On 18-Apr there were 207",
          "(290. On 18-Apr there were 207",
          "(431. On 19-Apr there were 290",
          "(611. On 20-Apr there were 431",
          "(724. On 20-Apr there were 431",
          "(808. On 20-Apr there were 431",
          "(857. On 20-Apr there were 431",
          "(869. On 21-Apr there were 611",
          "(877. On 21-Apr there were 611",
          "(877. On 21-Apr there were 611",
          "(1078. On 21-Apr there were 611",
          "(1092. On 21-Apr there were 611",
          "(1094. On 21-Apr there were 611",
          "(1167. On 21-Apr there were 611",
          "(1256. On 22-Apr there were 724",
          "(1362. On 22-Apr there were 724",
          "(1431. On 22-Apr there were 724",
          "(1468. On 23-Apr there were 808",
          "(1542. On 23-Apr there were 808",
          "(1931. On 28-Apr there were 1078",
          "(2020. On 28-Apr there were 1078",
          "(2020. On 28-Apr there were 1078",
          "(2069. On 28-Apr there were 1078",
          "(2129. On 28-Apr there were 1078",
          "(2512. On 02-May there were 1256",
          "(2858. On 04-May there were 1431",
          "(3045. On 06-May there were 1542",
          "(3518. On 07-May there were 1931",
          "(3926. On 08-May there were 2020",
          "(4202. On 11-May there were 2129",
          "(4485. On 12-May there were 2512",
          "(4750. On 12-May there were 2512",
          "(5192. On 13-May there were 2858",
          "(5567. On 13-May there were 2858",
          "(5897. On 14-May there were 3045",
          "(6267. On 15-May there were 3518",
          "(6540. On 15-May there were 3518",
          "(6771. On 15-May there were 3518",
          "(6954. On 15-May there were 3518",
          "(7264. On 16-May there were 3926",
          "(7495. On 16-May there were 3926",
          "(7846. On 16-May there were 3926",
          "(8075. On 17-May there were 4202",
          "(8478. On 18-May there were 4485",
          "(8746. On 18-May there were 4485",
          "(9243. On 19-May there were 4750",
          "(9542. On 20-May there were 5192",
          "(9898. On 20-May there were 5192",
          "(10315. On 20-May there were 5192",
          "(10664. On 21-May there were 5567",
          "(10999. On 21-May there were 5567",
          "(11357. On 22-May there were 5897",
          "(11861. On 23-May there were 6267",
          "(12245. On 23-May there were 6267",
          "(12731. On 24-May there were 6540",
          "(13398. On 25-May there were 6771",
          "(14945. On 28-May there were 7495",
          "(15823. On 30-May there were 8075",
          "(16427. On 31-May there were 8478",
          "(16500. On 31-May there were 8478",
          "(17457. On 01-Jun there were 8746",
          "(21341. On 07-Jun there were 10999",
          "(23569. On 09-Jun there were 11861",
          "(31294. On 14-Jun there were 15823"
         ],
         "marker": {
          "color": "green",
          "line": {
           "width": 2
          }
         },
         "mode": "lines+markers",
         "name": "Recovered",
         "type": "scatter",
         "x": [
          "14-Mar",
          "15-Mar",
          "16-Mar",
          "17-Mar",
          "18-Mar",
          "19-Mar",
          "20-Mar",
          "21-Mar",
          "22-Mar",
          "23-Mar",
          "24-Mar",
          "25-Mar",
          "26-Mar",
          "27-Mar",
          "28-Mar",
          "29-Mar",
          "30-Mar",
          "31-Mar",
          "01-Apr",
          "02-Apr",
          "03-Apr",
          "04-Apr",
          "05-Apr",
          "06-Apr",
          "07-Apr",
          "08-Apr",
          "09-Apr",
          "10-Apr",
          "11-Apr",
          "12-Apr",
          "13-Apr",
          "14-Apr",
          "15-Apr",
          "16-Apr",
          "17-Apr",
          "18-Apr",
          "19-Apr",
          "20-Apr",
          "21-Apr",
          "22-Apr",
          "23-Apr",
          "24-Apr",
          "25-Apr",
          "26-Apr",
          "27-Apr",
          "28-Apr",
          "29-Apr",
          "30-Apr",
          "01-May",
          "02-May",
          "03-May",
          "04-May",
          "05-May",
          "06-May",
          "07-May",
          "08-May",
          "09-May",
          "10-May",
          "11-May",
          "12-May",
          "13-May",
          "14-May",
          "15-May",
          "16-May",
          "17-May",
          "18-May",
          "19-May",
          "20-May",
          "21-May",
          "22-May",
          "23-May",
          "24-May",
          "25-May",
          "26-May",
          "27-May",
          "28-May",
          "29-May",
          "30-May",
          "31-May",
          "01-Jun",
          "02-Jun",
          "03-Jun",
          "04-Jun",
          "05-Jun",
          "06-Jun",
          "07-Jun",
          "08-Jun",
          "09-Jun",
          "10-Jun",
          "11-Jun",
          "12-Jun",
          "13-Jun",
          "14-Jun",
          "15-Jun",
          "16-Jun",
          "17-Jun",
          "18-Jun",
          "19-Jun",
          "20-Jun"
         ],
         "y": [
          0,
          1,
          2,
          3,
          4,
          4,
          1,
          2,
          3,
          4,
          5,
          6,
          7,
          8,
          9,
          10,
          11,
          12,
          13,
          13,
          14,
          2,
          3,
          4,
          3,
          4,
          5,
          6,
          7,
          8,
          9,
          10,
          7,
          6,
          2,
          0,
          1,
          1,
          1,
          2,
          3,
          4,
          4,
          5,
          6,
          7,
          8,
          9,
          10,
          10,
          11,
          12,
          12,
          13,
          9,
          10,
          11,
          12,
          13,
          10,
          9,
          8,
          8,
          8,
          6,
          6,
          7,
          7,
          8,
          8,
          8,
          9,
          10,
          11,
          11,
          12,
          13,
          13,
          13,
          14,
          14,
          14,
          15,
          16,
          16,
          17,
          17,
          17,
          18,
          18,
          18,
          16,
          15,
          15,
          16,
          16,
          11,
          10,
          6
         ]
        },
        {
         "hovertext": [
          "(1. On 14-Mar there were 1",
          "(1. On 14-Mar there were 1",
          "(1. On 14-Mar there were 1",
          "(1. On 14-Mar there were 1",
          "(1. On 14-Mar there were 1",
          "(1. On 14-Mar there were 1",
          "(1. On 14-Mar there were 1",
          "(1. On 14-Mar there were 1",
          "(1. On 14-Mar there were 1",
          "(1. On 14-Mar there were 1",
          "(1. On 14-Mar there were 1",
          "(1. On 14-Mar there were 1",
          "(1. On 14-Mar there were 1",
          "(1. On 14-Mar there were 1",
          "(1. On 14-Mar there were 1",
          "(2. On 14-Mar there were 1",
          "(2. On 14-Mar there were 1",
          "(2. On 14-Mar there were 1",
          "(2. On 14-Mar there were 1",
          "(4. On 29-Mar there were 2",
          "(6. On 02-Apr there were 4",
          "(6. On 02-Apr there were 4",
          "(7. On 02-Apr there were 4",
          "(7. On 02-Apr there were 4",
          "(9. On 03-Apr there were 6",
          "(9. On 03-Apr there were 6",
          "(12. On 03-Apr there were 6",
          "(14. On 05-Apr there were 7",
          "(19. On 09-Apr there were 12",
          "(24. On 09-Apr there were 12",
          "(28. On 10-Apr there were 14",
          "(30. On 11-Apr there were 19",
          "(32. On 11-Apr there were 19",
          "(38. On 11-Apr there were 19",
          "(42. On 12-Apr there were 24",
          "(43. On 12-Apr there were 24",
          "(45. On 12-Apr there were 24",
          "(47. On 12-Apr there were 24",
          "(47. On 12-Apr there were 24",
          "(48. On 12-Apr there were 24",
          "(50. On 13-Apr there were 28",
          "(53. On 13-Apr there were 28",
          "(54. On 13-Apr there were 28",
          "(54. On 13-Apr there were 28",
          "(54. On 13-Apr there were 28",
          "(54. On 13-Apr there were 28",
          "(56. On 13-Apr there were 28",
          "(59. On 14-Apr there were 30",
          "(61. On 15-Apr there were 32",
          "(64. On 15-Apr there were 32",
          "(64. On 15-Apr there were 32",
          "(64. On 15-Apr there were 32",
          "(64. On 15-Apr there were 32",
          "(65. On 16-Apr there were 38",
          "(66. On 16-Apr there were 38",
          "(68. On 16-Apr there were 38",
          "(68. On 16-Apr there were 38",
          "(73. On 16-Apr there were 38",
          "(73. On 16-Apr there were 38",
          "(86. On 18-Apr there were 43",
          "(106. On 24-Apr there were 53",
          "(115. On 30-Apr there were 59",
          "(123. On 02-May there were 64",
          "(129. On 06-May there were 65",
          "(148. On 12-May there were 86",
          "(160. On 12-May there were 86",
          "(166. On 12-May there were 86",
          "(176. On 13-May there were 106",
          "(194. On 13-May there were 106",
          "(208. On 13-May there were 106",
          "(231. On 15-May there were 123",
          "(261. On 17-May there were 148",
          "(276. On 17-May there were 148",
          "(288. On 17-May there were 148",
          "(303. On 18-May there were 160",
          "(316. On 18-May there were 160",
          "(398. On 22-May there were 208",
          "(416. On 22-May there were 208",
          "(473. On 24-May there were 261",
          "(523. On 25-May there were 276",
          "(556. On 26-May there were 288",
          "(615. On 28-May there were 316",
          "(659. On 29-May there were 398",
          "(708. On 29-May there were 398",
          "(761. On 29-May there were 398",
          "(812. On 30-May there were 416",
          "(874. On 31-May there were 473",
          "(905. On 31-May there were 473",
          "(984. On 01-Jun there were 523",
          "(1085. On 02-Jun there were 556",
          "(1214. On 03-Jun there were 615",
          "(1271. On 04-Jun there were 659",
          "(1327. On 05-Jun there were 708",
          "(1400. On 05-Jun there were 708",
          "(1837. On 10-Jun there were 984",
          "(1904. On 10-Jun there were 984",
          "(1969. On 11-Jun there were 1085",
          "(2035. On 11-Jun there were 1085",
          "(2112. On 11-Jun there were 1085"
         ],
         "marker": {
          "color": "red",
          "line": {
           "width": 2
          }
         },
         "mode": "lines+markers",
         "name": "Dead",
         "type": "scatter",
         "x": [
          "14-Mar",
          "15-Mar",
          "16-Mar",
          "17-Mar",
          "18-Mar",
          "19-Mar",
          "20-Mar",
          "21-Mar",
          "22-Mar",
          "23-Mar",
          "24-Mar",
          "25-Mar",
          "26-Mar",
          "27-Mar",
          "28-Mar",
          "29-Mar",
          "30-Mar",
          "31-Mar",
          "01-Apr",
          "02-Apr",
          "03-Apr",
          "04-Apr",
          "05-Apr",
          "06-Apr",
          "07-Apr",
          "08-Apr",
          "09-Apr",
          "10-Apr",
          "11-Apr",
          "12-Apr",
          "13-Apr",
          "14-Apr",
          "15-Apr",
          "16-Apr",
          "17-Apr",
          "18-Apr",
          "19-Apr",
          "20-Apr",
          "21-Apr",
          "22-Apr",
          "23-Apr",
          "24-Apr",
          "25-Apr",
          "26-Apr",
          "27-Apr",
          "28-Apr",
          "29-Apr",
          "30-Apr",
          "01-May",
          "02-May",
          "03-May",
          "04-May",
          "05-May",
          "06-May",
          "07-May",
          "08-May",
          "09-May",
          "10-May",
          "11-May",
          "12-May",
          "13-May",
          "14-May",
          "15-May",
          "16-May",
          "17-May",
          "18-May",
          "19-May",
          "20-May",
          "21-May",
          "22-May",
          "23-May",
          "24-May",
          "25-May",
          "26-May",
          "27-May",
          "28-May",
          "29-May",
          "30-May",
          "31-May",
          "01-Jun",
          "02-Jun",
          "03-Jun",
          "04-Jun",
          "05-Jun",
          "06-Jun",
          "07-Jun",
          "08-Jun",
          "09-Jun",
          "10-Jun",
          "11-Jun",
          "12-Jun",
          "13-Jun",
          "14-Jun",
          "15-Jun",
          "16-Jun",
          "17-Jun",
          "18-Jun",
          "19-Jun",
          "20-Jun"
         ],
         "y": [
          0,
          1,
          2,
          3,
          4,
          5,
          6,
          7,
          8,
          9,
          10,
          11,
          12,
          13,
          14,
          15,
          16,
          17,
          18,
          4,
          1,
          2,
          3,
          4,
          4,
          5,
          6,
          5,
          2,
          3,
          3,
          3,
          4,
          5,
          5,
          6,
          7,
          8,
          9,
          10,
          10,
          11,
          12,
          13,
          14,
          15,
          16,
          16,
          16,
          17,
          18,
          19,
          20,
          20,
          21,
          22,
          23,
          24,
          25,
          24,
          19,
          14,
          13,
          10,
          5,
          6,
          7,
          7,
          8,
          9,
          8,
          7,
          8,
          9,
          9,
          10,
          7,
          8,
          7,
          7,
          7,
          6,
          6,
          7,
          8,
          8,
          8,
          9,
          9,
          9,
          9,
          9,
          9,
          10,
          6,
          7,
          7,
          8,
          9
         ]
        },
        {
         "hovertext": [
          "(5. On 14-Mar there were 5",
          "(4. On 14-Mar there were 5",
          "(4. On 14-Mar there were 5",
          "(5. On 14-Mar there were 5",
          "(7. On 14-Mar there were 5",
          "(10. On 14-Mar there were 5",
          "(14. On 18-Mar there were 7",
          "(21. On 20-Mar there were 14",
          "(21. On 20-Mar there were 14",
          "(24. On 20-Mar there were 14",
          "(23. On 20-Mar there were 14",
          "(28. On 20-Mar there were 14",
          "(29. On 21-Mar there were 21",
          "(33. On 21-Mar there were 21",
          "(42. On 21-Mar there were 21",
          "(64. On 27-Mar there were 33",
          "(89. On 29-Mar there were 64",
          "(112. On 29-Mar there were 64",
          "(144. On 30-Mar there were 89",
          "(281. On 01-Apr there were 144",
          "(372. On 02-Apr there were 281",
          "(423. On 02-Apr there were 281",
          "(480. On 02-Apr there were 281",
          "(502. On 02-Apr there were 281",
          "(547. On 02-Apr there were 281",
          "(639. On 03-Apr there were 372",
          "(683. On 03-Apr there were 372",
          "(862. On 05-Apr there were 480",
          "(1023. On 07-Apr there were 547",
          "(1102. On 08-Apr there were 639",
          "(1451. On 10-Apr there were 862",
          "(1500. On 10-Apr there were 862",
          "(1505. On 10-Apr there were 862",
          "(1550. On 10-Apr there were 862",
          "(1593. On 10-Apr there were 862",
          "(1643. On 10-Apr there were 862",
          "(1668. On 10-Apr there were 862",
          "(1603. On 10-Apr there were 862",
          "(1498. On 10-Apr there were 862",
          "(1476. On 10-Apr there were 862",
          "(1518. On 10-Apr there were 862",
          "(1604. On 10-Apr there were 862",
          "(1702. On 10-Apr there were 862",
          "(1987. On 11-Apr there were 1023",
          "(2177. On 12-Apr there were 1102",
          "(2182. On 12-Apr there were 1102",
          "(2291. On 13-Apr there were 1451",
          "(2362. On 13-Apr there were 1451",
          "(2510. On 13-Apr there were 1451",
          "(2802. On 13-Apr there were 1451",
          "(3123. On 17-Apr there were 1593",
          "(3403. On 25-Apr there were 1702",
          "(3572. On 26-Apr there were 1987",
          "(3925. On 26-Apr there were 1987",
          "(3983. On 27-Apr there were 2177",
          "(4230. On 27-Apr there were 2177",
          "(4454. On 29-Apr there were 2291",
          "(4781. On 01-May there were 2510",
          "(5031. On 02-May there were 2802",
          "(5041. On 02-May there were 2802",
          "(5034. On 02-May there were 2802",
          "(5310. On 02-May there were 2802",
          "(5254. On 02-May there were 2802",
          "(5278. On 02-May there were 2802",
          "(5405. On 02-May there were 2802",
          "(5409. On 02-May there were 2802",
          "(5638. On 03-May there were 3123",
          "(5720. On 03-May there were 3123",
          "(5898. On 03-May there were 3123",
          "(6214. On 03-May there were 3123",
          "(6412. On 04-May there were 3403",
          "(6617. On 04-May there were 3403",
          "(7006. On 05-May there were 3572",
          "(7223. On 06-May there were 3925",
          "(7690. On 06-May there were 3925",
          "(8470. On 09-May there were 4454",
          "(9142. On 10-May there were 4781",
          "(10058. On 11-May there were 5031",
          "(10893. On 19-May there were 5638",
          "(11565. On 21-May there were 5898",
          "(12333. On 22-May there were 6214",
          "(13488. On 25-May there were 7006",
          "(14447. On 27-May there were 7690",
          "(15311. On 27-May there were 7690",
          "(16229. On 28-May there were 8470",
          "(17125. On 29-May there were 9142",
          "(17712. On 29-May there were 9142",
          "(18543. On 30-May there were 10058",
          "(19581. On 30-May there were 10058",
          "(20871. On 31-May there were 10893",
          "(22212. On 01-Jun there were 11565",
          "(22742. On 01-Jun there were 11565",
          "(24032. On 02-Jun there were 12333",
          "(25002. On 03-Jun there were 13488",
          "(26351. On 03-Jun there were 13488",
          "(27741. On 04-Jun there were 14447",
          "(26669. On 03-Jun there were 13488",
          "(27512. On 04-Jun there were 14447",
          "(23340. On 02-Jun there were 12333"
         ],
         "marker": {
          "color": "black",
          "line": {
           "width": 2
          }
         },
         "mode": "lines+markers",
         "name": "Active",
         "type": "scatter",
         "x": [
          "14-Mar",
          "15-Mar",
          "16-Mar",
          "17-Mar",
          "18-Mar",
          "19-Mar",
          "20-Mar",
          "21-Mar",
          "22-Mar",
          "23-Mar",
          "24-Mar",
          "25-Mar",
          "26-Mar",
          "27-Mar",
          "28-Mar",
          "29-Mar",
          "30-Mar",
          "31-Mar",
          "01-Apr",
          "02-Apr",
          "03-Apr",
          "04-Apr",
          "05-Apr",
          "06-Apr",
          "07-Apr",
          "08-Apr",
          "09-Apr",
          "10-Apr",
          "11-Apr",
          "12-Apr",
          "13-Apr",
          "14-Apr",
          "15-Apr",
          "16-Apr",
          "17-Apr",
          "18-Apr",
          "19-Apr",
          "20-Apr",
          "21-Apr",
          "22-Apr",
          "23-Apr",
          "24-Apr",
          "25-Apr",
          "26-Apr",
          "27-Apr",
          "28-Apr",
          "29-Apr",
          "30-Apr",
          "01-May",
          "02-May",
          "03-May",
          "04-May",
          "05-May",
          "06-May",
          "07-May",
          "08-May",
          "09-May",
          "10-May",
          "11-May",
          "12-May",
          "13-May",
          "14-May",
          "15-May",
          "16-May",
          "17-May",
          "18-May",
          "19-May",
          "20-May",
          "21-May",
          "22-May",
          "23-May",
          "24-May",
          "25-May",
          "26-May",
          "27-May",
          "28-May",
          "29-May",
          "30-May",
          "31-May",
          "01-Jun",
          "02-Jun",
          "03-Jun",
          "04-Jun",
          "05-Jun",
          "06-Jun",
          "07-Jun",
          "08-Jun",
          "09-Jun",
          "10-Jun",
          "11-Jun",
          "12-Jun",
          "13-Jun",
          "14-Jun",
          "15-Jun",
          "16-Jun",
          "17-Jun",
          "18-Jun",
          "19-Jun",
          "20-Jun"
         ],
         "y": [
          0,
          1,
          2,
          3,
          4,
          5,
          2,
          1,
          2,
          3,
          4,
          5,
          5,
          6,
          7,
          2,
          1,
          2,
          2,
          1,
          1,
          2,
          3,
          4,
          5,
          5,
          6,
          5,
          4,
          4,
          3,
          4,
          5,
          6,
          7,
          8,
          9,
          10,
          11,
          12,
          13,
          14,
          15,
          15,
          15,
          16,
          16,
          17,
          18,
          19,
          16,
          9,
          9,
          10,
          10,
          11,
          10,
          9,
          9,
          10,
          11,
          12,
          13,
          14,
          15,
          16,
          16,
          17,
          18,
          19,
          19,
          20,
          20,
          20,
          21,
          19,
          19,
          19,
          12,
          11,
          11,
          9,
          8,
          9,
          9,
          9,
          10,
          10,
          11,
          11,
          11,
          12,
          12,
          12,
          13,
          13,
          15,
          15,
          18
         ]
        }
       ],
       "layout": {
        "font": {
         "color": "#7f7f7f",
         "family": "Courier New, monospace",
         "size": 18
        },
        "height": 600,
        "template": {
         "data": {
          "bar": [
           {
            "error_x": {
             "color": "#2a3f5f"
            },
            "error_y": {
             "color": "#2a3f5f"
            },
            "marker": {
             "line": {
              "color": "#E5ECF6",
              "width": 0.5
             }
            },
            "type": "bar"
           }
          ],
          "barpolar": [
           {
            "marker": {
             "line": {
              "color": "#E5ECF6",
              "width": 0.5
             }
            },
            "type": "barpolar"
           }
          ],
          "carpet": [
           {
            "aaxis": {
             "endlinecolor": "#2a3f5f",
             "gridcolor": "white",
             "linecolor": "white",
             "minorgridcolor": "white",
             "startlinecolor": "#2a3f5f"
            },
            "baxis": {
             "endlinecolor": "#2a3f5f",
             "gridcolor": "white",
             "linecolor": "white",
             "minorgridcolor": "white",
             "startlinecolor": "#2a3f5f"
            },
            "type": "carpet"
           }
          ],
          "choropleth": [
           {
            "colorbar": {
             "outlinewidth": 0,
             "ticks": ""
            },
            "type": "choropleth"
           }
          ],
          "contour": [
           {
            "colorbar": {
             "outlinewidth": 0,
             "ticks": ""
            },
            "colorscale": [
             [
              0,
              "#0d0887"
             ],
             [
              0.1111111111111111,
              "#46039f"
             ],
             [
              0.2222222222222222,
              "#7201a8"
             ],
             [
              0.3333333333333333,
              "#9c179e"
             ],
             [
              0.4444444444444444,
              "#bd3786"
             ],
             [
              0.5555555555555556,
              "#d8576b"
             ],
             [
              0.6666666666666666,
              "#ed7953"
             ],
             [
              0.7777777777777778,
              "#fb9f3a"
             ],
             [
              0.8888888888888888,
              "#fdca26"
             ],
             [
              1,
              "#f0f921"
             ]
            ],
            "type": "contour"
           }
          ],
          "contourcarpet": [
           {
            "colorbar": {
             "outlinewidth": 0,
             "ticks": ""
            },
            "type": "contourcarpet"
           }
          ],
          "heatmap": [
           {
            "colorbar": {
             "outlinewidth": 0,
             "ticks": ""
            },
            "colorscale": [
             [
              0,
              "#0d0887"
             ],
             [
              0.1111111111111111,
              "#46039f"
             ],
             [
              0.2222222222222222,
              "#7201a8"
             ],
             [
              0.3333333333333333,
              "#9c179e"
             ],
             [
              0.4444444444444444,
              "#bd3786"
             ],
             [
              0.5555555555555556,
              "#d8576b"
             ],
             [
              0.6666666666666666,
              "#ed7953"
             ],
             [
              0.7777777777777778,
              "#fb9f3a"
             ],
             [
              0.8888888888888888,
              "#fdca26"
             ],
             [
              1,
              "#f0f921"
             ]
            ],
            "type": "heatmap"
           }
          ],
          "heatmapgl": [
           {
            "colorbar": {
             "outlinewidth": 0,
             "ticks": ""
            },
            "colorscale": [
             [
              0,
              "#0d0887"
             ],
             [
              0.1111111111111111,
              "#46039f"
             ],
             [
              0.2222222222222222,
              "#7201a8"
             ],
             [
              0.3333333333333333,
              "#9c179e"
             ],
             [
              0.4444444444444444,
              "#bd3786"
             ],
             [
              0.5555555555555556,
              "#d8576b"
             ],
             [
              0.6666666666666666,
              "#ed7953"
             ],
             [
              0.7777777777777778,
              "#fb9f3a"
             ],
             [
              0.8888888888888888,
              "#fdca26"
             ],
             [
              1,
              "#f0f921"
             ]
            ],
            "type": "heatmapgl"
           }
          ],
          "histogram": [
           {
            "marker": {
             "colorbar": {
              "outlinewidth": 0,
              "ticks": ""
             }
            },
            "type": "histogram"
           }
          ],
          "histogram2d": [
           {
            "colorbar": {
             "outlinewidth": 0,
             "ticks": ""
            },
            "colorscale": [
             [
              0,
              "#0d0887"
             ],
             [
              0.1111111111111111,
              "#46039f"
             ],
             [
              0.2222222222222222,
              "#7201a8"
             ],
             [
              0.3333333333333333,
              "#9c179e"
             ],
             [
              0.4444444444444444,
              "#bd3786"
             ],
             [
              0.5555555555555556,
              "#d8576b"
             ],
             [
              0.6666666666666666,
              "#ed7953"
             ],
             [
              0.7777777777777778,
              "#fb9f3a"
             ],
             [
              0.8888888888888888,
              "#fdca26"
             ],
             [
              1,
              "#f0f921"
             ]
            ],
            "type": "histogram2d"
           }
          ],
          "histogram2dcontour": [
           {
            "colorbar": {
             "outlinewidth": 0,
             "ticks": ""
            },
            "colorscale": [
             [
              0,
              "#0d0887"
             ],
             [
              0.1111111111111111,
              "#46039f"
             ],
             [
              0.2222222222222222,
              "#7201a8"
             ],
             [
              0.3333333333333333,
              "#9c179e"
             ],
             [
              0.4444444444444444,
              "#bd3786"
             ],
             [
              0.5555555555555556,
              "#d8576b"
             ],
             [
              0.6666666666666666,
              "#ed7953"
             ],
             [
              0.7777777777777778,
              "#fb9f3a"
             ],
             [
              0.8888888888888888,
              "#fdca26"
             ],
             [
              1,
              "#f0f921"
             ]
            ],
            "type": "histogram2dcontour"
           }
          ],
          "mesh3d": [
           {
            "colorbar": {
             "outlinewidth": 0,
             "ticks": ""
            },
            "type": "mesh3d"
           }
          ],
          "parcoords": [
           {
            "line": {
             "colorbar": {
              "outlinewidth": 0,
              "ticks": ""
             }
            },
            "type": "parcoords"
           }
          ],
          "pie": [
           {
            "automargin": true,
            "type": "pie"
           }
          ],
          "scatter": [
           {
            "marker": {
             "colorbar": {
              "outlinewidth": 0,
              "ticks": ""
             }
            },
            "type": "scatter"
           }
          ],
          "scatter3d": [
           {
            "line": {
             "colorbar": {
              "outlinewidth": 0,
              "ticks": ""
             }
            },
            "marker": {
             "colorbar": {
              "outlinewidth": 0,
              "ticks": ""
             }
            },
            "type": "scatter3d"
           }
          ],
          "scattercarpet": [
           {
            "marker": {
             "colorbar": {
              "outlinewidth": 0,
              "ticks": ""
             }
            },
            "type": "scattercarpet"
           }
          ],
          "scattergeo": [
           {
            "marker": {
             "colorbar": {
              "outlinewidth": 0,
              "ticks": ""
             }
            },
            "type": "scattergeo"
           }
          ],
          "scattergl": [
           {
            "marker": {
             "colorbar": {
              "outlinewidth": 0,
              "ticks": ""
             }
            },
            "type": "scattergl"
           }
          ],
          "scattermapbox": [
           {
            "marker": {
             "colorbar": {
              "outlinewidth": 0,
              "ticks": ""
             }
            },
            "type": "scattermapbox"
           }
          ],
          "scatterpolar": [
           {
            "marker": {
             "colorbar": {
              "outlinewidth": 0,
              "ticks": ""
             }
            },
            "type": "scatterpolar"
           }
          ],
          "scatterpolargl": [
           {
            "marker": {
             "colorbar": {
              "outlinewidth": 0,
              "ticks": ""
             }
            },
            "type": "scatterpolargl"
           }
          ],
          "scatterternary": [
           {
            "marker": {
             "colorbar": {
              "outlinewidth": 0,
              "ticks": ""
             }
            },
            "type": "scatterternary"
           }
          ],
          "surface": [
           {
            "colorbar": {
             "outlinewidth": 0,
             "ticks": ""
            },
            "colorscale": [
             [
              0,
              "#0d0887"
             ],
             [
              0.1111111111111111,
              "#46039f"
             ],
             [
              0.2222222222222222,
              "#7201a8"
             ],
             [
              0.3333333333333333,
              "#9c179e"
             ],
             [
              0.4444444444444444,
              "#bd3786"
             ],
             [
              0.5555555555555556,
              "#d8576b"
             ],
             [
              0.6666666666666666,
              "#ed7953"
             ],
             [
              0.7777777777777778,
              "#fb9f3a"
             ],
             [
              0.8888888888888888,
              "#fdca26"
             ],
             [
              1,
              "#f0f921"
             ]
            ],
            "type": "surface"
           }
          ],
          "table": [
           {
            "cells": {
             "fill": {
              "color": "#EBF0F8"
             },
             "line": {
              "color": "white"
             }
            },
            "header": {
             "fill": {
              "color": "#C8D4E3"
             },
             "line": {
              "color": "white"
             }
            },
            "type": "table"
           }
          ]
         },
         "layout": {
          "annotationdefaults": {
           "arrowcolor": "#2a3f5f",
           "arrowhead": 0,
           "arrowwidth": 1
          },
          "coloraxis": {
           "colorbar": {
            "outlinewidth": 0,
            "ticks": ""
           }
          },
          "colorscale": {
           "diverging": [
            [
             0,
             "#8e0152"
            ],
            [
             0.1,
             "#c51b7d"
            ],
            [
             0.2,
             "#de77ae"
            ],
            [
             0.3,
             "#f1b6da"
            ],
            [
             0.4,
             "#fde0ef"
            ],
            [
             0.5,
             "#f7f7f7"
            ],
            [
             0.6,
             "#e6f5d0"
            ],
            [
             0.7,
             "#b8e186"
            ],
            [
             0.8,
             "#7fbc41"
            ],
            [
             0.9,
             "#4d9221"
            ],
            [
             1,
             "#276419"
            ]
           ],
           "sequential": [
            [
             0,
             "#0d0887"
            ],
            [
             0.1111111111111111,
             "#46039f"
            ],
            [
             0.2222222222222222,
             "#7201a8"
            ],
            [
             0.3333333333333333,
             "#9c179e"
            ],
            [
             0.4444444444444444,
             "#bd3786"
            ],
            [
             0.5555555555555556,
             "#d8576b"
            ],
            [
             0.6666666666666666,
             "#ed7953"
            ],
            [
             0.7777777777777778,
             "#fb9f3a"
            ],
            [
             0.8888888888888888,
             "#fdca26"
            ],
            [
             1,
             "#f0f921"
            ]
           ],
           "sequentialminus": [
            [
             0,
             "#0d0887"
            ],
            [
             0.1111111111111111,
             "#46039f"
            ],
            [
             0.2222222222222222,
             "#7201a8"
            ],
            [
             0.3333333333333333,
             "#9c179e"
            ],
            [
             0.4444444444444444,
             "#bd3786"
            ],
            [
             0.5555555555555556,
             "#d8576b"
            ],
            [
             0.6666666666666666,
             "#ed7953"
            ],
            [
             0.7777777777777778,
             "#fb9f3a"
            ],
            [
             0.8888888888888888,
             "#fdca26"
            ],
            [
             1,
             "#f0f921"
            ]
           ]
          },
          "colorway": [
           "#636efa",
           "#EF553B",
           "#00cc96",
           "#ab63fa",
           "#FFA15A",
           "#19d3f3",
           "#FF6692",
           "#B6E880",
           "#FF97FF",
           "#FECB52"
          ],
          "font": {
           "color": "#2a3f5f"
          },
          "geo": {
           "bgcolor": "white",
           "lakecolor": "white",
           "landcolor": "#E5ECF6",
           "showlakes": true,
           "showland": true,
           "subunitcolor": "white"
          },
          "hoverlabel": {
           "align": "left"
          },
          "hovermode": "closest",
          "mapbox": {
           "style": "light"
          },
          "paper_bgcolor": "white",
          "plot_bgcolor": "#E5ECF6",
          "polar": {
           "angularaxis": {
            "gridcolor": "white",
            "linecolor": "white",
            "ticks": ""
           },
           "bgcolor": "#E5ECF6",
           "radialaxis": {
            "gridcolor": "white",
            "linecolor": "white",
            "ticks": ""
           }
          },
          "scene": {
           "xaxis": {
            "backgroundcolor": "#E5ECF6",
            "gridcolor": "white",
            "gridwidth": 2,
            "linecolor": "white",
            "showbackground": true,
            "ticks": "",
            "zerolinecolor": "white"
           },
           "yaxis": {
            "backgroundcolor": "#E5ECF6",
            "gridcolor": "white",
            "gridwidth": 2,
            "linecolor": "white",
            "showbackground": true,
            "ticks": "",
            "zerolinecolor": "white"
           },
           "zaxis": {
            "backgroundcolor": "#E5ECF6",
            "gridcolor": "white",
            "gridwidth": 2,
            "linecolor": "white",
            "showbackground": true,
            "ticks": "",
            "zerolinecolor": "white"
           }
          },
          "shapedefaults": {
           "line": {
            "color": "#2a3f5f"
           }
          },
          "ternary": {
           "aaxis": {
            "gridcolor": "white",
            "linecolor": "white",
            "ticks": ""
           },
           "baxis": {
            "gridcolor": "white",
            "linecolor": "white",
            "ticks": ""
           },
           "bgcolor": "#E5ECF6",
           "caxis": {
            "gridcolor": "white",
            "linecolor": "white",
            "ticks": ""
           }
          },
          "title": {
           "x": 0.05
          },
          "xaxis": {
           "automargin": true,
           "gridcolor": "white",
           "linecolor": "white",
           "ticks": "",
           "title": {
            "standoff": 15
           },
           "zerolinecolor": "white",
           "zerolinewidth": 2
          },
          "yaxis": {
           "automargin": true,
           "gridcolor": "white",
           "linecolor": "white",
           "ticks": "",
           "title": {
            "standoff": 15
           },
           "zerolinecolor": "white",
           "zerolinewidth": 2
          }
         }
        },
        "title": {
         "text": "Doubling days for Delhi"
        },
        "width": 800,
        "xaxis": {
         "title": {
          "text": "Days"
         }
        },
        "yaxis": {
         "title": {
          "text": "Day"
         }
        }
       }
      },
      "text/html": [
       "<div>\n",
       "        \n",
       "        \n",
       "            <div id=\"acf84464-d365-4403-bf4f-eec0f1c9c4f7\" class=\"plotly-graph-div\" style=\"height:600px; width:800px;\"></div>\n",
       "            <script type=\"text/javascript\">\n",
       "                require([\"plotly\"], function(Plotly) {\n",
       "                    window.PLOTLYENV=window.PLOTLYENV || {};\n",
       "                    \n",
       "                if (document.getElementById(\"acf84464-d365-4403-bf4f-eec0f1c9c4f7\")) {\n",
       "                    Plotly.newPlot(\n",
       "                        'acf84464-d365-4403-bf4f-eec0f1c9c4f7',\n",
       "                        [{\"hovertext\": [\"(7. On 14-Mar there were 7\", \"(7. On 14-Mar there were 7\", \"(7. On 14-Mar there were 7\", \"(8. On 14-Mar there were 7\", \"(10. On 14-Mar there were 7\", \"(14. On 14-Mar there were 7\", \"(20. On 18-Mar there were 10\", \"(27. On 19-Mar there were 14\", \"(27. On 19-Mar there were 14\", \"(30. On 20-Mar there were 20\", \"(30. On 20-Mar there were 20\", \"(35. On 20-Mar there were 20\", \"(36. On 20-Mar there were 20\", \"(40. On 20-Mar there were 20\", \"(49. On 21-Mar there were 27\", \"(72. On 26-Mar there were 36\", \"(97. On 28-Mar there were 49\", \"(120. On 29-Mar there were 72\", \"(152. On 30-Mar there were 97\", \"(293. On 01-Apr there were 152\", \"(386. On 02-Apr there were 293\", \"(445. On 02-Apr there were 293\", \"(503. On 02-Apr there were 293\", \"(525. On 02-Apr there were 293\", \"(576. On 02-Apr there were 293\", \"(669. On 03-Apr there were 386\", \"(720. On 03-Apr there were 386\", \"(903. On 05-Apr there were 503\", \"(1069. On 07-Apr there were 576\", \"(1154. On 08-Apr there were 669\", \"(1510. On 10-Apr there were 903\", \"(1561. On 10-Apr there were 903\", \"(1578. On 10-Apr there were 903\", \"(1640. On 10-Apr there were 903\", \"(1707. On 10-Apr there were 903\", \"(1893. On 11-Apr there were 1069\", \"(2003. On 11-Apr there were 1069\", \"(2081. On 11-Apr there were 1069\", \"(2156. On 12-Apr there were 1154\", \"(2248. On 12-Apr there were 1154\", \"(2376. On 13-Apr there were 1510\", \"(2514. On 13-Apr there were 1510\", \"(2625. On 13-Apr there were 1510\", \"(2918. On 13-Apr there were 1510\", \"(3108. On 14-Apr there were 1561\", \"(3314. On 17-Apr there were 1707\", \"(3439. On 18-Apr there were 1893\", \"(3515. On 18-Apr there were 1893\", \"(3738. On 18-Apr there were 1893\", \"(4122. On 20-Apr there were 2081\", \"(4549. On 23-Apr there were 2376\", \"(4898. On 24-Apr there were 2514\", \"(5104. On 25-Apr there were 2625\", \"(5532. On 26-Apr there were 2918\", \"(5980. On 27-Apr there were 3108\", \"(6318. On 28-Apr there were 3314\", \"(6542. On 28-Apr there were 3314\", \"(6923. On 30-Apr there were 3515\", \"(7233. On 01-May there were 3738\", \"(7639. On 02-May there were 4122\", \"(7998. On 02-May there were 4122\", \"(8470. On 03-May there were 4549\", \"(8895. On 03-May there were 4549\", \"(9333. On 04-May there were 4898\", \"(9755. On 04-May there were 4898\", \"(10054. On 05-May there were 5104\", \"(10554. On 06-May there were 5532\", \"(11088. On 07-May there were 5980\", \"(11659. On 07-May there were 5980\", \"(12319. On 08-May there were 6318\", \"(12910. On 09-May there were 6542\", \"(13418. On 10-May there were 6923\", \"(14053. On 11-May there were 7233\", \"(14465. On 11-May there were 7233\", \"(15257. On 12-May there were 7639\", \"(16281. On 14-May there were 8470\", \"(17386. On 15-May there were 8895\", \"(18549. On 16-May there were 9333\", \"(19844. On 18-May there were 10054\", \"(20834. On 19-May there were 10554\", \"(22132. On 20-May there were 11088\", \"(23645. On 22-May there were 12319\", \"(25004. On 23-May there were 12910\", \"(26334. On 24-May there were 13418\", \"(27654. On 25-May there were 14053\", \"(28936. On 27-May there were 15257\", \"(29943. On 27-May there were 15257\", \"(31309. On 28-May there were 16281\", \"(32810. On 29-May there were 17386\", \"(34687. On 29-May there were 17386\", \"(36824. On 30-May there were 18549\", \"(38958. On 31-May there were 19844\", \"(41182. On 01-Jun there were 20834\", \"(42829. On 02-Jun there were 22132\", \"(44688. On 03-Jun there were 23645\", \"(47102. On 03-Jun there were 23645\", \"(49979. On 04-Jun there were 25004\", \"(53116. On 06-Jun there were 27654\", \"(56746. On 07-Jun there were 28936\"], \"marker\": {\"color\": \"blue\", \"line\": {\"width\": 2}}, \"mode\": \"lines+markers\", \"name\": \"Cases\", \"type\": \"scatter\", \"x\": [\"14-Mar\", \"15-Mar\", \"16-Mar\", \"17-Mar\", \"18-Mar\", \"19-Mar\", \"20-Mar\", \"21-Mar\", \"22-Mar\", \"23-Mar\", \"24-Mar\", \"25-Mar\", \"26-Mar\", \"27-Mar\", \"28-Mar\", \"29-Mar\", \"30-Mar\", \"31-Mar\", \"01-Apr\", \"02-Apr\", \"03-Apr\", \"04-Apr\", \"05-Apr\", \"06-Apr\", \"07-Apr\", \"08-Apr\", \"09-Apr\", \"10-Apr\", \"11-Apr\", \"12-Apr\", \"13-Apr\", \"14-Apr\", \"15-Apr\", \"16-Apr\", \"17-Apr\", \"18-Apr\", \"19-Apr\", \"20-Apr\", \"21-Apr\", \"22-Apr\", \"23-Apr\", \"24-Apr\", \"25-Apr\", \"26-Apr\", \"27-Apr\", \"28-Apr\", \"29-Apr\", \"30-Apr\", \"01-May\", \"02-May\", \"03-May\", \"04-May\", \"05-May\", \"06-May\", \"07-May\", \"08-May\", \"09-May\", \"10-May\", \"11-May\", \"12-May\", \"13-May\", \"14-May\", \"15-May\", \"16-May\", \"17-May\", \"18-May\", \"19-May\", \"20-May\", \"21-May\", \"22-May\", \"23-May\", \"24-May\", \"25-May\", \"26-May\", \"27-May\", \"28-May\", \"29-May\", \"30-May\", \"31-May\", \"01-Jun\", \"02-Jun\", \"03-Jun\", \"04-Jun\", \"05-Jun\", \"06-Jun\", \"07-Jun\", \"08-Jun\", \"09-Jun\", \"10-Jun\", \"11-Jun\", \"12-Jun\", \"13-Jun\", \"14-Jun\", \"15-Jun\", \"16-Jun\", \"17-Jun\", \"18-Jun\", \"19-Jun\", \"20-Jun\"], \"y\": [0, 1, 2, 3, 4, 5, 2, 2, 3, 3, 4, 5, 6, 7, 7, 3, 2, 2, 2, 1, 1, 2, 3, 4, 5, 5, 6, 5, 4, 4, 3, 4, 5, 6, 7, 7, 8, 9, 9, 10, 10, 11, 12, 13, 13, 11, 11, 12, 13, 12, 10, 10, 10, 10, 10, 10, 11, 10, 10, 10, 11, 11, 12, 12, 13, 13, 13, 13, 14, 14, 14, 14, 14, 15, 15, 14, 14, 14, 13, 13, 13, 12, 12, 12, 12, 11, 12, 12, 12, 13, 13, 13, 13, 13, 13, 14, 14, 13, 13]}, {\"hovertext\": [\"(1. On 14-Mar there were 1\", \"(2. On 14-Mar there were 1\", \"(2. On 14-Mar there were 1\", \"(2. On 14-Mar there were 1\", \"(2. On 14-Mar there were 1\", \"(3. On 15-Mar there were 2\", \"(5. On 19-Mar there were 3\", \"(5. On 19-Mar there were 3\", \"(5. On 19-Mar there were 3\", \"(5. On 19-Mar there were 3\", \"(6. On 19-Mar there were 3\", \"(6. On 19-Mar there were 3\", \"(6. On 19-Mar there were 3\", \"(6. On 19-Mar there were 3\", \"(6. On 19-Mar there were 3\", \"(6. On 19-Mar there were 3\", \"(6. On 19-Mar there were 3\", \"(6. On 19-Mar there were 3\", \"(6. On 19-Mar there were 3\", \"(8. On 20-Mar there were 5\", \"(8. On 20-Mar there were 5\", \"(16. On 02-Apr there were 8\", \"(16. On 02-Apr there were 8\", \"(16. On 02-Apr there were 8\", \"(20. On 04-Apr there were 16\", \"(21. On 04-Apr there were 16\", \"(25. On 04-Apr there were 16\", \"(27. On 04-Apr there were 16\", \"(27. On 04-Apr there were 16\", \"(28. On 04-Apr there were 16\", \"(31. On 04-Apr there were 16\", \"(31. On 04-Apr there were 16\", \"(41. On 08-Apr there were 21\", \"(52. On 10-Apr there were 27\", \"(72. On 15-Apr there were 41\", \"(207. On 18-Apr there were 207\", \"(290. On 18-Apr there were 207\", \"(431. On 19-Apr there were 290\", \"(611. On 20-Apr there were 431\", \"(724. On 20-Apr there were 431\", \"(808. On 20-Apr there were 431\", \"(857. On 20-Apr there were 431\", \"(869. On 21-Apr there were 611\", \"(877. On 21-Apr there were 611\", \"(877. On 21-Apr there were 611\", \"(1078. On 21-Apr there were 611\", \"(1092. On 21-Apr there were 611\", \"(1094. On 21-Apr there were 611\", \"(1167. On 21-Apr there were 611\", \"(1256. On 22-Apr there were 724\", \"(1362. On 22-Apr there were 724\", \"(1431. On 22-Apr there were 724\", \"(1468. On 23-Apr there were 808\", \"(1542. On 23-Apr there were 808\", \"(1931. On 28-Apr there were 1078\", \"(2020. On 28-Apr there were 1078\", \"(2020. On 28-Apr there were 1078\", \"(2069. On 28-Apr there were 1078\", \"(2129. On 28-Apr there were 1078\", \"(2512. On 02-May there were 1256\", \"(2858. On 04-May there were 1431\", \"(3045. On 06-May there were 1542\", \"(3518. On 07-May there were 1931\", \"(3926. On 08-May there were 2020\", \"(4202. On 11-May there were 2129\", \"(4485. On 12-May there were 2512\", \"(4750. On 12-May there were 2512\", \"(5192. On 13-May there were 2858\", \"(5567. On 13-May there were 2858\", \"(5897. On 14-May there were 3045\", \"(6267. On 15-May there were 3518\", \"(6540. On 15-May there were 3518\", \"(6771. On 15-May there were 3518\", \"(6954. On 15-May there were 3518\", \"(7264. On 16-May there were 3926\", \"(7495. On 16-May there were 3926\", \"(7846. On 16-May there were 3926\", \"(8075. On 17-May there were 4202\", \"(8478. On 18-May there were 4485\", \"(8746. On 18-May there were 4485\", \"(9243. On 19-May there were 4750\", \"(9542. On 20-May there were 5192\", \"(9898. On 20-May there were 5192\", \"(10315. On 20-May there were 5192\", \"(10664. On 21-May there were 5567\", \"(10999. On 21-May there were 5567\", \"(11357. On 22-May there were 5897\", \"(11861. On 23-May there were 6267\", \"(12245. On 23-May there were 6267\", \"(12731. On 24-May there were 6540\", \"(13398. On 25-May there were 6771\", \"(14945. On 28-May there were 7495\", \"(15823. On 30-May there were 8075\", \"(16427. On 31-May there were 8478\", \"(16500. On 31-May there were 8478\", \"(17457. On 01-Jun there were 8746\", \"(21341. On 07-Jun there were 10999\", \"(23569. On 09-Jun there were 11861\", \"(31294. On 14-Jun there were 15823\"], \"marker\": {\"color\": \"green\", \"line\": {\"width\": 2}}, \"mode\": \"lines+markers\", \"name\": \"Recovered\", \"type\": \"scatter\", \"x\": [\"14-Mar\", \"15-Mar\", \"16-Mar\", \"17-Mar\", \"18-Mar\", \"19-Mar\", \"20-Mar\", \"21-Mar\", \"22-Mar\", \"23-Mar\", \"24-Mar\", \"25-Mar\", \"26-Mar\", \"27-Mar\", \"28-Mar\", \"29-Mar\", \"30-Mar\", \"31-Mar\", \"01-Apr\", \"02-Apr\", \"03-Apr\", \"04-Apr\", \"05-Apr\", \"06-Apr\", \"07-Apr\", \"08-Apr\", \"09-Apr\", \"10-Apr\", \"11-Apr\", \"12-Apr\", \"13-Apr\", \"14-Apr\", \"15-Apr\", \"16-Apr\", \"17-Apr\", \"18-Apr\", \"19-Apr\", \"20-Apr\", \"21-Apr\", \"22-Apr\", \"23-Apr\", \"24-Apr\", \"25-Apr\", \"26-Apr\", \"27-Apr\", \"28-Apr\", \"29-Apr\", \"30-Apr\", \"01-May\", \"02-May\", \"03-May\", \"04-May\", \"05-May\", \"06-May\", \"07-May\", \"08-May\", \"09-May\", \"10-May\", \"11-May\", \"12-May\", \"13-May\", \"14-May\", \"15-May\", \"16-May\", \"17-May\", \"18-May\", \"19-May\", \"20-May\", \"21-May\", \"22-May\", \"23-May\", \"24-May\", \"25-May\", \"26-May\", \"27-May\", \"28-May\", \"29-May\", \"30-May\", \"31-May\", \"01-Jun\", \"02-Jun\", \"03-Jun\", \"04-Jun\", \"05-Jun\", \"06-Jun\", \"07-Jun\", \"08-Jun\", \"09-Jun\", \"10-Jun\", \"11-Jun\", \"12-Jun\", \"13-Jun\", \"14-Jun\", \"15-Jun\", \"16-Jun\", \"17-Jun\", \"18-Jun\", \"19-Jun\", \"20-Jun\"], \"y\": [0, 1, 2, 3, 4, 4, 1, 2, 3, 4, 5, 6, 7, 8, 9, 10, 11, 12, 13, 13, 14, 2, 3, 4, 3, 4, 5, 6, 7, 8, 9, 10, 7, 6, 2, 0, 1, 1, 1, 2, 3, 4, 4, 5, 6, 7, 8, 9, 10, 10, 11, 12, 12, 13, 9, 10, 11, 12, 13, 10, 9, 8, 8, 8, 6, 6, 7, 7, 8, 8, 8, 9, 10, 11, 11, 12, 13, 13, 13, 14, 14, 14, 15, 16, 16, 17, 17, 17, 18, 18, 18, 16, 15, 15, 16, 16, 11, 10, 6]}, {\"hovertext\": [\"(1. On 14-Mar there were 1\", \"(1. On 14-Mar there were 1\", \"(1. On 14-Mar there were 1\", \"(1. On 14-Mar there were 1\", \"(1. On 14-Mar there were 1\", \"(1. On 14-Mar there were 1\", \"(1. On 14-Mar there were 1\", \"(1. On 14-Mar there were 1\", \"(1. On 14-Mar there were 1\", \"(1. On 14-Mar there were 1\", \"(1. On 14-Mar there were 1\", \"(1. On 14-Mar there were 1\", \"(1. On 14-Mar there were 1\", \"(1. On 14-Mar there were 1\", \"(1. On 14-Mar there were 1\", \"(2. On 14-Mar there were 1\", \"(2. On 14-Mar there were 1\", \"(2. On 14-Mar there were 1\", \"(2. On 14-Mar there were 1\", \"(4. On 29-Mar there were 2\", \"(6. On 02-Apr there were 4\", \"(6. On 02-Apr there were 4\", \"(7. On 02-Apr there were 4\", \"(7. On 02-Apr there were 4\", \"(9. On 03-Apr there were 6\", \"(9. On 03-Apr there were 6\", \"(12. On 03-Apr there were 6\", \"(14. On 05-Apr there were 7\", \"(19. On 09-Apr there were 12\", \"(24. On 09-Apr there were 12\", \"(28. On 10-Apr there were 14\", \"(30. On 11-Apr there were 19\", \"(32. On 11-Apr there were 19\", \"(38. On 11-Apr there were 19\", \"(42. On 12-Apr there were 24\", \"(43. On 12-Apr there were 24\", \"(45. On 12-Apr there were 24\", \"(47. On 12-Apr there were 24\", \"(47. On 12-Apr there were 24\", \"(48. On 12-Apr there were 24\", \"(50. On 13-Apr there were 28\", \"(53. On 13-Apr there were 28\", \"(54. On 13-Apr there were 28\", \"(54. On 13-Apr there were 28\", \"(54. On 13-Apr there were 28\", \"(54. On 13-Apr there were 28\", \"(56. On 13-Apr there were 28\", \"(59. On 14-Apr there were 30\", \"(61. On 15-Apr there were 32\", \"(64. On 15-Apr there were 32\", \"(64. On 15-Apr there were 32\", \"(64. On 15-Apr there were 32\", \"(64. On 15-Apr there were 32\", \"(65. On 16-Apr there were 38\", \"(66. On 16-Apr there were 38\", \"(68. On 16-Apr there were 38\", \"(68. On 16-Apr there were 38\", \"(73. On 16-Apr there were 38\", \"(73. On 16-Apr there were 38\", \"(86. On 18-Apr there were 43\", \"(106. On 24-Apr there were 53\", \"(115. On 30-Apr there were 59\", \"(123. On 02-May there were 64\", \"(129. On 06-May there were 65\", \"(148. On 12-May there were 86\", \"(160. On 12-May there were 86\", \"(166. On 12-May there were 86\", \"(176. On 13-May there were 106\", \"(194. On 13-May there were 106\", \"(208. On 13-May there were 106\", \"(231. On 15-May there were 123\", \"(261. On 17-May there were 148\", \"(276. On 17-May there were 148\", \"(288. On 17-May there were 148\", \"(303. On 18-May there were 160\", \"(316. On 18-May there were 160\", \"(398. On 22-May there were 208\", \"(416. On 22-May there were 208\", \"(473. On 24-May there were 261\", \"(523. On 25-May there were 276\", \"(556. On 26-May there were 288\", \"(615. On 28-May there were 316\", \"(659. On 29-May there were 398\", \"(708. On 29-May there were 398\", \"(761. On 29-May there were 398\", \"(812. On 30-May there were 416\", \"(874. On 31-May there were 473\", \"(905. On 31-May there were 473\", \"(984. On 01-Jun there were 523\", \"(1085. On 02-Jun there were 556\", \"(1214. On 03-Jun there were 615\", \"(1271. On 04-Jun there were 659\", \"(1327. On 05-Jun there were 708\", \"(1400. On 05-Jun there were 708\", \"(1837. On 10-Jun there were 984\", \"(1904. On 10-Jun there were 984\", \"(1969. On 11-Jun there were 1085\", \"(2035. On 11-Jun there were 1085\", \"(2112. On 11-Jun there were 1085\"], \"marker\": {\"color\": \"red\", \"line\": {\"width\": 2}}, \"mode\": \"lines+markers\", \"name\": \"Dead\", \"type\": \"scatter\", \"x\": [\"14-Mar\", \"15-Mar\", \"16-Mar\", \"17-Mar\", \"18-Mar\", \"19-Mar\", \"20-Mar\", \"21-Mar\", \"22-Mar\", \"23-Mar\", \"24-Mar\", \"25-Mar\", \"26-Mar\", \"27-Mar\", \"28-Mar\", \"29-Mar\", \"30-Mar\", \"31-Mar\", \"01-Apr\", \"02-Apr\", \"03-Apr\", \"04-Apr\", \"05-Apr\", \"06-Apr\", \"07-Apr\", \"08-Apr\", \"09-Apr\", \"10-Apr\", \"11-Apr\", \"12-Apr\", \"13-Apr\", \"14-Apr\", \"15-Apr\", \"16-Apr\", \"17-Apr\", \"18-Apr\", \"19-Apr\", \"20-Apr\", \"21-Apr\", \"22-Apr\", \"23-Apr\", \"24-Apr\", \"25-Apr\", \"26-Apr\", \"27-Apr\", \"28-Apr\", \"29-Apr\", \"30-Apr\", \"01-May\", \"02-May\", \"03-May\", \"04-May\", \"05-May\", \"06-May\", \"07-May\", \"08-May\", \"09-May\", \"10-May\", \"11-May\", \"12-May\", \"13-May\", \"14-May\", \"15-May\", \"16-May\", \"17-May\", \"18-May\", \"19-May\", \"20-May\", \"21-May\", \"22-May\", \"23-May\", \"24-May\", \"25-May\", \"26-May\", \"27-May\", \"28-May\", \"29-May\", \"30-May\", \"31-May\", \"01-Jun\", \"02-Jun\", \"03-Jun\", \"04-Jun\", \"05-Jun\", \"06-Jun\", \"07-Jun\", \"08-Jun\", \"09-Jun\", \"10-Jun\", \"11-Jun\", \"12-Jun\", \"13-Jun\", \"14-Jun\", \"15-Jun\", \"16-Jun\", \"17-Jun\", \"18-Jun\", \"19-Jun\", \"20-Jun\"], \"y\": [0, 1, 2, 3, 4, 5, 6, 7, 8, 9, 10, 11, 12, 13, 14, 15, 16, 17, 18, 4, 1, 2, 3, 4, 4, 5, 6, 5, 2, 3, 3, 3, 4, 5, 5, 6, 7, 8, 9, 10, 10, 11, 12, 13, 14, 15, 16, 16, 16, 17, 18, 19, 20, 20, 21, 22, 23, 24, 25, 24, 19, 14, 13, 10, 5, 6, 7, 7, 8, 9, 8, 7, 8, 9, 9, 10, 7, 8, 7, 7, 7, 6, 6, 7, 8, 8, 8, 9, 9, 9, 9, 9, 9, 10, 6, 7, 7, 8, 9]}, {\"hovertext\": [\"(5. On 14-Mar there were 5\", \"(4. On 14-Mar there were 5\", \"(4. On 14-Mar there were 5\", \"(5. On 14-Mar there were 5\", \"(7. On 14-Mar there were 5\", \"(10. On 14-Mar there were 5\", \"(14. On 18-Mar there were 7\", \"(21. On 20-Mar there were 14\", \"(21. On 20-Mar there were 14\", \"(24. On 20-Mar there were 14\", \"(23. On 20-Mar there were 14\", \"(28. On 20-Mar there were 14\", \"(29. On 21-Mar there were 21\", \"(33. On 21-Mar there were 21\", \"(42. On 21-Mar there were 21\", \"(64. On 27-Mar there were 33\", \"(89. On 29-Mar there were 64\", \"(112. On 29-Mar there were 64\", \"(144. On 30-Mar there were 89\", \"(281. On 01-Apr there were 144\", \"(372. On 02-Apr there were 281\", \"(423. On 02-Apr there were 281\", \"(480. On 02-Apr there were 281\", \"(502. On 02-Apr there were 281\", \"(547. On 02-Apr there were 281\", \"(639. On 03-Apr there were 372\", \"(683. On 03-Apr there were 372\", \"(862. On 05-Apr there were 480\", \"(1023. On 07-Apr there were 547\", \"(1102. On 08-Apr there were 639\", \"(1451. On 10-Apr there were 862\", \"(1500. On 10-Apr there were 862\", \"(1505. On 10-Apr there were 862\", \"(1550. On 10-Apr there were 862\", \"(1593. On 10-Apr there were 862\", \"(1643. On 10-Apr there were 862\", \"(1668. On 10-Apr there were 862\", \"(1603. On 10-Apr there were 862\", \"(1498. On 10-Apr there were 862\", \"(1476. On 10-Apr there were 862\", \"(1518. On 10-Apr there were 862\", \"(1604. On 10-Apr there were 862\", \"(1702. On 10-Apr there were 862\", \"(1987. On 11-Apr there were 1023\", \"(2177. On 12-Apr there were 1102\", \"(2182. On 12-Apr there were 1102\", \"(2291. On 13-Apr there were 1451\", \"(2362. On 13-Apr there were 1451\", \"(2510. On 13-Apr there were 1451\", \"(2802. On 13-Apr there were 1451\", \"(3123. On 17-Apr there were 1593\", \"(3403. On 25-Apr there were 1702\", \"(3572. On 26-Apr there were 1987\", \"(3925. On 26-Apr there were 1987\", \"(3983. On 27-Apr there were 2177\", \"(4230. On 27-Apr there were 2177\", \"(4454. On 29-Apr there were 2291\", \"(4781. On 01-May there were 2510\", \"(5031. On 02-May there were 2802\", \"(5041. On 02-May there were 2802\", \"(5034. On 02-May there were 2802\", \"(5310. On 02-May there were 2802\", \"(5254. On 02-May there were 2802\", \"(5278. On 02-May there were 2802\", \"(5405. On 02-May there were 2802\", \"(5409. On 02-May there were 2802\", \"(5638. On 03-May there were 3123\", \"(5720. On 03-May there were 3123\", \"(5898. On 03-May there were 3123\", \"(6214. On 03-May there were 3123\", \"(6412. On 04-May there were 3403\", \"(6617. On 04-May there were 3403\", \"(7006. On 05-May there were 3572\", \"(7223. On 06-May there were 3925\", \"(7690. On 06-May there were 3925\", \"(8470. On 09-May there were 4454\", \"(9142. On 10-May there were 4781\", \"(10058. On 11-May there were 5031\", \"(10893. On 19-May there were 5638\", \"(11565. On 21-May there were 5898\", \"(12333. On 22-May there were 6214\", \"(13488. On 25-May there were 7006\", \"(14447. On 27-May there were 7690\", \"(15311. On 27-May there were 7690\", \"(16229. On 28-May there were 8470\", \"(17125. On 29-May there were 9142\", \"(17712. On 29-May there were 9142\", \"(18543. On 30-May there were 10058\", \"(19581. On 30-May there were 10058\", \"(20871. On 31-May there were 10893\", \"(22212. On 01-Jun there were 11565\", \"(22742. On 01-Jun there were 11565\", \"(24032. On 02-Jun there were 12333\", \"(25002. On 03-Jun there were 13488\", \"(26351. On 03-Jun there were 13488\", \"(27741. On 04-Jun there were 14447\", \"(26669. On 03-Jun there were 13488\", \"(27512. On 04-Jun there were 14447\", \"(23340. On 02-Jun there were 12333\"], \"marker\": {\"color\": \"black\", \"line\": {\"width\": 2}}, \"mode\": \"lines+markers\", \"name\": \"Active\", \"type\": \"scatter\", \"x\": [\"14-Mar\", \"15-Mar\", \"16-Mar\", \"17-Mar\", \"18-Mar\", \"19-Mar\", \"20-Mar\", \"21-Mar\", \"22-Mar\", \"23-Mar\", \"24-Mar\", \"25-Mar\", \"26-Mar\", \"27-Mar\", \"28-Mar\", \"29-Mar\", \"30-Mar\", \"31-Mar\", \"01-Apr\", \"02-Apr\", \"03-Apr\", \"04-Apr\", \"05-Apr\", \"06-Apr\", \"07-Apr\", \"08-Apr\", \"09-Apr\", \"10-Apr\", \"11-Apr\", \"12-Apr\", \"13-Apr\", \"14-Apr\", \"15-Apr\", \"16-Apr\", \"17-Apr\", \"18-Apr\", \"19-Apr\", \"20-Apr\", \"21-Apr\", \"22-Apr\", \"23-Apr\", \"24-Apr\", \"25-Apr\", \"26-Apr\", \"27-Apr\", \"28-Apr\", \"29-Apr\", \"30-Apr\", \"01-May\", \"02-May\", \"03-May\", \"04-May\", \"05-May\", \"06-May\", \"07-May\", \"08-May\", \"09-May\", \"10-May\", \"11-May\", \"12-May\", \"13-May\", \"14-May\", \"15-May\", \"16-May\", \"17-May\", \"18-May\", \"19-May\", \"20-May\", \"21-May\", \"22-May\", \"23-May\", \"24-May\", \"25-May\", \"26-May\", \"27-May\", \"28-May\", \"29-May\", \"30-May\", \"31-May\", \"01-Jun\", \"02-Jun\", \"03-Jun\", \"04-Jun\", \"05-Jun\", \"06-Jun\", \"07-Jun\", \"08-Jun\", \"09-Jun\", \"10-Jun\", \"11-Jun\", \"12-Jun\", \"13-Jun\", \"14-Jun\", \"15-Jun\", \"16-Jun\", \"17-Jun\", \"18-Jun\", \"19-Jun\", \"20-Jun\"], \"y\": [0, 1, 2, 3, 4, 5, 2, 1, 2, 3, 4, 5, 5, 6, 7, 2, 1, 2, 2, 1, 1, 2, 3, 4, 5, 5, 6, 5, 4, 4, 3, 4, 5, 6, 7, 8, 9, 10, 11, 12, 13, 14, 15, 15, 15, 16, 16, 17, 18, 19, 16, 9, 9, 10, 10, 11, 10, 9, 9, 10, 11, 12, 13, 14, 15, 16, 16, 17, 18, 19, 19, 20, 20, 20, 21, 19, 19, 19, 12, 11, 11, 9, 8, 9, 9, 9, 10, 10, 11, 11, 11, 12, 12, 12, 13, 13, 15, 15, 18]}],\n",
       "                        {\"font\": {\"color\": \"#7f7f7f\", \"family\": \"Courier New, monospace\", \"size\": 18}, \"height\": 600, \"template\": {\"data\": {\"bar\": [{\"error_x\": {\"color\": \"#2a3f5f\"}, \"error_y\": {\"color\": \"#2a3f5f\"}, \"marker\": {\"line\": {\"color\": \"#E5ECF6\", \"width\": 0.5}}, \"type\": \"bar\"}], \"barpolar\": [{\"marker\": {\"line\": {\"color\": \"#E5ECF6\", \"width\": 0.5}}, \"type\": \"barpolar\"}], \"carpet\": [{\"aaxis\": {\"endlinecolor\": \"#2a3f5f\", \"gridcolor\": \"white\", \"linecolor\": \"white\", \"minorgridcolor\": \"white\", \"startlinecolor\": \"#2a3f5f\"}, \"baxis\": {\"endlinecolor\": \"#2a3f5f\", \"gridcolor\": \"white\", \"linecolor\": \"white\", \"minorgridcolor\": \"white\", \"startlinecolor\": \"#2a3f5f\"}, \"type\": \"carpet\"}], \"choropleth\": [{\"colorbar\": {\"outlinewidth\": 0, \"ticks\": \"\"}, \"type\": \"choropleth\"}], \"contour\": [{\"colorbar\": {\"outlinewidth\": 0, \"ticks\": \"\"}, \"colorscale\": [[0.0, \"#0d0887\"], [0.1111111111111111, \"#46039f\"], [0.2222222222222222, \"#7201a8\"], [0.3333333333333333, \"#9c179e\"], [0.4444444444444444, \"#bd3786\"], [0.5555555555555556, \"#d8576b\"], [0.6666666666666666, \"#ed7953\"], [0.7777777777777778, \"#fb9f3a\"], [0.8888888888888888, \"#fdca26\"], [1.0, \"#f0f921\"]], \"type\": \"contour\"}], \"contourcarpet\": [{\"colorbar\": {\"outlinewidth\": 0, \"ticks\": \"\"}, \"type\": \"contourcarpet\"}], \"heatmap\": [{\"colorbar\": {\"outlinewidth\": 0, \"ticks\": \"\"}, \"colorscale\": [[0.0, \"#0d0887\"], [0.1111111111111111, \"#46039f\"], [0.2222222222222222, \"#7201a8\"], [0.3333333333333333, \"#9c179e\"], [0.4444444444444444, \"#bd3786\"], [0.5555555555555556, \"#d8576b\"], [0.6666666666666666, \"#ed7953\"], [0.7777777777777778, \"#fb9f3a\"], [0.8888888888888888, \"#fdca26\"], [1.0, \"#f0f921\"]], \"type\": \"heatmap\"}], \"heatmapgl\": [{\"colorbar\": {\"outlinewidth\": 0, \"ticks\": \"\"}, \"colorscale\": [[0.0, \"#0d0887\"], [0.1111111111111111, \"#46039f\"], [0.2222222222222222, \"#7201a8\"], [0.3333333333333333, \"#9c179e\"], [0.4444444444444444, \"#bd3786\"], [0.5555555555555556, \"#d8576b\"], [0.6666666666666666, \"#ed7953\"], [0.7777777777777778, \"#fb9f3a\"], [0.8888888888888888, \"#fdca26\"], [1.0, \"#f0f921\"]], \"type\": \"heatmapgl\"}], \"histogram\": [{\"marker\": {\"colorbar\": {\"outlinewidth\": 0, \"ticks\": \"\"}}, \"type\": \"histogram\"}], \"histogram2d\": [{\"colorbar\": {\"outlinewidth\": 0, \"ticks\": \"\"}, \"colorscale\": [[0.0, \"#0d0887\"], [0.1111111111111111, \"#46039f\"], [0.2222222222222222, \"#7201a8\"], [0.3333333333333333, \"#9c179e\"], [0.4444444444444444, \"#bd3786\"], [0.5555555555555556, \"#d8576b\"], [0.6666666666666666, \"#ed7953\"], [0.7777777777777778, \"#fb9f3a\"], [0.8888888888888888, \"#fdca26\"], [1.0, \"#f0f921\"]], \"type\": \"histogram2d\"}], \"histogram2dcontour\": [{\"colorbar\": {\"outlinewidth\": 0, \"ticks\": \"\"}, \"colorscale\": [[0.0, \"#0d0887\"], [0.1111111111111111, \"#46039f\"], [0.2222222222222222, \"#7201a8\"], [0.3333333333333333, \"#9c179e\"], [0.4444444444444444, \"#bd3786\"], [0.5555555555555556, \"#d8576b\"], [0.6666666666666666, \"#ed7953\"], [0.7777777777777778, \"#fb9f3a\"], [0.8888888888888888, \"#fdca26\"], [1.0, \"#f0f921\"]], \"type\": \"histogram2dcontour\"}], \"mesh3d\": [{\"colorbar\": {\"outlinewidth\": 0, \"ticks\": \"\"}, \"type\": \"mesh3d\"}], \"parcoords\": [{\"line\": {\"colorbar\": {\"outlinewidth\": 0, \"ticks\": \"\"}}, \"type\": \"parcoords\"}], \"pie\": [{\"automargin\": true, \"type\": \"pie\"}], \"scatter\": [{\"marker\": {\"colorbar\": {\"outlinewidth\": 0, \"ticks\": \"\"}}, \"type\": \"scatter\"}], \"scatter3d\": [{\"line\": {\"colorbar\": {\"outlinewidth\": 0, \"ticks\": \"\"}}, \"marker\": {\"colorbar\": {\"outlinewidth\": 0, \"ticks\": \"\"}}, \"type\": \"scatter3d\"}], \"scattercarpet\": [{\"marker\": {\"colorbar\": {\"outlinewidth\": 0, \"ticks\": \"\"}}, \"type\": \"scattercarpet\"}], \"scattergeo\": [{\"marker\": {\"colorbar\": {\"outlinewidth\": 0, \"ticks\": \"\"}}, \"type\": \"scattergeo\"}], \"scattergl\": [{\"marker\": {\"colorbar\": {\"outlinewidth\": 0, \"ticks\": \"\"}}, \"type\": \"scattergl\"}], \"scattermapbox\": [{\"marker\": {\"colorbar\": {\"outlinewidth\": 0, \"ticks\": \"\"}}, \"type\": \"scattermapbox\"}], \"scatterpolar\": [{\"marker\": {\"colorbar\": {\"outlinewidth\": 0, \"ticks\": \"\"}}, \"type\": \"scatterpolar\"}], \"scatterpolargl\": [{\"marker\": {\"colorbar\": {\"outlinewidth\": 0, \"ticks\": \"\"}}, \"type\": \"scatterpolargl\"}], \"scatterternary\": [{\"marker\": {\"colorbar\": {\"outlinewidth\": 0, \"ticks\": \"\"}}, \"type\": \"scatterternary\"}], \"surface\": [{\"colorbar\": {\"outlinewidth\": 0, \"ticks\": \"\"}, \"colorscale\": [[0.0, \"#0d0887\"], [0.1111111111111111, \"#46039f\"], [0.2222222222222222, \"#7201a8\"], [0.3333333333333333, \"#9c179e\"], [0.4444444444444444, \"#bd3786\"], [0.5555555555555556, \"#d8576b\"], [0.6666666666666666, \"#ed7953\"], [0.7777777777777778, \"#fb9f3a\"], [0.8888888888888888, \"#fdca26\"], [1.0, \"#f0f921\"]], \"type\": \"surface\"}], \"table\": [{\"cells\": {\"fill\": {\"color\": \"#EBF0F8\"}, \"line\": {\"color\": \"white\"}}, \"header\": {\"fill\": {\"color\": \"#C8D4E3\"}, \"line\": {\"color\": \"white\"}}, \"type\": \"table\"}]}, \"layout\": {\"annotationdefaults\": {\"arrowcolor\": \"#2a3f5f\", \"arrowhead\": 0, \"arrowwidth\": 1}, \"coloraxis\": {\"colorbar\": {\"outlinewidth\": 0, \"ticks\": \"\"}}, \"colorscale\": {\"diverging\": [[0, \"#8e0152\"], [0.1, \"#c51b7d\"], [0.2, \"#de77ae\"], [0.3, \"#f1b6da\"], [0.4, \"#fde0ef\"], [0.5, \"#f7f7f7\"], [0.6, \"#e6f5d0\"], [0.7, \"#b8e186\"], [0.8, \"#7fbc41\"], [0.9, \"#4d9221\"], [1, \"#276419\"]], \"sequential\": [[0.0, \"#0d0887\"], [0.1111111111111111, \"#46039f\"], [0.2222222222222222, \"#7201a8\"], [0.3333333333333333, \"#9c179e\"], [0.4444444444444444, \"#bd3786\"], [0.5555555555555556, \"#d8576b\"], [0.6666666666666666, \"#ed7953\"], [0.7777777777777778, \"#fb9f3a\"], [0.8888888888888888, \"#fdca26\"], [1.0, \"#f0f921\"]], \"sequentialminus\": [[0.0, \"#0d0887\"], [0.1111111111111111, \"#46039f\"], [0.2222222222222222, \"#7201a8\"], [0.3333333333333333, \"#9c179e\"], [0.4444444444444444, \"#bd3786\"], [0.5555555555555556, \"#d8576b\"], [0.6666666666666666, \"#ed7953\"], [0.7777777777777778, \"#fb9f3a\"], [0.8888888888888888, \"#fdca26\"], [1.0, \"#f0f921\"]]}, \"colorway\": [\"#636efa\", \"#EF553B\", \"#00cc96\", \"#ab63fa\", \"#FFA15A\", \"#19d3f3\", \"#FF6692\", \"#B6E880\", \"#FF97FF\", \"#FECB52\"], \"font\": {\"color\": \"#2a3f5f\"}, \"geo\": {\"bgcolor\": \"white\", \"lakecolor\": \"white\", \"landcolor\": \"#E5ECF6\", \"showlakes\": true, \"showland\": true, \"subunitcolor\": \"white\"}, \"hoverlabel\": {\"align\": \"left\"}, \"hovermode\": \"closest\", \"mapbox\": {\"style\": \"light\"}, \"paper_bgcolor\": \"white\", \"plot_bgcolor\": \"#E5ECF6\", \"polar\": {\"angularaxis\": {\"gridcolor\": \"white\", \"linecolor\": \"white\", \"ticks\": \"\"}, \"bgcolor\": \"#E5ECF6\", \"radialaxis\": {\"gridcolor\": \"white\", \"linecolor\": \"white\", \"ticks\": \"\"}}, \"scene\": {\"xaxis\": {\"backgroundcolor\": \"#E5ECF6\", \"gridcolor\": \"white\", \"gridwidth\": 2, \"linecolor\": \"white\", \"showbackground\": true, \"ticks\": \"\", \"zerolinecolor\": \"white\"}, \"yaxis\": {\"backgroundcolor\": \"#E5ECF6\", \"gridcolor\": \"white\", \"gridwidth\": 2, \"linecolor\": \"white\", \"showbackground\": true, \"ticks\": \"\", \"zerolinecolor\": \"white\"}, \"zaxis\": {\"backgroundcolor\": \"#E5ECF6\", \"gridcolor\": \"white\", \"gridwidth\": 2, \"linecolor\": \"white\", \"showbackground\": true, \"ticks\": \"\", \"zerolinecolor\": \"white\"}}, \"shapedefaults\": {\"line\": {\"color\": \"#2a3f5f\"}}, \"ternary\": {\"aaxis\": {\"gridcolor\": \"white\", \"linecolor\": \"white\", \"ticks\": \"\"}, \"baxis\": {\"gridcolor\": \"white\", \"linecolor\": \"white\", \"ticks\": \"\"}, \"bgcolor\": \"#E5ECF6\", \"caxis\": {\"gridcolor\": \"white\", \"linecolor\": \"white\", \"ticks\": \"\"}}, \"title\": {\"x\": 0.05}, \"xaxis\": {\"automargin\": true, \"gridcolor\": \"white\", \"linecolor\": \"white\", \"ticks\": \"\", \"title\": {\"standoff\": 15}, \"zerolinecolor\": \"white\", \"zerolinewidth\": 2}, \"yaxis\": {\"automargin\": true, \"gridcolor\": \"white\", \"linecolor\": \"white\", \"ticks\": \"\", \"title\": {\"standoff\": 15}, \"zerolinecolor\": \"white\", \"zerolinewidth\": 2}}}, \"title\": {\"text\": \"Doubling days for Delhi\"}, \"width\": 800, \"xaxis\": {\"title\": {\"text\": \"Days\"}}, \"yaxis\": {\"title\": {\"text\": \"Day\"}}},\n",
       "                        {\"responsive\": true}\n",
       "                    ).then(function(){\n",
       "                            \n",
       "var gd = document.getElementById('acf84464-d365-4403-bf4f-eec0f1c9c4f7');\n",
       "var x = new MutationObserver(function (mutations, observer) {{\n",
       "        var display = window.getComputedStyle(gd).display;\n",
       "        if (!display || display === 'none') {{\n",
       "            console.log([gd, 'removed!']);\n",
       "            Plotly.purge(gd);\n",
       "            observer.disconnect();\n",
       "        }}\n",
       "}});\n",
       "\n",
       "// Listen for the removal of the full notebook cells\n",
       "var notebookContainer = gd.closest('#notebook-container');\n",
       "if (notebookContainer) {{\n",
       "    x.observe(notebookContainer, {childList: true});\n",
       "}}\n",
       "\n",
       "// Listen for the clearing of the current output cell\n",
       "var outputEl = gd.closest('.output');\n",
       "if (outputEl) {{\n",
       "    x.observe(outputEl, {childList: true});\n",
       "}}\n",
       "\n",
       "                        })\n",
       "                };\n",
       "                });\n",
       "            </script>\n",
       "        </div>"
      ]
     },
     "metadata": {},
     "output_type": "display_data"
    }
   ],
   "source": [
    "state=\"Delhi\"\n",
    "start_day=25\n",
    "end_day=99\n",
    "\n",
    "\"\"\n",
    "\n",
    "color=next(colorcycler)\n",
    "arr=load_Data(dfs,state=state,day_max=end_day)\n",
    "cases=column(arr,2)\n",
    "recovery=column(arr,3)\n",
    "dead=column(arr,4)\n",
    "active=column(arr,5)\n",
    "\n",
    "\n",
    "dates=column(arr,1)\n",
    "\n",
    "arrNew=[]\n",
    "arrHover=[]\n",
    "for i in range(len(arr)):\n",
    "    c_val=cases[i]\n",
    "    r_val=recovery[i]\n",
    "    d_val=dead[i]\n",
    "    a_val=active[i]\n",
    "    c_h=np.where(cases>=c_val/2)[0][0]\n",
    "    r_h=np.where(recovery>=r_val/2)[0][0]\n",
    "    d_h=np.where(dead>=d_val/2)[0][0]\n",
    "    a_h=np.where(active>=a_val/2)[0][0]\n",
    "    \n",
    "    arrNew.append([dates[i],i-c_h,i-r_h,i-d_h,i-a_h])\n",
    "    c_hover=\"(\"+str(cases[i])+\". On \"+str(dates[c_h])+\" there were \"+ str(cases[c_h])\n",
    "    r_hover=\"(\"+str(recovery[i])+\". On \"+str(dates[r_h])+\" there were \"+ str(recovery[r_h])\n",
    "    d_hover=\"(\"+str(dead[i])+\". On \"+str(dates[d_h])+\" there were \"+ str(dead[d_h])\n",
    "    a_hover=\"(\"+str(active[i])+\". On \"+str(dates[a_h])+\" there were \"+ str(active[a_h])\n",
    "    arrHover.append([c_hover,r_hover,d_hover,a_hover])\n",
    "    \n",
    "    \n",
    "x=column(arrNew,0)\n",
    "    \n",
    "fig = go.Figure()\n",
    "\n",
    "\n",
    "p_cases=go.Scatter(x=x,y=column(arrNew,1),name=\"Cases\",marker={'color': \"blue\",'line':dict(width=2)},mode=\"lines+markers\",hovertext=column(arrHover,0))\n",
    "p_recovery=go.Scatter(x=x,y=column(arrNew,2),name=\"Recovered\",marker={'color': \"green\",'line':dict(width=2)},mode=\"lines+markers\",hovertext=column(arrHover,1))\n",
    "p_dead=go.Scatter(x=x,y=column(arrNew,3),name=\"Dead\",marker={'color': \"red\",'line':dict(width=2)},mode=\"lines+markers\",hovertext=column(arrHover,2))\n",
    "p_active=go.Scatter(x=x,y=column(arrNew,4),name=\"Active\",marker={'color': \"black\",'line':dict(width=2)},mode=\"lines+markers\",hovertext=column(arrHover,3))\n",
    "\n",
    "#p_cases=go.Bar(x=x,y=column(arrNew,1),name=\"Cases\",marker={'color': \"blue\"})\n",
    "#p_recovery=go.Bar(x=x,y=column(arrNew,2),name=\"Recovered\",marker={'color': \"green\"})\n",
    "#p_dead=go.Bar(x=x,y=column(arrNew,3),name=\"Dead\",marker={'color': \"red\"})\n",
    "#p_active=go.Bar(x=x,y=column(arrNew,4),name=\"Active\",marker={'color': \"black\"})\n",
    "\n",
    "\n",
    "fig.add_trace(p_cases)\n",
    "fig.add_trace(p_recovery)\n",
    "fig.add_trace(p_dead)\n",
    "fig.add_trace(p_active)\n",
    "fig.update_layout(height=600, width=800,title=\"Doubling days for \"+state,xaxis_title=\"Days\",\n",
    "    yaxis_title=\"Day\",\n",
    "    font=dict(\n",
    "        family=\"Courier New, monospace\",\n",
    "        size=18,\n",
    "        color=\"#7f7f7f\"))\n",
    "#fig.write_html('index.html', auto_open=True)\n",
    "fig.show()"
   ]
  }
 ],
 "metadata": {
  "kernelspec": {
   "display_name": "Python 3",
   "language": "python",
   "name": "python3"
  },
  "language_info": {
   "codemirror_mode": {
    "name": "ipython",
    "version": 3
   },
   "file_extension": ".py",
   "mimetype": "text/x-python",
   "name": "python",
   "nbconvert_exporter": "python",
   "pygments_lexer": "ipython3",
   "version": "3.6.6+"
  }
 },
 "nbformat": 4,
 "nbformat_minor": 4
}
