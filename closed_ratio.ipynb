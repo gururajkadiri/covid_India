{
 "cells": [
  {
   "cell_type": "code",
   "execution_count": 1,
   "metadata": {},
   "outputs": [],
   "source": [
    "from impfuncs import *"
   ]
  },
  {
   "cell_type": "code",
   "execution_count": 2,
   "metadata": {},
   "outputs": [],
   "source": [
    "states=np.array([\"India\",'Maharastra', \"Delhi\",\n",
    "     'Gujarat','Rajasthan',\"West Bengal\",'Madhya Pradesh'])\n",
    "\n",
    "clrs=['#008000','#C0C0C0', '#FFC0CB', '#FF0000', '#D2691E',\n",
    "     '#aafbff', '#0000FF', '#9400D3','#306998','#f4c430','#00563f',\"#FFFF00\",\"#ACDDDE\",\"#FF4500\",\"#FFFA8D\"]\n",
    "\n"
   ]
  },
  {
   "cell_type": "code",
   "execution_count": 3,
   "metadata": {},
   "outputs": [
    {
     "data": {
      "text/plain": [
       "array(['India', 'Maharastra', 'Delhi', 'Gujarat', 'Rajasthan',\n",
       "       'West Bengal', 'Madhya Pradesh'], dtype='<U14')"
      ]
     },
     "execution_count": 3,
     "metadata": {},
     "output_type": "execute_result"
    }
   ],
   "source": [
    "states"
   ]
  },
  {
   "cell_type": "code",
   "execution_count": 4,
   "metadata": {},
   "outputs": [],
   "source": [
    "from itertools import cycle\n",
    "lines = [\"-\",\"--\",\"-.\",\":\"]\n",
    "linecycler = cycle(lines)\n",
    "colorcycler=cycle(clrs)\n"
   ]
  },
  {
   "cell_type": "code",
   "execution_count": 5,
   "metadata": {},
   "outputs": [],
   "source": [
    "start_day=23\n",
    "end_day=68\n",
    "dfs=populate_dfs()    \n",
    "dts=getDates(start_day,end_day)\n"
   ]
  },
  {
   "cell_type": "code",
   "execution_count": 6,
   "metadata": {},
   "outputs": [
    {
     "name": "stderr",
     "output_type": "stream",
     "text": [
      "./impfuncs.py:94: UserWarning: Boolean Series key will be reindexed to match DataFrame index.\n",
      "  df2_cases=df2_cases[df[\"Date\"]>=start_date]\n",
      "./impfuncs.py:95: UserWarning: Boolean Series key will be reindexed to match DataFrame index.\n",
      "  df2_recovered=df2_recovered[df[\"Date\"]>=start_date]\n",
      "./impfuncs.py:96: UserWarning: Boolean Series key will be reindexed to match DataFrame index.\n",
      "  df2_dead=df2_dead[df[\"Date\"]>=start_date]\n",
      "./impfuncs.py:94: UserWarning: Boolean Series key will be reindexed to match DataFrame index.\n",
      "  df2_cases=df2_cases[df[\"Date\"]>=start_date]\n",
      "./impfuncs.py:95: UserWarning: Boolean Series key will be reindexed to match DataFrame index.\n",
      "  df2_recovered=df2_recovered[df[\"Date\"]>=start_date]\n",
      "./impfuncs.py:96: UserWarning: Boolean Series key will be reindexed to match DataFrame index.\n",
      "  df2_dead=df2_dead[df[\"Date\"]>=start_date]\n",
      "./impfuncs.py:94: UserWarning: Boolean Series key will be reindexed to match DataFrame index.\n",
      "  df2_cases=df2_cases[df[\"Date\"]>=start_date]\n",
      "./impfuncs.py:95: UserWarning: Boolean Series key will be reindexed to match DataFrame index.\n",
      "  df2_recovered=df2_recovered[df[\"Date\"]>=start_date]\n",
      "./impfuncs.py:96: UserWarning: Boolean Series key will be reindexed to match DataFrame index.\n",
      "  df2_dead=df2_dead[df[\"Date\"]>=start_date]\n",
      "./impfuncs.py:94: UserWarning: Boolean Series key will be reindexed to match DataFrame index.\n",
      "  df2_cases=df2_cases[df[\"Date\"]>=start_date]\n",
      "./impfuncs.py:95: UserWarning: Boolean Series key will be reindexed to match DataFrame index.\n",
      "  df2_recovered=df2_recovered[df[\"Date\"]>=start_date]\n",
      "./impfuncs.py:96: UserWarning: Boolean Series key will be reindexed to match DataFrame index.\n",
      "  df2_dead=df2_dead[df[\"Date\"]>=start_date]\n",
      "./impfuncs.py:94: UserWarning: Boolean Series key will be reindexed to match DataFrame index.\n",
      "  df2_cases=df2_cases[df[\"Date\"]>=start_date]\n",
      "./impfuncs.py:95: UserWarning: Boolean Series key will be reindexed to match DataFrame index.\n",
      "  df2_recovered=df2_recovered[df[\"Date\"]>=start_date]\n",
      "./impfuncs.py:96: UserWarning: Boolean Series key will be reindexed to match DataFrame index.\n",
      "  df2_dead=df2_dead[df[\"Date\"]>=start_date]\n",
      "./impfuncs.py:94: UserWarning: Boolean Series key will be reindexed to match DataFrame index.\n",
      "  df2_cases=df2_cases[df[\"Date\"]>=start_date]\n",
      "./impfuncs.py:95: UserWarning: Boolean Series key will be reindexed to match DataFrame index.\n",
      "  df2_recovered=df2_recovered[df[\"Date\"]>=start_date]\n",
      "./impfuncs.py:96: UserWarning: Boolean Series key will be reindexed to match DataFrame index.\n",
      "  df2_dead=df2_dead[df[\"Date\"]>=start_date]\n",
      "./impfuncs.py:94: UserWarning: Boolean Series key will be reindexed to match DataFrame index.\n",
      "  df2_cases=df2_cases[df[\"Date\"]>=start_date]\n",
      "./impfuncs.py:95: UserWarning: Boolean Series key will be reindexed to match DataFrame index.\n",
      "  df2_recovered=df2_recovered[df[\"Date\"]>=start_date]\n",
      "./impfuncs.py:96: UserWarning: Boolean Series key will be reindexed to match DataFrame index.\n",
      "  df2_dead=df2_dead[df[\"Date\"]>=start_date]\n"
     ]
    }
   ],
   "source": [
    "for state in states:\n",
    "    \n",
    "    arr=load_Data(dfs=dfs,start_day=start_day,day_max=end_day,state=state)\n",
    "    closed=column(arr,2)-column(arr,5)\n",
    "    dead_percent_closed=(column(arr,4)/closed)*100\n",
    "    if state==\"India\":\n",
    "        plt.plot(column(arr,0),dead_percent_closed,markersize=12,marker=\"*\",linewidth=4,color=next(colorcycler),label=state)\n",
    "    else:\n",
    "        plt.plot(column(arr,0),dead_percent_closed,markersize=5,marker=\"o\",linewidth=1,color=next(colorcycler),label=state)\n",
    "    \n",
    "plt.xticks(range(0,end_day-start_day,3),dts[range(0,end_day-start_day,3)])\n",
    "\n",
    "plt.xticks()\n",
    "plt.ylabel(\"Dead % among closed cases\")\n",
    "plt.grid(True)\n",
    "plt.legend(frameon=False)\n",
    "plt.title(\"Fraction of deceased in closed cases of each state\\n data upto \"+dts[end_day-start_day-1])\n",
    "plt.show()"
   ]
  },
  {
   "cell_type": "code",
   "execution_count": null,
   "metadata": {},
   "outputs": [],
   "source": []
  }
 ],
 "metadata": {
  "kernelspec": {
   "display_name": "xpython",
   "language": "python",
   "name": "xpython"
  },
  "language_info": {
   "file_extension": ".py",
   "mimetype": "text/x-python",
   "name": "python",
   "version": "3.7.6"
  }
 },
 "nbformat": 4,
 "nbformat_minor": 4
}
