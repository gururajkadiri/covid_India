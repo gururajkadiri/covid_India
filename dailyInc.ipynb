{
 "cells": [
  {
   "cell_type": "code",
   "execution_count": 134,
   "metadata": {},
   "outputs": [],
   "source": [
    "from impfuncs import *\n",
    "import matplotlib.pyplot as plt\n",
    "from matplotlib import rc\n",
    "state=\"Tamilnadu\"\n",
    "start_day=35\n",
    "end_day=73\n",
    "\n",
    "dfs=populate_dfs()    "
   ]
  },
  {
   "cell_type": "code",
   "execution_count": 135,
   "metadata": {},
   "outputs": [
    {
     "name": "stderr",
     "output_type": "stream",
     "text": [
      "./impfuncs.py:94: UserWarning: Boolean Series key will be reindexed to match DataFrame index.\n",
      "  df2_cases=df2_cases[df[\"Date\"]>=start_date]\n",
      "./impfuncs.py:95: UserWarning: Boolean Series key will be reindexed to match DataFrame index.\n",
      "  df2_recovered=df2_recovered[df[\"Date\"]>=start_date]\n",
      "./impfuncs.py:96: UserWarning: Boolean Series key will be reindexed to match DataFrame index.\n",
      "  df2_dead=df2_dead[df[\"Date\"]>=start_date]\n",
      "./impfuncs.py:142: RuntimeWarning: divide by zero encountered in double_scalars\n",
      "  return(log(2)/log(1+r))\n"
     ]
    }
   ],
   "source": [
    "color=next(colorcycler)\n",
    "arr=load_Data(dfs,state=state,day_max=end_day)\n",
    "cases=column(arr,2)\n",
    "recovery=column(arr,3)\n",
    "dead=column(arr,4)\n",
    "active=column(arr,5)\n",
    "cases_diff=np.diff(cases)\n",
    "recovery_diff=np.diff(recovery)\n",
    "dead_diff=np.diff(dead)\n",
    "active_diff=np.diff(active)\n",
    "\n",
    "cases_ddays=[get_doubling_s(cases_diff[i-1]/cases[i-1]) for i in range(start_day,end_day)]\n",
    "recovery_ddays=[get_doubling_s(recovery_diff[i-1]/recovery[i-1]) for i in range(start_day,end_day)]\n",
    "dead_ddays=[get_doubling_s(dead_diff[i-1]/dead[i-1]) for i in range(start_day,end_day)]\n",
    "active_ddays=[get_doubling_s(active_diff[i-1]/active[i-1]) for i in range(start_day,end_day)]\n",
    "\n",
    "cases_rate=[cases_diff[i-1]*100/cases[i-1] for i in range(start_day,end_day)]\n",
    "recovery_rate=[recovery_diff[i-1]*100/recovery[i-1] for i in range(start_day,end_day)]\n",
    "dead_rate=[dead_diff[i-1]*100/dead[i-1] for i in range(start_day,end_day)]\n",
    "active_rate=[active_diff[i-1]*100/active[i-1] for i in range(start_day,end_day)]\n",
    "x=column(arr,1)[range(start_day,end_day)]    \n",
    "y_dead=dead[range(start_day,end_day)]\n",
    "y_dead_diff=dead_diff[range(start_day-1,end_day-1)]\n",
    "y_dead_ddays=dead_ddays\n",
    "y_dead_rate=dead_rate\n",
    "y_active=active[range(start_day,end_day)]\n",
    "y_active_diff=active_diff[range(start_day-1,end_day-1)]\n",
    "y_active_ddays=active_ddays\n",
    "y_active_rate=active_rate\n",
    "y_cases=cases[range(start_day,end_day)]\n",
    "y_cases_diff=cases_diff[range(start_day-1,end_day-1)]\n",
    "y_cases_ddays=cases_ddays\n",
    "y_cases_rate=cases_rate\n",
    "y_recovery=recovery[range(start_day,end_day)]\n",
    "y_recovery_diff=recovery_diff[range(start_day-1,end_day-1)]\n",
    "y_recovery_ddays=recovery_ddays\n",
    "y_recovery_rate=recovery_rate\n"
   ]
  },
  {
   "cell_type": "code",
   "execution_count": 136,
   "metadata": {},
   "outputs": [],
   "source": [
    "fig, (ax_con,ax_daily,ax_percent) = plt.subplots(3,1,sharex=True)\n",
    "rc('font', weight='bold')\n",
    "ms=4\n",
    "lw=2\n",
    "ls=\"-\"\n",
    "ax_con.semilogy(x,y_cases,label=\"Cases\",color=\"blue\",lw=lw,linestyle=ls,marker=\"D\",markersize=ms)\n",
    "ax_con.semilogy(x,y_recovery,label=\"Recovered\",color=\"green\",lw=lw,linestyle=ls,marker=\"d\",markersize=ms)\n",
    "ax_con.semilogy(x,y_dead,label=\"Dead\",color=\"red\",lw=lw,linestyle=ls,marker=\".\",markersize=ms)\n",
    "ax_con.semilogy(x,y_active,label=\"Active\",color=\"black\",lw=lw,linestyle=ls,marker=\"*\",markersize=ms)\n",
    "\n",
    "ax_daily.plot(x,y_cases_diff,label=\"Daily cases\",color=\"blue\",lw=lw,linestyle=ls,marker=\"D\",markersize=ms)\n",
    "ax_daily.plot(x,y_recovery_diff,label=\"Daily recovered\",color=\"green\",lw=lw,linestyle=ls,marker=\"d\",markersize=ms)\n",
    "ax_daily.plot(x,y_dead_diff,label=\"Daily deaths\",color=\"red\",lw=lw,linestyle=ls,marker=\".\",markersize=ms)\n",
    "ax_daily.plot(x,y_active_diff,label=\"Daily active\",color= \"black\",lw=lw,linestyle=ls,marker=\"*\",markersize=ms)\n",
    "\n",
    "#ax_doubling.plot(x,y_cases_ddays,label=\"cases doubling days\",color=\"blue\")\n",
    "#ax_doubling.plot(x,y_recovery_ddays,label=\"Recovered doubling days\",color=\"green\")\n",
    "#ax_doubling.plot(x,y_dead_ddays,label=\"Dead doubling days\", color=\"red\")\n",
    "#ax_doubling.plot(x,y_active_ddays,label=\"Active doubling days\",color=\"black\")\n",
    "\n",
    "ax_percent.plot(x,y_cases_rate,label=\"Cases inc rate\",color=\"blue\",lw=lw,linestyle=ls,marker=\"D\",markersize=ms)\n",
    "ax_percent.plot(x,y_recovery_rate,label=\"Recovery inc rate\",color=\"green\",lw=lw,linestyle=ls,marker=\"d\",markersize=ms)\n",
    "ax_percent.plot(x,y_dead_rate,label=\"Death inc rate\",color=\"red\",lw=lw,linestyle=ls,marker=\".\",markersize=ms)\n",
    "ax_percent.plot(x,y_active_rate,label=\"Active inc rate\",color=\"black\",lw=lw,linestyle=ls,marker=\"*\",markersize=ms)\n",
    "\n",
    "plt.xticks(range(0,len(x),3),rotation=90)\n",
    "\n",
    "ax_con.grid()\n",
    "ax_daily.grid()\n",
    "ax_percent.grid()\n",
    "ax_con.set_ylabel(\"Cummulative\")\n",
    "ax_daily.set_ylabel(\"Daily Additions\")\n",
    "ax_percent.set_ylabel(\"% Addition\")\n",
    "legend_properties = {'weight':'bold'}\n",
    "ax_con.legend(prop=legend_properties,frameon=False)\n",
    "ax_con.set_title(\"Covid-19 so far, for \"+str(state))\n",
    "plt.tight_layout()\n",
    "plt.show()\n"
   ]
  },
  {
   "cell_type": "code",
   "execution_count": 137,
   "metadata": {},
   "outputs": [],
   "source": [
    "plt.show()"
   ]
  }
 ],
 "metadata": {
  "kernelspec": {
   "display_name": "xpython",
   "language": "python",
   "name": "xpython"
  },
  "language_info": {
   "file_extension": ".py",
   "mimetype": "text/x-python",
   "name": "python",
   "version": "3.7.6"
  }
 },
 "nbformat": 4,
 "nbformat_minor": 4
}
