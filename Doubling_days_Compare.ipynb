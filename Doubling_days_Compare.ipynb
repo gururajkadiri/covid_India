{
 "cells": [
  {
   "cell_type": "code",
   "execution_count": 3,
   "metadata": {},
   "outputs": [
    {
     "name": "stderr",
     "output_type": "stream",
     "text": [
      "/home/gururaj/Work/python/github/covid_India/impfuncs.py:94: UserWarning: Boolean Series key will be reindexed to match DataFrame index.\n",
      "  df2_cases=df2_cases[df[\"Date\"]>=start_date]\n",
      "/home/gururaj/Work/python/github/covid_India/impfuncs.py:95: UserWarning: Boolean Series key will be reindexed to match DataFrame index.\n",
      "  df2_recovered=df2_recovered[df[\"Date\"]>=start_date]\n",
      "/home/gururaj/Work/python/github/covid_India/impfuncs.py:96: UserWarning: Boolean Series key will be reindexed to match DataFrame index.\n",
      "  df2_dead=df2_dead[df[\"Date\"]>=start_date]\n"
     ]
    },
    {
     "data": {
      "image/png": "[encoded data removed]",
      "text/plain": [
       "<Figure size 432x288 with 3 Axes>"
      ]
     },
     "metadata": {
      "needs_background": "light"
     },
     "output_type": "display_data"
    }
   ],
   "source": [
    "#!/usr/bin/env python3\n",
    "# -*- coding: utf-8 -*-\n",
    "\"\"\"\n",
    "Created on Sun May 10 07:55:21 2020\n",
    "\n",
    "@author: gururaj\n",
    "\"\"\"\n",
    "\n",
    "from impfuncs import *\n",
    "\n",
    "start_day=25\n",
    "end_day=70\n",
    "dfs=populate_dfs()    \n",
    "#states=[\"Kerala\",\"Maharastra\"]\n",
    "states=[\"Maharastra\",\"Tamilnadu\"]\n",
    "#states=[\"West Bengal\"]\n",
    "states=[\"India\"]\n",
    "next(colorcycler)\n",
    "fig,(ax1,ax2,ax3)=plt.subplots(nrows=3,ncols=1,sharex=True)\n",
    "type=\"active\"\n",
    "for state in states:\n",
    "    arr=load_Data(dfs,state=state,day_max=end_day)\n",
    "    cases=column(arr,2)\n",
    "    recovery=column(arr,3)\n",
    "    dead=column(arr,4)\n",
    "    active=column(arr,5)\n",
    "    cases_diff=np.diff(cases)\n",
    "    recovery_diff=np.diff(recovery)\n",
    "    dead_diff=np.diff(dead)\n",
    "    active_diff=np.diff(active)\n",
    "    \n",
    "    cases_ddays=[get_doubling_s(cases_diff[i-1]/cases[i-1]) for i in range(start_day,end_day)]\n",
    "    recovery_ddays=[get_doubling_s(recovery_diff[i-1]/recovery[i-1]) for i in range(start_day,end_day)]\n",
    "    dead_ddays=[get_doubling_s(dead_diff[i-1]/dead[i-1]) for i in range(start_day,end_day)]\n",
    "    active_ddays=[get_doubling_s(active_diff[i-1]/active[i-1]) for i in range(start_day,end_day)]\n",
    "    color=next(colorcycler)\n",
    "    if type==\"dead\":    \n",
    "        if len(states)==1:\n",
    "            color=\"red\"\n",
    "        ax1.plot(column(arr,1)[range(start_day,end_day)],dead[range(start_day,end_day)],markersize=8,marker=\"o\",linewidth=1,color=color,label=state)\n",
    "        ax2.bar(column(arr,1)[range(start_day,end_day)],dead_diff[range(start_day-1,end_day-1)],color=color,label=state,width=0.5)\n",
    "        ax3.plot(column(arr,1)[range(start_day,end_day)],dead_ddays,markersize=8,marker=\"o\",linewidth=1,color=color,label=state)\n",
    "    if type==\"active\":    \n",
    "        if len(states)==1:\n",
    "            color=\"yellow\"\n",
    "        \n",
    "        ax1.plot(column(arr,1)[range(start_day,end_day)],active[range(start_day,end_day)],markersize=8,marker=\"o\",linewidth=1,color=color,label=state)\n",
    "        ax2.bar(column(arr,1)[range(start_day,end_day)],active_diff[range(start_day-1,end_day-1)],color=color,label=state,width=0.5)\n",
    "        ax3.plot(column(arr,1)[range(start_day,end_day)],active_ddays,markersize=8,marker=\"o\",linewidth=1,color=color,label=state)\n",
    "    if type==\"cases\":    \n",
    "        if len(states)==1:\n",
    "            color=\"blue\"\n",
    "        ax1.plot(column(arr,1)[range(start_day,end_day)],cases[range(start_day,end_day)],markersize=8,marker=\"o\",linewidth=1,color=color,label=state)\n",
    "        ax2.bar(column(arr,1)[range(start_day,end_day)],cases_diff[range(start_day-1,end_day-1)],color=color,label=state,width=0.5)\n",
    "        ax3.plot(column(arr,1)[range(start_day,end_day)],cases_ddays,markersize=8,marker=\"o\",linewidth=1,color=color,label=state)\n",
    "    \n",
    "    if type==\"recovery\":    \n",
    "        if len(states)==1:\n",
    "            color=\"green\"\n",
    "        ax1.plot(column(arr,1)[range(start_day,end_day)],recovery[range(start_day,end_day)],markersize=8,marker=\"o\",linewidth=1,color=color,label=state)\n",
    "        ax2.bar(column(arr,1)[range(start_day,end_day)],recovery_diff[range(start_day-1,end_day-1)],color=color,label=state,width=0.5)\n",
    "        ax3.plot(column(arr,1)[range(start_day,end_day)],recovery_ddays,markersize=8,marker=\"o\",linewidth=1,color=color,label=state)\n",
    "    \n",
    "    \n",
    "\n",
    "ax3.set_xticks(range(0,end_day-start_day,10))\n",
    "ax3.set_xlabel(\"Date\",weight='bold')\n",
    "ax1.set_ylabel(\"Cummulative\",weight='bold')\n",
    "ax2.set_ylabel(\"Daily New\",weight='bold')\n",
    "ax3.set_ylabel(\"Doubling days\",weight='bold')\n",
    "#ax1.set_xticks(fontsize=10)\n",
    "ax1.grid()\n",
    "ax2.grid()\n",
    "ax3.grid()\n",
    "ax1.legend(frameon=False,loc=0)\n",
    "ax1.set_title(\"Covid-19 \"+ type+\" in \"+ \" , \".join(states))\n",
    "from matplotlib import rc\n",
    "rc('font', weight='bold',size=12)\n",
    "plt.show()\n"
   ]
  },
  {
   "cell_type": "code",
   "execution_count": null,
   "metadata": {},
   "outputs": [],
   "source": []
  }
 ],
 "metadata": {
  "anaconda-cloud": {},
  "kernelspec": {
   "display_name": "Python 3",
   "language": "python",
   "name": "python3"
  },
  "language_info": {
   "codemirror_mode": {
    "name": "ipython",
    "version": 3
   },
   "file_extension": ".py",
   "mimetype": "text/x-python",
   "name": "python",
   "nbconvert_exporter": "python",
   "pygments_lexer": "ipython3",
   "version": "3.7.7"
  }
 },
 "nbformat": 4,
 "nbformat_minor": 4
}
