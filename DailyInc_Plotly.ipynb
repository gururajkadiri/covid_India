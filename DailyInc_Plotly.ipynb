{
 "cells": [
  {
   "cell_type": "code",
   "execution_count": null,
   "metadata": {},
   "outputs": [],
   "source": [
    "from impfuncs import *\n",
    "import matplotlib.pyplot as plt\n",
    "\n",
    "from plotly.subplots import make_subplots\n",
    "import plotly.graph_objects as go\n",
    "fig = make_subplots(rows=4, cols=1,shared_xaxes=True, \n",
    "                    vertical_spacing=0.02)\n"
   ]
  },
  {
   "cell_type": "code",
   "execution_count": null,
   "metadata": {},
   "outputs": [],
   "source": [
    "\n",
    "start_day=25\n",
    "end_day=68\n",
    "\n",
    "dfs=populate_dfs()    "
   ]
  },
  {
   "cell_type": "code",
   "execution_count": null,
   "metadata": {},
   "outputs": [],
   "source": [
    "color=next(colorcycler)\n",
    "arr=load_Data(dfs,state=state,day_max=end_day)\n",
    "cases=column(arr,2)\n",
    "recovery=column(arr,3)\n",
    "dead=column(arr,4)\n",
    "active=column(arr,5)\n",
    "cases_diff=np.diff(cases)\n",
    "recovery_diff=np.diff(recovery)\n",
    "dead_diff=np.diff(dead)\n",
    "active_diff=np.diff(active)\n",
    "\n",
    "cases_ddays=[get_doubling_s(cases_diff[i-1]/cases[i-1]) for i in range(start_day,end_day)]\n",
    "recovery_ddays=[get_doubling_s(recovery_diff[i-1]/recovery[i-1]) for i in range(start_day,end_day)]\n",
    "dead_ddays=[get_doubling_s(dead_diff[i-1]/dead[i-1]) for i in range(start_day,end_day)]\n",
    "active_ddays=[get_doubling_s(active_diff[i-1]/active[i-1]) for i in range(start_day,end_day)]\n",
    "\n",
    "cases_rate=[cases_diff[i-1]*100/cases[i-1] for i in range(start_day,end_day)]\n",
    "recovery_rate=[recovery_diff[i-1]*100/recovery[i-1] for i in range(start_day,end_day)]\n",
    "dead_rate=[dead_diff[i-1]*100/dead[i-1] for i in range(start_day,end_day)]\n",
    "active_rate=[active_diff[i-1]*100/active[i-1] for i in range(start_day,end_day)]\n",
    "x=column(arr,1)[range(start_day,end_day)]    \n",
    "y_dead=dead[range(start_day,end_day)]\n",
    "y_dead_diff=dead_diff[range(start_day-1,end_day-1)]\n",
    "y_dead_ddays=dead_ddays\n",
    "y_dead_rate=dead_rate\n",
    "y_active=active[range(start_day,end_day)]\n",
    "y_active_diff=active_diff[range(start_day-1,end_day-1)]\n",
    "y_active_ddays=active_ddays\n",
    "y_active_rate=active_rate\n",
    "y_cases=cases[range(start_day,end_day)]\n",
    "y_cases_diff=cases_diff[range(start_day-1,end_day-1)]\n",
    "y_cases_ddays=cases_ddays\n",
    "y_cases_rate=cases_rate\n",
    "y_recovery=recovery[range(start_day,end_day)]\n",
    "y_recovery_diff=recovery_diff[range(start_day-1,end_day-1)]\n",
    "y_recovery_ddays=recovery_ddays\n",
    "y_recovery_rate=recovery_rate\n"
   ]
  },
  {
   "cell_type": "code",
   "execution_count": null,
   "metadata": {},
   "outputs": [],
   "source": [
    "p_cases=go.Scatter(x=x,y=y_cases,name=\"Cases\",marker={'color': \"blue\",'line':dict(width=2)},mode=\"lines+markers\")\n",
    "p_recovery=go.Scatter(x=x,y=y_recovery,name=\"Recovered\",marker={'color': \"green\",'line':dict(width=2)},mode=\"lines+markers\")\n",
    "p_dead=go.Scatter(x=x,y=y_dead,name=\"Dead\",marker={'color': \"red\",'line':dict(width=2)},mode=\"lines+markers\")\n",
    "p_active=go.Scatter(x=x,y=y_active,name=\"Active\",marker={'color': \"black\",'line':dict(width=2)},mode=\"lines+markers\")\n",
    "\n",
    "p_cases_diff=go.Bar(x=x,y=y_cases_diff,name=\"Daily cases\",marker={'color': \"blue\"})\n",
    "p_recovery_diff=go.Bar(x=x,y=y_recovery_diff,name=\"Daily recovered\",marker={'color': \"green\"})\n",
    "p_dead_diff=go.Bar(x=x,y=y_dead_diff,name=\"Daily deaths\",marker={'color': \"red\"})\n",
    "p_active_diff=go.Bar(x=x,y=y_active_diff,name=\"Daily active\",marker={'color': \"black\"})\n",
    "\n",
    "p_cases_ddays=go.Scatter(x=x,y=y_cases_ddays,name=\"cases doubling days\" ,marker={'color': \"blue\",'line':dict(width=2)},mode=\"lines+markers\")\n",
    "p_recovery_ddays=go.Scatter(x=x,y=y_recovery_ddays,name=\"Recovered doubling days\",marker={'color': \"green\",'line':dict(width=2)},mode=\"lines+markers\")\n",
    "p_dead_ddays=go.Scatter(x=x,y=y_dead_ddays,name=\"Dead doubling days\",marker={'color': \"red\",'line':dict(width=2)},mode=\"lines+markers\")\n",
    "p_active_ddays=go.Scatter(x=x,y=y_active_ddays,name=\"Active doubling days\",marker={'color': \"black\",'line':dict(width=2)},mode=\"lines+markers\")\n",
    "\n",
    "p_cases_rate=go.Scatter(x=x,y=y_cases_rate,name=\"Cases inc rate\",marker={'color': \"blue\",'line':dict(width=2)},mode=\"lines+markers\")\n",
    "p_recovery_rate=go.Scatter(x=x,y=y_recovery_rate,name=\"Recovery inc rate\",marker={'color': \"green\",'line':dict(width=2)},mode=\"lines+markers\")\n",
    "p_dead_rate=go.Scatter(x=x,y=y_dead_rate,name=\"Death inc rate\",marker={'color': \"red\",'line':dict(width=2)},mode=\"lines+markers\")\n",
    "p_active_rate=go.Scatter(x=x,y=y_active_rate,name=\"Active inc rate\",marker={'color': \"black\",'line':dict(width=2)},mode=\"lines+markers\")\n",
    "\n"
   ]
  },
  {
   "cell_type": "code",
   "execution_count": null,
   "metadata": {},
   "outputs": [],
   "source": [
    "fig.append_trace(p_cases,row=1,col=1)\n",
    "fig.append_trace(p_recovery,row=1,col=1)\n",
    "fig.append_trace(p_dead,row=1,col=1)\n",
    "fig.append_trace(p_active,row=1,col=1)\n",
    "\n",
    "fig.append_trace(p_cases_diff,row=2,col=1)\n",
    "fig.append_trace(p_recovery_diff,row=2,col=1)\n",
    "fig.append_trace(p_dead_diff,row=2,col=1)\n",
    "fig.append_trace(p_active_diff,row=2,col=1)\n",
    "\n",
    "fig.append_trace(p_cases_rate,row=3,col=1)\n",
    "fig.append_trace(p_recovery_rate,row=3,col=1)\n",
    "fig.append_trace(p_dead_rate,row=3,col=1)\n",
    "fig.append_trace(p_active_rate,row=3,col=1)\n",
    "\n",
    "fig.append_trace(p_cases_ddays,row=4,col=1)\n",
    "fig.append_trace(p_recovery_ddays,row=4,col=1)\n",
    "fig.append_trace(p_dead_ddays,row=4,col=1)\n",
    "fig.append_trace(p_active_ddays,row=4,col=1)\n"
   ]
  },
  {
   "cell_type": "code",
   "execution_count": null,
   "metadata": {},
   "outputs": [],
   "source": [
    "fig.update_layout(height=900, width=900,title=\"Consolidated plots for \"+state)\n",
    "fig.update_yaxes(title_text=\"Cummulative\", row=1, col=1)\n",
    "fig.update_yaxes(title_text=\"Daily Addition\", row=2, col=1)\n",
    "fig.update_yaxes(title_text=\"Daily Addition %\", row=3, col=1)\n",
    "fig.update_yaxes(title_text=\"Doubling days\", row=4, col=1)\n",
    "fig.write_html('index.html', auto_open=True)\n"
   ]
  },
  {
   "cell_type": "code",
   "execution_count": 1,
   "metadata": {},
   "outputs": [
    {
     "data": {
      "text/plain": [
       "19683"
      ]
     },
     "execution_count": 1,
     "metadata": {},
     "output_type": "execute_result"
    }
   ],
   "source": [
    "pow(3,9)"
   ]
  }
 ],
 "metadata": {
  "kernelspec": {
   "display_name": "xpython",
   "language": "python",
   "name": "xpython"
  },
  "language_info": {
   "file_extension": ".py",
   "mimetype": "text/x-python",
   "name": "python",
   "version": "3.7.6"
  }
 },
 "nbformat": 4,
 "nbformat_minor": 4
}
