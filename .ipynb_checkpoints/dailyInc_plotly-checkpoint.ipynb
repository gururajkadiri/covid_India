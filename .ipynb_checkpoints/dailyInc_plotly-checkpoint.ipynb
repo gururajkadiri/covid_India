{
 "cells": [
  {
   "cell_type": "code",
   "execution_count": 13,
   "metadata": {},
   "outputs": [],
   "source": [
    "from impfuncs import *\n",
    "import matplotlib.pyplot as plt\n",
    "\n",
    "from plotly.subplots import make_subplots\n",
    "import plotly.graph_objects as go\n",
    "\n"
   ]
  },
  {
   "cell_type": "code",
   "execution_count": 14,
   "metadata": {},
   "outputs": [],
   "source": [
    "state=\"Tamilnadu\"\n",
    "start_day=25\n",
    "end_day=68\n",
    "\n",
    "dfs=populate_dfs()    "
   ]
  },
  {
   "cell_type": "code",
   "execution_count": 15,
   "metadata": {},
   "outputs": [
    {
     "name": "stderr",
     "output_type": "stream",
     "text": [
      "./impfuncs.py:142: RuntimeWarning:\n",
      "\n",
      "divide by zero encountered in double_scalars\n",
      "\n"
     ]
    }
   ],
   "source": [
    "fig = make_subplots(rows=4, cols=1,shared_xaxes=True, \n",
    "                    vertical_spacing=0.02)\n",
    "color=next(colorcycler)\n",
    "arr=load_Data(dfs,state=state,day_max=end_day)\n",
    "cases=column(arr,2)\n",
    "recovery=column(arr,3)\n",
    "dead=column(arr,4)\n",
    "active=column(arr,5)\n",
    "cases_diff=np.diff(cases)\n",
    "recovery_diff=np.diff(recovery)\n",
    "dead_diff=np.diff(dead)\n",
    "active_diff=np.diff(active)\n",
    "\n",
    "cases_ddays=[get_doubling_s(cases_diff[i-1]/cases[i-1]) for i in range(start_day,end_day)]\n",
    "recovery_ddays=[get_doubling_s(recovery_diff[i-1]/recovery[i-1]) for i in range(start_day,end_day)]\n",
    "dead_ddays=[get_doubling_s(dead_diff[i-1]/dead[i-1]) for i in range(start_day,end_day)]\n",
    "active_ddays=[get_doubling_s(active_diff[i-1]/active[i-1]) for i in range(start_day,end_day)]\n",
    "\n",
    "cases_rate=[cases_diff[i-1]*100/cases[i-1] for i in range(start_day,end_day)]\n",
    "recovery_rate=[recovery_diff[i-1]*100/recovery[i-1] for i in range(start_day,end_day)]\n",
    "dead_rate=[dead_diff[i-1]*100/dead[i-1] for i in range(start_day,end_day)]\n",
    "active_rate=[active_diff[i-1]*100/active[i-1] for i in range(start_day,end_day)]\n",
    "x=column(arr,1)[range(start_day,end_day)]    \n",
    "y_dead=dead[range(start_day,end_day)]\n",
    "y_dead_diff=dead_diff[range(start_day-1,end_day-1)]\n",
    "y_dead_ddays=dead_ddays\n",
    "y_dead_rate=dead_rate\n",
    "y_active=active[range(start_day,end_day)]\n",
    "y_active_diff=active_diff[range(start_day-1,end_day-1)]\n",
    "y_active_ddays=active_ddays\n",
    "y_active_rate=active_rate\n",
    "y_cases=cases[range(start_day,end_day)]\n",
    "y_cases_diff=cases_diff[range(start_day-1,end_day-1)]\n",
    "y_cases_ddays=cases_ddays\n",
    "y_cases_rate=cases_rate\n",
    "y_recovery=recovery[range(start_day,end_day)]\n",
    "y_recovery_diff=recovery_diff[range(start_day-1,end_day-1)]\n",
    "y_recovery_ddays=recovery_ddays\n",
    "y_recovery_rate=recovery_rate\n"
   ]
  },
  {
   "cell_type": "code",
   "execution_count": 16,
   "metadata": {},
   "outputs": [],
   "source": [
    "p_cases=go.Scatter(x=x,y=y_cases,name=\"Cases\",marker={'color': \"blue\",'line':dict(width=2)},mode=\"lines+markers\")\n",
    "p_recovery=go.Scatter(x=x,y=y_recovery,name=\"Recovered\",marker={'color': \"green\",'line':dict(width=2)},mode=\"lines+markers\")\n",
    "p_dead=go.Scatter(x=x,y=y_dead,name=\"Dead\",marker={'color': \"red\",'line':dict(width=2)},mode=\"lines+markers\")\n",
    "p_active=go.Scatter(x=x,y=y_active,name=\"Active\",marker={'color': \"black\",'line':dict(width=2)},mode=\"lines+markers\")\n",
    "\n",
    "p_cases_diff=go.Bar(x=x,y=y_cases_diff,name=\"Daily cases\",marker={'color': \"blue\"})\n",
    "p_recovery_diff=go.Bar(x=x,y=y_recovery_diff,name=\"Daily recovered\",marker={'color': \"green\"})\n",
    "p_dead_diff=go.Bar(x=x,y=y_dead_diff,name=\"Daily deaths\",marker={'color': \"red\"})\n",
    "p_active_diff=go.Bar(x=x,y=y_active_diff,name=\"Daily active\",marker={'color': \"black\"})\n",
    "\n",
    "p_cases_ddays=go.Scatter(x=x,y=y_cases_ddays,name=\"cases doubling days\" ,marker={'color': \"blue\",'line':dict(width=2)},mode=\"lines+markers\")\n",
    "p_recovery_ddays=go.Scatter(x=x,y=y_recovery_ddays,name=\"Recovered doubling days\",marker={'color': \"green\",'line':dict(width=2)},mode=\"lines+markers\")\n",
    "p_dead_ddays=go.Scatter(x=x,y=y_dead_ddays,name=\"Dead doubling days\",marker={'color': \"red\",'line':dict(width=2)},mode=\"lines+markers\")\n",
    "p_active_ddays=go.Scatter(x=x,y=y_active_ddays,name=\"Active doubling days\",marker={'color': \"black\",'line':dict(width=2)},mode=\"lines+markers\")\n",
    "\n",
    "p_cases_rate=go.Scatter(x=x,y=y_cases_rate,name=\"Cases inc rate\",marker={'color': \"blue\",'line':dict(width=2)},mode=\"lines+markers\")\n",
    "p_recovery_rate=go.Scatter(x=x,y=y_recovery_rate,name=\"Recovery inc rate\",marker={'color': \"green\",'line':dict(width=2)},mode=\"lines+markers\")\n",
    "p_dead_rate=go.Scatter(x=x,y=y_dead_rate,name=\"Death inc rate\",marker={'color': \"red\",'line':dict(width=2)},mode=\"lines+markers\")\n",
    "p_active_rate=go.Scatter(x=x,y=y_active_rate,name=\"Active inc rate\",marker={'color': \"black\",'line':dict(width=2)},mode=\"lines+markers\")\n",
    "\n"
   ]
  },
  {
   "cell_type": "code",
   "execution_count": 17,
   "metadata": {},
   "outputs": [],
   "source": [
    "fig.append_trace(p_cases,row=1,col=1)\n",
    "fig.append_trace(p_recovery,row=1,col=1)\n",
    "fig.append_trace(p_dead,row=1,col=1)\n",
    "fig.append_trace(p_active,row=1,col=1)\n",
    "\n",
    "fig.append_trace(p_cases_diff,row=2,col=1)\n",
    "fig.append_trace(p_recovery_diff,row=2,col=1)\n",
    "fig.append_trace(p_dead_diff,row=2,col=1)\n",
    "fig.append_trace(p_active_diff,row=2,col=1)\n",
    "\n",
    "fig.append_trace(p_cases_rate,row=3,col=1)\n",
    "fig.append_trace(p_recovery_rate,row=3,col=1)\n",
    "fig.append_trace(p_dead_rate,row=3,col=1)\n",
    "fig.append_trace(p_active_rate,row=3,col=1)\n",
    "\n",
    "fig.append_trace(p_cases_ddays,row=4,col=1)\n",
    "fig.append_trace(p_recovery_ddays,row=4,col=1)\n",
    "fig.append_trace(p_dead_ddays,row=4,col=1)\n",
    "fig.append_trace(p_active_ddays,row=4,col=1)\n"
   ]
  },
  {
   "cell_type": "code",
   "execution_count": 18,
   "metadata": {},
   "outputs": [
    {
     "ename": "AttributeError",
     "evalue": "module 'display' has no attribute 'display_html'",
     "output_type": "error",
     "traceback": [
      "\u001b[0;31m---------------------------------------------------------------------------\u001b[0m\n\u001b[0;31mAttributeError\u001b[0m                            Traceback (most recent call last)",
      "In  \u001b[0;34m[18]\u001b[0m:\nLine \u001b[0;34m6\u001b[0m:     fig.show()\n",
      "File \u001b[0;34m/home/gururaj/anaconda3/lib/python3.7/site-packages/plotly/basedatatypes.py\u001b[0m, in \u001b[0;32mshow\u001b[0m:\nLine \u001b[0;34m2794\u001b[0m:  \u001b[34mreturn\u001b[39;49;00m pio.show(\u001b[36mself\u001b[39;49;00m, *args, **kwargs)\n",
      "File \u001b[0;34m/home/gururaj/anaconda3/lib/python3.7/site-packages/plotly/io/_renderers.py\u001b[0m, in \u001b[0;32mshow\u001b[0m:\nLine \u001b[0;34m376\u001b[0m:   bundle = renderers._build_mime_bundle(fig_dict, renderers_string=renderer, **kwargs)\n",
      "File \u001b[0;34m/home/gururaj/anaconda3/lib/python3.7/site-packages/plotly/io/_renderers.py\u001b[0m, in \u001b[0;32m_build_mime_bundle\u001b[0m:\nLine \u001b[0;34m285\u001b[0m:   \u001b[36mself\u001b[39;49;00m._activate_pending_renderers(\u001b[36mcls\u001b[39;49;00m=MimetypeRenderer)\n",
      "File \u001b[0;34m/home/gururaj/anaconda3/lib/python3.7/site-packages/plotly/io/_renderers.py\u001b[0m, in \u001b[0;32m_activate_pending_renderers\u001b[0m:\nLine \u001b[0;34m192\u001b[0m:   renderer.activate()\n",
      "File \u001b[0;34m/home/gururaj/anaconda3/lib/python3.7/site-packages/plotly/io/_base_renderers.py\u001b[0m, in \u001b[0;32mactivate\u001b[0m:\nLine \u001b[0;34m324\u001b[0m:   ipython_display.display_html(script, raw=\u001b[34mTrue\u001b[39;49;00m)\n",
      "\u001b[0;31mAttributeError\u001b[0m: module 'display' has no attribute 'display_html'\n\u001b[0;31m---------------------------------------------------------------------------\u001b[0m"
     ]
    }
   ],
   "source": [
    "fig.update_layout(height=900, width=900,title=\"Consolidated plots for \"+state)\n",
    "fig.update_yaxes(title_text=\"Cummulative\", row=1, col=1)\n",
    "fig.update_yaxes(title_text=\"Daily Addition\", row=2, col=1)\n",
    "fig.update_yaxes(title_text=\"Daily Addition %\", row=3, col=1)\n",
    "fig.update_yaxes(title_text=\"Doubling days\", row=4, col=1)\n",
    "fig.show()"
   ]
  },
  {
   "cell_type": "code",
   "execution_count": null,
   "metadata": {},
   "outputs": [],
   "source": [
    "pow(3,9)"
   ]
  }
 ],
 "metadata": {
  "kernelspec": {
   "display_name": "xpython",
   "language": "python",
   "name": "xpython"
  },
  "language_info": {
   "file_extension": ".py",
   "mimetype": "text/x-python",
   "name": "python",
   "version": "3.7.6"
  }
 },
 "nbformat": 4,
 "nbformat_minor": 4
}
