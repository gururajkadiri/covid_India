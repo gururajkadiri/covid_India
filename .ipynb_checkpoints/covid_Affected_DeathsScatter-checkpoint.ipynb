{
  "cells": [
    {
      "cell_type": "code",
      "metadata": {},
      "source": [
        "#!/usr/bin/env python3\n",
        "# -*- coding: utf-8 -*-\n",
        "\"\"\"\n",
        "Created on Sat Apr 11 16:54:16 2020\n",
        "\n",
        "@author: gururaj\n",
        "\"\"\"\n",
        "\n",
        "import numpy as np\n",
        "import pandas as pd\n",
        "import pandas as pd\n",
        "import sys\n",
        "import matplotlib.pyplot as plt\n",
        "import matplotlib.ticker as ticker\n",
        "import matplotlib.animation as animation\n",
        "from IPython.display import HTML\n",
        "\n",
        "fig, ax = plt.subplots(figsize=(15, 8))\n",
        "colors = dict(zip(\n",
        "    ['Tamilnadu', 'Telangana', 'Maharastra', 'Kerala',\n",
        "     'Delhi', 'Gujarat', 'Rajasthan'],\n",
        "    ['#adb0ff', '#ffb3ff', '#90d595', '#e48381',\n",
        "     '#aafbff', '#f7bb5f', '#eafb50']))\n",
        "\n",
        "df_Cases=pd.read_csv(\"confirmed.csv\",na_values='-')\n",
        "df_Cases.rename(columns={'TN':'Tamilnadu','TG':'Telangana','MH':\"Maharastra\",\"KL\":\"Kerala\",\"DL\":\"Delhi\",\"GJ\":\"Gujarat\",\"RJ\":\"Rajasthan\"},inplace=True)\n",
        "\n",
        "df_Deaths=pd.read_csv(\"deceased.csv\",na_values='-')\n",
        "df_Deaths.rename(columns={'TN':'Tamilnadu','TG':'Telangana','MH':\"Maharastra\",\"KL\":\"Kerala\",\"DL\":\"Delhi\",\"GJ\":\"Gujarat\",\"RJ\":\"Rajasthan\"},inplace=True)\n",
        "\n",
        "\n",
        "df2d=df2d.cumsum(axis=0)\n",
        "df2d.fillna(0,inplace=True)\n",
        "\n",
        "\n",
        "def draw_curve(date):\n",
        "    states=np.array(['Tamilnadu','Telangana','Maharastra','Kerala','Delhi','Gujarat','Rajasthan'])\n",
        "    ax.clear()\n",
        "    for state in states:\n",
        "        cases=df2[states].loc[index]\n",
        "        deaths=df2d[deaths].loc[index]\n",
        "        ax.margins(0, 0.01)\n",
        "        ax.grid(which='major', axis='x', linestyle='-')\n",
        "    \n",
        "animator = animation.FuncAnimation(fig, draw_barchart, frames=range(0, 28),interval=500,repeat=False)\n",
        "HTML(animator.to_jshtml()) \n",
        "animator.save('animation.gif', writer='imagemagick', fps=2)"
      ],
      "outputs": [],
      "execution_count": null
    }
  ],
  "metadata": {
    "anaconda-cloud": {},
    "kernelspec": {
      "display_name": "Python 3",
      "language": "python",
      "name": "python3"
    },
    "language_info": {
      "codemirror_mode": {
        "name": "ipython",
        "version": 3
      },
      "file_extension": ".py",
      "mimetype": "text/x-python",
      "name": "python",
      "nbconvert_exporter": "python",
      "pygments_lexer": "ipython3",
      "version": "3.6.1"
    }
  },
  "nbformat": 4,
  "nbformat_minor": 1
}